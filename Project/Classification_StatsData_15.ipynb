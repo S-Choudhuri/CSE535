{
 "cells": [
  {
   "cell_type": "code",
   "execution_count": 1,
   "metadata": {},
   "outputs": [],
   "source": [
    "import numpy\n",
    "import os\n",
    "import json\n",
    "import csv\n",
    "import pandas as pd\n",
    "import numpy as np\n",
    "np.random.seed(42)"
   ]
  },
  {
   "cell_type": "code",
   "execution_count": 2,
   "metadata": {},
   "outputs": [],
   "source": [
    "path = \"../data\""
   ]
  },
  {
   "cell_type": "code",
   "execution_count": 3,
   "metadata": {},
   "outputs": [],
   "source": [
    "file = \"15output.csv\""
   ]
  },
  {
   "cell_type": "code",
   "execution_count": 4,
   "metadata": {},
   "outputs": [],
   "source": [
    "data = pd.read_csv(os.path.join(path,file),header=None)\n",
    "unbalancedData = pd.read_csv(os.path.join(path,file),header=None)"
   ]
  },
  {
   "cell_type": "code",
   "execution_count": 5,
   "metadata": {},
   "outputs": [
    {
     "data": {
      "text/html": [
       "<div>\n",
       "<style>\n",
       "    .dataframe thead tr:only-child th {\n",
       "        text-align: right;\n",
       "    }\n",
       "\n",
       "    .dataframe thead th {\n",
       "        text-align: left;\n",
       "    }\n",
       "\n",
       "    .dataframe tbody tr th {\n",
       "        vertical-align: top;\n",
       "    }\n",
       "</style>\n",
       "<table border=\"1\" class=\"dataframe\">\n",
       "  <thead>\n",
       "    <tr style=\"text-align: right;\">\n",
       "      <th></th>\n",
       "      <th>0</th>\n",
       "      <th>1</th>\n",
       "      <th>2</th>\n",
       "      <th>3</th>\n",
       "      <th>4</th>\n",
       "      <th>5</th>\n",
       "      <th>6</th>\n",
       "      <th>7</th>\n",
       "      <th>8</th>\n",
       "      <th>9</th>\n",
       "      <th>...</th>\n",
       "      <th>125</th>\n",
       "      <th>126</th>\n",
       "      <th>127</th>\n",
       "      <th>128</th>\n",
       "      <th>129</th>\n",
       "      <th>130</th>\n",
       "      <th>131</th>\n",
       "      <th>132</th>\n",
       "      <th>133</th>\n",
       "      <th>134</th>\n",
       "    </tr>\n",
       "  </thead>\n",
       "  <tbody>\n",
       "    <tr>\n",
       "      <th>0</th>\n",
       "      <td>Kuntal-01234567891011121314</td>\n",
       "      <td>-1.821160</td>\n",
       "      <td>-2.104494</td>\n",
       "      <td>-2.158601</td>\n",
       "      <td>-0.945837</td>\n",
       "      <td>-0.793073</td>\n",
       "      <td>-0.922855</td>\n",
       "      <td>-0.927421</td>\n",
       "      <td>-1.717503</td>\n",
       "      <td>-0.976167</td>\n",
       "      <td>...</td>\n",
       "      <td>0.081189</td>\n",
       "      <td>-0.141640</td>\n",
       "      <td>-0.224180</td>\n",
       "      <td>0.139840</td>\n",
       "      <td>-0.948007</td>\n",
       "      <td>-0.92956</td>\n",
       "      <td>0.621247</td>\n",
       "      <td>0.831673</td>\n",
       "      <td>0.0</td>\n",
       "      <td>0</td>\n",
       "    </tr>\n",
       "    <tr>\n",
       "      <th>1</th>\n",
       "      <td>Kuntal-123456789101112131415</td>\n",
       "      <td>-1.916559</td>\n",
       "      <td>-2.215726</td>\n",
       "      <td>-2.249636</td>\n",
       "      <td>-0.926108</td>\n",
       "      <td>-0.764770</td>\n",
       "      <td>-0.914520</td>\n",
       "      <td>-0.925242</td>\n",
       "      <td>-18.112614</td>\n",
       "      <td>-0.975820</td>\n",
       "      <td>...</td>\n",
       "      <td>0.080267</td>\n",
       "      <td>-0.141640</td>\n",
       "      <td>-0.224180</td>\n",
       "      <td>0.139840</td>\n",
       "      <td>-0.948007</td>\n",
       "      <td>-0.92956</td>\n",
       "      <td>0.621247</td>\n",
       "      <td>0.831673</td>\n",
       "      <td>0.0</td>\n",
       "      <td>0</td>\n",
       "    </tr>\n",
       "    <tr>\n",
       "      <th>2</th>\n",
       "      <td>Kuntal-2345678910111213141516</td>\n",
       "      <td>-1.938727</td>\n",
       "      <td>-2.255051</td>\n",
       "      <td>-2.209741</td>\n",
       "      <td>-0.884230</td>\n",
       "      <td>-0.696507</td>\n",
       "      <td>-0.925001</td>\n",
       "      <td>-0.923249</td>\n",
       "      <td>-23.852875</td>\n",
       "      <td>-0.975372</td>\n",
       "      <td>...</td>\n",
       "      <td>0.078340</td>\n",
       "      <td>-0.145587</td>\n",
       "      <td>-0.242633</td>\n",
       "      <td>0.125593</td>\n",
       "      <td>-0.948007</td>\n",
       "      <td>-0.92956</td>\n",
       "      <td>0.621247</td>\n",
       "      <td>0.831673</td>\n",
       "      <td>0.0</td>\n",
       "      <td>0</td>\n",
       "    </tr>\n",
       "    <tr>\n",
       "      <th>3</th>\n",
       "      <td>Kuntal-34567891011121314151617</td>\n",
       "      <td>-2.036060</td>\n",
       "      <td>-2.379273</td>\n",
       "      <td>-2.278741</td>\n",
       "      <td>-0.872008</td>\n",
       "      <td>-0.732840</td>\n",
       "      <td>-0.936334</td>\n",
       "      <td>-0.922471</td>\n",
       "      <td>-23.584542</td>\n",
       "      <td>-0.975004</td>\n",
       "      <td>...</td>\n",
       "      <td>0.078340</td>\n",
       "      <td>-0.152513</td>\n",
       "      <td>-0.254647</td>\n",
       "      <td>0.125593</td>\n",
       "      <td>-0.948007</td>\n",
       "      <td>-0.92956</td>\n",
       "      <td>0.621247</td>\n",
       "      <td>0.831673</td>\n",
       "      <td>0.0</td>\n",
       "      <td>0</td>\n",
       "    </tr>\n",
       "    <tr>\n",
       "      <th>4</th>\n",
       "      <td>Kuntal-456789101112131415161718</td>\n",
       "      <td>-2.078866</td>\n",
       "      <td>-2.475974</td>\n",
       "      <td>-2.315686</td>\n",
       "      <td>-0.876787</td>\n",
       "      <td>-0.722366</td>\n",
       "      <td>-0.955800</td>\n",
       "      <td>-0.926526</td>\n",
       "      <td>-23.024172</td>\n",
       "      <td>-0.974843</td>\n",
       "      <td>...</td>\n",
       "      <td>0.078340</td>\n",
       "      <td>-0.152513</td>\n",
       "      <td>-0.254647</td>\n",
       "      <td>0.125593</td>\n",
       "      <td>-0.948007</td>\n",
       "      <td>-0.92956</td>\n",
       "      <td>0.621247</td>\n",
       "      <td>0.831673</td>\n",
       "      <td>0.0</td>\n",
       "      <td>0</td>\n",
       "    </tr>\n",
       "  </tbody>\n",
       "</table>\n",
       "<p>5 rows × 135 columns</p>\n",
       "</div>"
      ],
      "text/plain": [
       "                               0         1         2         3         4    \\\n",
       "0      Kuntal-01234567891011121314 -1.821160 -2.104494 -2.158601 -0.945837   \n",
       "1     Kuntal-123456789101112131415 -1.916559 -2.215726 -2.249636 -0.926108   \n",
       "2    Kuntal-2345678910111213141516 -1.938727 -2.255051 -2.209741 -0.884230   \n",
       "3   Kuntal-34567891011121314151617 -2.036060 -2.379273 -2.278741 -0.872008   \n",
       "4  Kuntal-456789101112131415161718 -2.078866 -2.475974 -2.315686 -0.876787   \n",
       "\n",
       "        5         6         7          8         9   ...        125       126  \\\n",
       "0 -0.793073 -0.922855 -0.927421  -1.717503 -0.976167 ...   0.081189 -0.141640   \n",
       "1 -0.764770 -0.914520 -0.925242 -18.112614 -0.975820 ...   0.080267 -0.141640   \n",
       "2 -0.696507 -0.925001 -0.923249 -23.852875 -0.975372 ...   0.078340 -0.145587   \n",
       "3 -0.732840 -0.936334 -0.922471 -23.584542 -0.975004 ...   0.078340 -0.152513   \n",
       "4 -0.722366 -0.955800 -0.926526 -23.024172 -0.974843 ...   0.078340 -0.152513   \n",
       "\n",
       "        127       128       129      130       131       132  133  134  \n",
       "0 -0.224180  0.139840 -0.948007 -0.92956  0.621247  0.831673  0.0    0  \n",
       "1 -0.224180  0.139840 -0.948007 -0.92956  0.621247  0.831673  0.0    0  \n",
       "2 -0.242633  0.125593 -0.948007 -0.92956  0.621247  0.831673  0.0    0  \n",
       "3 -0.254647  0.125593 -0.948007 -0.92956  0.621247  0.831673  0.0    0  \n",
       "4 -0.254647  0.125593 -0.948007 -0.92956  0.621247  0.831673  0.0    0  \n",
       "\n",
       "[5 rows x 135 columns]"
      ]
     },
     "execution_count": 5,
     "metadata": {},
     "output_type": "execute_result"
    }
   ],
   "source": [
    "data.head()"
   ]
  },
  {
   "cell_type": "code",
   "execution_count": 6,
   "metadata": {},
   "outputs": [],
   "source": [
    "noneatData = data[data[data.columns[134]]==0]"
   ]
  },
  {
   "cell_type": "code",
   "execution_count": 7,
   "metadata": {},
   "outputs": [],
   "source": [
    "eatData = data[data[data.columns[134]]==1]"
   ]
  },
  {
   "cell_type": "code",
   "execution_count": 8,
   "metadata": {},
   "outputs": [
    {
     "name": "stdout",
     "output_type": "stream",
     "text": [
      "(74429, 135) (3181, 135)\n"
     ]
    }
   ],
   "source": [
    "print(noneatData.shape,eatData.shape)"
   ]
  },
  {
   "cell_type": "code",
   "execution_count": 9,
   "metadata": {},
   "outputs": [],
   "source": [
    "noneatData = noneatData.sample(n=3181)"
   ]
  },
  {
   "cell_type": "code",
   "execution_count": 10,
   "metadata": {},
   "outputs": [
    {
     "name": "stdout",
     "output_type": "stream",
     "text": [
      "(3181, 135) (3181, 135)\n"
     ]
    }
   ],
   "source": [
    "print(noneatData.shape,eatData.shape)"
   ]
  },
  {
   "cell_type": "markdown",
   "metadata": {},
   "source": [
    "### Data Vectorization"
   ]
  },
  {
   "cell_type": "code",
   "execution_count": 11,
   "metadata": {},
   "outputs": [],
   "source": [
    "data = pd.concat([noneatData,eatData])"
   ]
  },
  {
   "cell_type": "code",
   "execution_count": 12,
   "metadata": {},
   "outputs": [],
   "source": [
    "X_data = np.array(data[data.columns[1:134]].values.tolist())\n",
    "X_unbalancedData = np.array(unbalancedData[unbalancedData.columns[1:134]].values.tolist())"
   ]
  },
  {
   "cell_type": "code",
   "execution_count": 17,
   "metadata": {},
   "outputs": [
    {
     "data": {
      "text/plain": [
       "(133,)"
      ]
     },
     "execution_count": 17,
     "metadata": {},
     "output_type": "execute_result"
    }
   ],
   "source": [
    "#data[data.columns[134]].head()\n",
    "X_data[0].shape"
   ]
  },
  {
   "cell_type": "code",
   "execution_count": 18,
   "metadata": {},
   "outputs": [
    {
     "name": "stdout",
     "output_type": "stream",
     "text": [
      "(6362, 133) (77610, 133)\n"
     ]
    }
   ],
   "source": [
    "print (X_data.shape,X_unbalancedData.shape)"
   ]
  },
  {
   "cell_type": "code",
   "execution_count": 19,
   "metadata": {},
   "outputs": [],
   "source": [
    "Y_data = np.array(data[data.columns[134]].values.tolist())\n",
    "Y_unbalancedData = np.array(unbalancedData[unbalancedData.columns[134]].values.tolist())"
   ]
  },
  {
   "cell_type": "code",
   "execution_count": 20,
   "metadata": {},
   "outputs": [
    {
     "name": "stdout",
     "output_type": "stream",
     "text": [
      "(6362,) (77610,)\n"
     ]
    }
   ],
   "source": [
    "print(Y_data.shape,Y_unbalancedData.shape)"
   ]
  },
  {
   "cell_type": "markdown",
   "metadata": {},
   "source": [
    "### Feature Selection"
   ]
  },
  {
   "cell_type": "markdown",
   "metadata": {},
   "source": [
    "#### L1-based feature selection"
   ]
  },
  {
   "cell_type": "code",
   "execution_count": 21,
   "metadata": {},
   "outputs": [],
   "source": [
    "from sklearn.feature_selection import SelectFromModel\n",
    "from sklearn.svm import LinearSVC"
   ]
  },
  {
   "cell_type": "code",
   "execution_count": 22,
   "metadata": {},
   "outputs": [
    {
     "name": "stderr",
     "output_type": "stream",
     "text": [
      "/home/kuntal/anaconda3/lib/python3.6/site-packages/sklearn/svm/base.py:931: ConvergenceWarning: Liblinear failed to converge, increase the number of iterations.\n",
      "  \"the number of iterations.\", ConvergenceWarning)\n"
     ]
    },
    {
     "data": {
      "text/plain": [
       "(6362, 11)"
      ]
     },
     "execution_count": 22,
     "metadata": {},
     "output_type": "execute_result"
    }
   ],
   "source": [
    "lsvc = LinearSVC(C=0.01, penalty=\"l1\", dual=False).fit(X_data, Y_data)\n",
    "model = SelectFromModel(lsvc, prefit=True)\n",
    "X_new = model.transform(X_data)\n",
    "X_new.shape"
   ]
  },
  {
   "cell_type": "markdown",
   "metadata": {},
   "source": [
    "#### Tree-based feature selection (Works very good)"
   ]
  },
  {
   "cell_type": "code",
   "execution_count": 23,
   "metadata": {},
   "outputs": [
    {
     "name": "stdout",
     "output_type": "stream",
     "text": [
      "[1.08879537e-04 2.55772778e-05 6.43985547e-05 1.41095085e-04\n",
      " 1.26474731e-02 1.83138250e-02 1.22126348e-04 0.00000000e+00\n",
      " 0.00000000e+00 3.94527110e-02 5.85636294e-02 3.94204955e-02\n",
      " 5.77928256e-05 2.43425907e-03 0.00000000e+00 2.07612757e-02\n",
      " 2.03684163e-02 8.33474787e-05 0.00000000e+00 0.00000000e+00\n",
      " 7.66639892e-05 6.44310957e-05 6.43985547e-05 1.08924757e-04\n",
      " 6.43985547e-05 9.65490699e-05 5.11319309e-05 6.43985547e-05\n",
      " 6.43985547e-05 0.00000000e+00 0.00000000e+00 0.00000000e+00\n",
      " 0.00000000e+00 8.99758325e-05 0.00000000e+00 7.66639892e-05\n",
      " 0.00000000e+00 0.00000000e+00 7.33856304e-04 1.21854369e-03\n",
      " 2.81685171e-02 1.60947625e-04 8.13502409e-03 0.00000000e+00\n",
      " 4.03805541e-04 0.00000000e+00 1.60947625e-04 4.06181230e-04\n",
      " 1.99166525e-02 1.95104713e-02 8.56409234e-03 5.77928256e-05\n",
      " 8.12362461e-04 4.12864720e-04 4.12864720e-04 4.12864720e-04\n",
      " 0.00000000e+00 0.00000000e+00 3.92979639e-04 5.85314139e-02\n",
      " 3.90209426e-02 0.00000000e+00 0.00000000e+00 7.66639892e-05\n",
      " 0.00000000e+00 0.00000000e+00 1.99100242e-02 1.95616032e-02\n",
      " 3.90720745e-02 3.99552876e-04 7.66639892e-05 1.53327978e-04\n",
      " 3.99552876e-04 1.99034509e-02 1.02241267e-04 0.00000000e+00\n",
      " 0.00000000e+00 0.00000000e+00 3.94139222e-02 2.55772778e-05\n",
      " 7.66639892e-05 0.00000000e+00 8.61001054e-03 0.00000000e+00\n",
      " 1.17992122e-02 3.90720745e-02 3.90209426e-02 7.80418852e-02\n",
      " 0.00000000e+00 7.67092087e-05 3.12788981e-02 2.96920789e-04\n",
      " 0.00000000e+00 0.00000000e+00 0.00000000e+00 5.11319309e-05\n",
      " 3.92979639e-04 3.12025101e-02 0.00000000e+00 7.99105753e-04\n",
      " 0.00000000e+00 0.00000000e+00 8.13502409e-03 0.00000000e+00\n",
      " 1.27795920e-04 5.85314139e-02 3.99552876e-04 0.00000000e+00\n",
      " 1.17684268e-02 0.00000000e+00 1.17454847e-02 1.95104713e-02\n",
      " 0.00000000e+00 0.00000000e+00 0.00000000e+00 9.65490699e-05\n",
      " 1.96201677e-02 0.00000000e+00 8.63658339e-03 8.25729440e-04\n",
      " 0.00000000e+00 0.00000000e+00 0.00000000e+00 9.65490699e-05\n",
      " 5.08537680e-02 8.16453946e-03 3.96569246e-04 4.25130154e-04\n",
      " 6.43985547e-05 0.00000000e+00 1.95748048e-02 3.92979639e-04\n",
      " 0.00000000e+00]\n",
      "(6362, 36)\n"
     ]
    }
   ],
   "source": [
    "from sklearn.ensemble import ExtraTreesClassifier\n",
    "from sklearn.feature_selection import SelectFromModel\n",
    "\n",
    "clfTree = ExtraTreesClassifier(n_estimators=50)\n",
    "clfTree = clfTree.fit(X_data, Y_data)\n",
    "print (clfTree.feature_importances_)  \n",
    "\n",
    "model = SelectFromModel(clfTree, prefit=True)\n",
    "X_new = model.transform(X_data)\n",
    "print (X_new.shape)"
   ]
  },
  {
   "cell_type": "code",
   "execution_count": 24,
   "metadata": {},
   "outputs": [
    {
     "name": "stdout",
     "output_type": "stream",
     "text": [
      "(77610, 36)\n"
     ]
    }
   ],
   "source": [
    "X_unbalanced_new = model.transform(X_unbalancedData)\n",
    "print(X_unbalanced_new.shape)"
   ]
  },
  {
   "cell_type": "markdown",
   "metadata": {},
   "source": [
    "### Classification"
   ]
  },
  {
   "cell_type": "code",
   "execution_count": 25,
   "metadata": {},
   "outputs": [],
   "source": [
    "from sklearn.svm import SVC"
   ]
  },
  {
   "cell_type": "code",
   "execution_count": 26,
   "metadata": {},
   "outputs": [],
   "source": [
    "clf = SVC(gamma='auto')"
   ]
  },
  {
   "cell_type": "code",
   "execution_count": 27,
   "metadata": {},
   "outputs": [],
   "source": [
    "from sklearn.model_selection import train_test_split\n",
    "X_train, X_test, y_train, y_test = train_test_split(X_new, Y_data, test_size=0.30, random_state=42, shuffle =True)"
   ]
  },
  {
   "cell_type": "code",
   "execution_count": 28,
   "metadata": {},
   "outputs": [
    {
     "name": "stdout",
     "output_type": "stream",
     "text": [
      "[1 1 1 ... 1 1 0]\n"
     ]
    }
   ],
   "source": [
    "print (y_train)"
   ]
  },
  {
   "cell_type": "code",
   "execution_count": 29,
   "metadata": {},
   "outputs": [
    {
     "data": {
      "text/plain": [
       "SVC(C=1.0, cache_size=200, class_weight=None, coef0=0.0,\n",
       "  decision_function_shape='ovr', degree=3, gamma='auto', kernel='rbf',\n",
       "  max_iter=-1, probability=False, random_state=None, shrinking=True,\n",
       "  tol=0.001, verbose=False)"
      ]
     },
     "execution_count": 29,
     "metadata": {},
     "output_type": "execute_result"
    }
   ],
   "source": [
    "clf.fit(X_train,y_train)"
   ]
  },
  {
   "cell_type": "code",
   "execution_count": 30,
   "metadata": {},
   "outputs": [
    {
     "name": "stdout",
     "output_type": "stream",
     "text": [
      "Accuracy: 64.80%\n"
     ]
    }
   ],
   "source": [
    "from sklearn.metrics import accuracy_score\n",
    "preds_val = clf.predict(X_test)\n",
    "accuracy = accuracy_score(y_test, preds_val)\n",
    "print(\"Accuracy: %.2f%%\" % (accuracy * 100.0))"
   ]
  },
  {
   "cell_type": "markdown",
   "metadata": {},
   "source": [
    "#### Parameter Search by GridSearch"
   ]
  },
  {
   "cell_type": "code",
   "execution_count": 31,
   "metadata": {},
   "outputs": [],
   "source": [
    "from sklearn.model_selection import GridSearchCV\n",
    "\n",
    "def svc_param_selection(XData, yData, nfolds):\n",
    "    Cs = [0.001, 0.01, 0.1, 1, 10]\n",
    "    gammas = [0.001, 0.01, 0.1, 1]\n",
    "    kernels = [\"linear\", \"rbf\",\"sigmoid\"]\n",
    "    #kernels = [\"linear\"]\n",
    "    param_grid = {'C': Cs, 'gamma' : gammas, 'kernel' : kernels}\n",
    "    grid_search = GridSearchCV(SVC(cache_size=2000), param_grid, cv=nfolds, n_jobs=-1, verbose=2)\n",
    "    grid_search.fit(XData, yData)\n",
    "    grid_search.best_params_\n",
    "    return grid_search.best_params_"
   ]
  },
  {
   "cell_type": "code",
   "execution_count": 32,
   "metadata": {},
   "outputs": [
    {
     "name": "stdout",
     "output_type": "stream",
     "text": [
      "Fitting 5 folds for each of 60 candidates, totalling 300 fits\n"
     ]
    },
    {
     "name": "stderr",
     "output_type": "stream",
     "text": [
      "[Parallel(n_jobs=-1)]: Using backend LokyBackend with 4 concurrent workers.\n",
      "[Parallel(n_jobs=-1)]: Done  33 tasks      | elapsed:   41.1s\n",
      "[Parallel(n_jobs=-1)]: Done 154 tasks      | elapsed:  2.7min\n",
      "[Parallel(n_jobs=-1)]: Done 300 out of 300 | elapsed:  4.9min finished\n"
     ]
    }
   ],
   "source": [
    "best_params = svc_param_selection(X_train,y_train,5)"
   ]
  },
  {
   "cell_type": "code",
   "execution_count": 33,
   "metadata": {},
   "outputs": [
    {
     "data": {
      "text/plain": [
       "{'C': 0.001, 'gamma': 0.001, 'kernel': 'linear'}"
      ]
     },
     "execution_count": 33,
     "metadata": {},
     "output_type": "execute_result"
    }
   ],
   "source": [
    "best_params"
   ]
  },
  {
   "cell_type": "code",
   "execution_count": 34,
   "metadata": {},
   "outputs": [],
   "source": [
    "clf = SVC(gamma=best_params['gamma'], C=best_params['C'], kernel = best_params['kernel'])\n",
    "#clf = SVC(gamma=0.001, C=0.1, kernel = 'linear')"
   ]
  },
  {
   "cell_type": "code",
   "execution_count": 35,
   "metadata": {},
   "outputs": [
    {
     "data": {
      "text/plain": [
       "SVC(C=0.001, cache_size=200, class_weight=None, coef0=0.0,\n",
       "  decision_function_shape='ovr', degree=3, gamma=0.001, kernel='linear',\n",
       "  max_iter=-1, probability=False, random_state=None, shrinking=True,\n",
       "  tol=0.001, verbose=False)"
      ]
     },
     "execution_count": 35,
     "metadata": {},
     "output_type": "execute_result"
    }
   ],
   "source": [
    "clf.fit(X_train,y_train)"
   ]
  },
  {
   "cell_type": "markdown",
   "metadata": {},
   "source": [
    "#### Testing Accuracy"
   ]
  },
  {
   "cell_type": "code",
   "execution_count": 36,
   "metadata": {},
   "outputs": [
    {
     "name": "stdout",
     "output_type": "stream",
     "text": [
      "Accuracy: 64.80%\n"
     ]
    }
   ],
   "source": [
    "preds_val = clf.predict(X_test)\n",
    "accuracy = accuracy_score(y_test, preds_val)\n",
    "print(\"Accuracy: %.2f%%\" % (accuracy * 100.0))"
   ]
  },
  {
   "cell_type": "code",
   "execution_count": 37,
   "metadata": {},
   "outputs": [],
   "source": [
    "from sklearn.metrics import confusion_matrix"
   ]
  },
  {
   "cell_type": "code",
   "execution_count": 38,
   "metadata": {},
   "outputs": [
    {
     "data": {
      "text/plain": [
       "array([[778, 184],\n",
       "       [488, 459]])"
      ]
     },
     "execution_count": 38,
     "metadata": {},
     "output_type": "execute_result"
    }
   ],
   "source": [
    "confusion_matrix(y_test, preds_val)"
   ]
  },
  {
   "cell_type": "code",
   "execution_count": 39,
   "metadata": {},
   "outputs": [
    {
     "data": {
      "text/plain": [
       "(1909,)"
      ]
     },
     "execution_count": 39,
     "metadata": {},
     "output_type": "execute_result"
    }
   ],
   "source": [
    "preds_val.shape"
   ]
  },
  {
   "cell_type": "code",
   "execution_count": 40,
   "metadata": {},
   "outputs": [],
   "source": [
    "from sklearn.utils.multiclass import unique_labels\n",
    "import matplotlib.pyplot as plt\n",
    "def plot_confusion_matrix(y_true, y_pred, classes,\n",
    "                          normalize=False,\n",
    "                          title=None,\n",
    "                          cmap=plt.cm.Blues):\n",
    "    \"\"\"\n",
    "    This function prints and plots the confusion matrix.\n",
    "    Normalization can be applied by setting `normalize=True`.\n",
    "    \"\"\"\n",
    "    if not title:\n",
    "        if normalize:\n",
    "            title = 'Normalized confusion matrix'\n",
    "        else:\n",
    "            title = 'Confusion matrix, without normalization'\n",
    "\n",
    "    # Compute confusion matrix\n",
    "    cm = confusion_matrix(y_true, y_pred)\n",
    "    # Only use the labels that appear in the data\n",
    "    classes = classes[unique_labels(y_true, y_pred)]\n",
    "    if normalize:\n",
    "        cm = cm.astype('float') / cm.sum(axis=1)[:, np.newaxis]\n",
    "        print(\"Normalized confusion matrix\")\n",
    "    else:\n",
    "        print('Confusion matrix, without normalization')\n",
    "\n",
    "    print(cm)\n",
    "\n",
    "    fig, ax = plt.subplots()\n",
    "    im = ax.imshow(cm, interpolation='nearest', cmap=cmap)\n",
    "    ax.figure.colorbar(im, ax=ax)\n",
    "    # We want to show all ticks...\n",
    "    ax.set(xticks=np.arange(cm.shape[1]),\n",
    "           yticks=np.arange(cm.shape[0]),\n",
    "           # ... and label them with the respective list entries\n",
    "           xticklabels=classes, yticklabels=classes,\n",
    "           title=title,\n",
    "           ylabel='True label',\n",
    "           xlabel='Predicted label')\n",
    "\n",
    "    # Rotate the tick labels and set their alignment.\n",
    "    plt.setp(ax.get_xticklabels(), rotation=45, ha=\"right\",\n",
    "             rotation_mode=\"anchor\")\n",
    "\n",
    "    # Loop over data dimensions and create text annotations.\n",
    "    fmt = '.2f' if normalize else 'd'\n",
    "    thresh = cm.max() / 2.\n",
    "    for i in range(cm.shape[0]):\n",
    "        for j in range(cm.shape[1]):\n",
    "            ax.text(j, i, format(cm[i, j], fmt),\n",
    "                    ha=\"center\", va=\"center\",\n",
    "                    color=\"white\" if cm[i, j] > thresh else \"black\")\n",
    "    fig.tight_layout()\n",
    "    return ax"
   ]
  },
  {
   "cell_type": "code",
   "execution_count": 41,
   "metadata": {},
   "outputs": [
    {
     "name": "stdout",
     "output_type": "stream",
     "text": [
      "Confusion matrix, without normalization\n",
      "[[778 184]\n",
      " [488 459]]\n"
     ]
    },
    {
     "data": {
      "text/plain": [
       "<matplotlib.axes._subplots.AxesSubplot at 0x7fcb45067940>"
      ]
     },
     "execution_count": 41,
     "metadata": {},
     "output_type": "execute_result"
    },
    {
     "data": {
      "image/png": "[encoded data removed]",
      "text/plain": [
       "<Figure size 432x288 with 2 Axes>"
      ]
     },
     "metadata": {
      "needs_background": "light"
     },
     "output_type": "display_data"
    }
   ],
   "source": [
    "plot_confusion_matrix(y_test, preds_val,np.array(['Non-Eat','Eat']))"
   ]
  },
  {
   "cell_type": "markdown",
   "metadata": {},
   "source": [
    "#### Testing with Unbalanced data (77670 samples)"
   ]
  },
  {
   "cell_type": "code",
   "execution_count": 43,
   "metadata": {},
   "outputs": [
    {
     "name": "stdout",
     "output_type": "stream",
     "text": [
      "Accuracy: 77.98%\n"
     ]
    }
   ],
   "source": [
    "#print(X_unbalanced_new.shape)\n",
    "preds_val_unbalanced = clf.predict(X_unbalanced_new)\n",
    "accuracy = accuracy_score(Y_unbalancedData, preds_val_unbalanced)\n",
    "print(\"Accuracy: %.2f%%\" % (accuracy * 100.0))"
   ]
  },
  {
   "cell_type": "code",
   "execution_count": 44,
   "metadata": {},
   "outputs": [
    {
     "name": "stdout",
     "output_type": "stream",
     "text": [
      "Confusion matrix, without normalization\n",
      "[[59061 15368]\n",
      " [ 1721  1460]]\n"
     ]
    },
    {
     "data": {
      "text/plain": [
       "<matplotlib.axes._subplots.AxesSubplot at 0x7fcb45051860>"
      ]
     },
     "execution_count": 44,
     "metadata": {},
     "output_type": "execute_result"
    },
    {
     "data": {
      "image/png": "[encoded data removed]",
      "text/plain": [
       "<Figure size 432x288 with 2 Axes>"
      ]
     },
     "metadata": {
      "needs_background": "light"
     },
     "output_type": "display_data"
    }
   ],
   "source": [
    "plot_confusion_matrix(Y_unbalancedData, preds_val_unbalanced,np.array(['Non-Eat','Eat']))"
   ]
  },
  {
   "cell_type": "markdown",
   "metadata": {},
   "source": [
    "### Training Accuracy"
   ]
  },
  {
   "cell_type": "code",
   "execution_count": 45,
   "metadata": {},
   "outputs": [
    {
     "name": "stdout",
     "output_type": "stream",
     "text": [
      "(4453, 36)\n",
      "Accuracy: 61.58%\n"
     ]
    }
   ],
   "source": [
    "print(X_train.shape)\n",
    "preds_val_train = clf.predict(X_train)\n",
    "accuracy = accuracy_score(y_train, preds_val_train)\n",
    "print(\"Accuracy: %.2f%%\" % (accuracy * 100.0))"
   ]
  },
  {
   "cell_type": "code",
   "execution_count": 46,
   "metadata": {},
   "outputs": [
    {
     "name": "stdout",
     "output_type": "stream",
     "text": [
      "Confusion matrix, without normalization\n",
      "[[1741  478]\n",
      " [1233 1001]]\n"
     ]
    },
    {
     "data": {
      "text/plain": [
       "<matplotlib.axes._subplots.AxesSubplot at 0x7fcb407e83c8>"
      ]
     },
     "execution_count": 46,
     "metadata": {},
     "output_type": "execute_result"
    },
    {
     "data": {
      "image/png": "[encoded data removed]",
      "text/plain": [
       "<Figure size 432x288 with 2 Axes>"
      ]
     },
     "metadata": {
      "needs_background": "light"
     },
     "output_type": "display_data"
    }
   ],
   "source": [
    "plot_confusion_matrix(y_train, preds_val_train,np.array(['Non-Eat','Eat']))"
   ]
  },
  {
   "cell_type": "markdown",
   "metadata": {},
   "source": [
    "## Random Forest"
   ]
  },
  {
   "cell_type": "code",
   "execution_count": 47,
   "metadata": {},
   "outputs": [],
   "source": [
    "from  sklearn.ensemble import RandomForestClassifier\n",
    "model1 = RandomForestClassifier(random_state=0)"
   ]
  },
  {
   "cell_type": "code",
   "execution_count": 48,
   "metadata": {},
   "outputs": [],
   "source": [
    "from sklearn.model_selection import GridSearchCV\n",
    "parameters = {'n_estimators':(5,10,20), \n",
    "              'max_depth': range(1, 10, 5),\n",
    "             }\n",
    "    "
   ]
  },
  {
   "cell_type": "code",
   "execution_count": 49,
   "metadata": {},
   "outputs": [
    {
     "data": {
      "text/plain": [
       "dict_keys(['bootstrap', 'class_weight', 'criterion', 'max_depth', 'max_features', 'max_leaf_nodes', 'min_impurity_decrease', 'min_impurity_split', 'min_samples_leaf', 'min_samples_split', 'min_weight_fraction_leaf', 'n_estimators', 'n_jobs', 'oob_score', 'random_state', 'verbose', 'warm_start'])"
      ]
     },
     "execution_count": 49,
     "metadata": {},
     "output_type": "execute_result"
    }
   ],
   "source": [
    "model1.get_params().keys()"
   ]
  },
  {
   "cell_type": "code",
   "execution_count": 50,
   "metadata": {},
   "outputs": [],
   "source": [
    "gs_clf = GridSearchCV(RandomForestClassifier(random_state=0),parameters, cv=5, n_jobs=1,verbose=2)"
   ]
  },
  {
   "cell_type": "code",
   "execution_count": 51,
   "metadata": {},
   "outputs": [
    {
     "name": "stdout",
     "output_type": "stream",
     "text": [
      "(4453, 36) (4453,)\n",
      "Fitting 5 folds for each of 6 candidates, totalling 30 fits\n",
      "[CV] max_depth=1, n_estimators=5 .....................................\n",
      "[CV] ...................... max_depth=1, n_estimators=5, total=   0.0s\n",
      "[CV] max_depth=1, n_estimators=5 .....................................\n",
      "[CV] ...................... max_depth=1, n_estimators=5, total=   0.0s\n",
      "[CV] max_depth=1, n_estimators=5 .....................................\n",
      "[CV] ...................... max_depth=1, n_estimators=5, total=   0.0s\n",
      "[CV] max_depth=1, n_estimators=5 .....................................\n",
      "[CV] ...................... max_depth=1, n_estimators=5, total=   0.0s\n",
      "[CV] max_depth=1, n_estimators=5 .....................................\n",
      "[CV] ...................... max_depth=1, n_estimators=5, total=   0.0s\n",
      "[CV] max_depth=1, n_estimators=10 ....................................\n",
      "[CV] ..................... max_depth=1, n_estimators=10, total=   0.0s\n",
      "[CV] max_depth=1, n_estimators=10 ....................................\n",
      "[CV] ..................... max_depth=1, n_estimators=10, total=   0.0s\n",
      "[CV] max_depth=1, n_estimators=10 ....................................\n",
      "[CV] ..................... max_depth=1, n_estimators=10, total=   0.0s\n",
      "[CV] max_depth=1, n_estimators=10 ....................................\n"
     ]
    },
    {
     "name": "stderr",
     "output_type": "stream",
     "text": [
      "[Parallel(n_jobs=1)]: Using backend SequentialBackend with 1 concurrent workers.\n",
      "[Parallel(n_jobs=1)]: Done   1 out of   1 | elapsed:    0.0s remaining:    0.0s\n"
     ]
    },
    {
     "name": "stdout",
     "output_type": "stream",
     "text": [
      "[CV] ..................... max_depth=1, n_estimators=10, total=   0.0s\n",
      "[CV] max_depth=1, n_estimators=10 ....................................\n",
      "[CV] ..................... max_depth=1, n_estimators=10, total=   0.0s\n",
      "[CV] max_depth=1, n_estimators=20 ....................................\n",
      "[CV] ..................... max_depth=1, n_estimators=20, total=   0.0s\n",
      "[CV] max_depth=1, n_estimators=20 ....................................\n",
      "[CV] ..................... max_depth=1, n_estimators=20, total=   0.0s\n",
      "[CV] max_depth=1, n_estimators=20 ....................................\n",
      "[CV] ..................... max_depth=1, n_estimators=20, total=   0.0s\n",
      "[CV] max_depth=1, n_estimators=20 ....................................\n",
      "[CV] ..................... max_depth=1, n_estimators=20, total=   0.0s\n",
      "[CV] max_depth=1, n_estimators=20 ....................................\n",
      "[CV] ..................... max_depth=1, n_estimators=20, total=   0.0s\n",
      "[CV] max_depth=6, n_estimators=5 .....................................\n",
      "[CV] ...................... max_depth=6, n_estimators=5, total=   0.0s\n",
      "[CV] max_depth=6, n_estimators=5 .....................................\n",
      "[CV] ...................... max_depth=6, n_estimators=5, total=   0.0s\n",
      "[CV] max_depth=6, n_estimators=5 .....................................\n",
      "[CV] ...................... max_depth=6, n_estimators=5, total=   0.0s\n",
      "[CV] max_depth=6, n_estimators=5 .....................................\n",
      "[CV] ...................... max_depth=6, n_estimators=5, total=   0.0s\n",
      "[CV] max_depth=6, n_estimators=5 .....................................\n",
      "[CV] ...................... max_depth=6, n_estimators=5, total=   0.0s\n",
      "[CV] max_depth=6, n_estimators=10 ....................................\n",
      "[CV] ..................... max_depth=6, n_estimators=10, total=   0.0s\n",
      "[CV] max_depth=6, n_estimators=10 ....................................\n",
      "[CV] ..................... max_depth=6, n_estimators=10, total=   0.0s\n",
      "[CV] max_depth=6, n_estimators=10 ....................................\n",
      "[CV] ..................... max_depth=6, n_estimators=10, total=   0.0s\n",
      "[CV] max_depth=6, n_estimators=10 ....................................\n",
      "[CV] ..................... max_depth=6, n_estimators=10, total=   0.0s\n",
      "[CV] max_depth=6, n_estimators=10 ....................................\n",
      "[CV] ..................... max_depth=6, n_estimators=10, total=   0.0s\n",
      "[CV] max_depth=6, n_estimators=20 ....................................\n",
      "[CV] ..................... max_depth=6, n_estimators=20, total=   0.0s\n",
      "[CV] max_depth=6, n_estimators=20 ....................................\n",
      "[CV] ..................... max_depth=6, n_estimators=20, total=   0.1s\n",
      "[CV] max_depth=6, n_estimators=20 ....................................\n",
      "[CV] ..................... max_depth=6, n_estimators=20, total=   0.1s\n",
      "[CV] max_depth=6, n_estimators=20 ....................................\n",
      "[CV] ..................... max_depth=6, n_estimators=20, total=   0.0s\n",
      "[CV] max_depth=6, n_estimators=20 ....................................\n",
      "[CV] ..................... max_depth=6, n_estimators=20, total=   0.0s\n"
     ]
    },
    {
     "name": "stderr",
     "output_type": "stream",
     "text": [
      "[Parallel(n_jobs=1)]: Done  30 out of  30 | elapsed:    1.1s finished\n"
     ]
    }
   ],
   "source": [
    "print (X_train.shape, y_train.shape)\n",
    "model = gs_clf.fit(X_train, y_train)"
   ]
  },
  {
   "cell_type": "code",
   "execution_count": 52,
   "metadata": {},
   "outputs": [
    {
     "name": "stdout",
     "output_type": "stream",
     "text": [
      "{'max_depth': 1, 'n_estimators': 5}\n",
      "max_depth: 1\n",
      "n_estimators: 5\n"
     ]
    }
   ],
   "source": [
    "print(model.best_params_)\n",
    "for param_name in sorted(parameters.keys()):\n",
    "    print(\"%s: %r\" % (param_name, model.best_params_[param_name]))"
   ]
  },
  {
   "cell_type": "code",
   "execution_count": 53,
   "metadata": {},
   "outputs": [
    {
     "name": "stdout",
     "output_type": "stream",
     "text": [
      "Accuracy: 64.80%\n"
     ]
    }
   ],
   "source": [
    "from sklearn.metrics import accuracy_score\n",
    "preds_val = model.predict(X_test)\n",
    "accuracy = accuracy_score(y_test, preds_val)\n",
    "print(\"Accuracy: %.2f%%\" % (accuracy * 100.0))"
   ]
  },
  {
   "cell_type": "code",
   "execution_count": 54,
   "metadata": {},
   "outputs": [
    {
     "name": "stdout",
     "output_type": "stream",
     "text": [
      "Confusion matrix, without normalization\n",
      "[[778 184]\n",
      " [488 459]]\n"
     ]
    },
    {
     "data": {
      "text/plain": [
       "<matplotlib.axes._subplots.AxesSubplot at 0x7fcb40768a90>"
      ]
     },
     "execution_count": 54,
     "metadata": {},
     "output_type": "execute_result"
    },
    {
     "data": {
      "image/png": "[encoded data removed]",
      "text/plain": [
       "<Figure size 432x288 with 2 Axes>"
      ]
     },
     "metadata": {
      "needs_background": "light"
     },
     "output_type": "display_data"
    }
   ],
   "source": [
    "plot_confusion_matrix(y_test, preds_val,np.array(['Non-Eat','Eat']))"
   ]
  },
  {
   "cell_type": "markdown",
   "metadata": {},
   "source": [
    "#### Training Accuracy"
   ]
  },
  {
   "cell_type": "code",
   "execution_count": 55,
   "metadata": {},
   "outputs": [
    {
     "name": "stdout",
     "output_type": "stream",
     "text": [
      "Accuracy: 61.58%\n"
     ]
    }
   ],
   "source": [
    "from sklearn.metrics import accuracy_score\n",
    "preds_val_train = model.predict(X_train)\n",
    "accuracy = accuracy_score(y_train, preds_val_train)\n",
    "print(\"Accuracy: %.2f%%\" % (accuracy * 100.0))"
   ]
  },
  {
   "cell_type": "code",
   "execution_count": 56,
   "metadata": {},
   "outputs": [
    {
     "name": "stdout",
     "output_type": "stream",
     "text": [
      "Confusion matrix, without normalization\n",
      "[[1741  478]\n",
      " [1233 1001]]\n"
     ]
    },
    {
     "data": {
      "text/plain": [
       "<matplotlib.axes._subplots.AxesSubplot at 0x7fcb406e08d0>"
      ]
     },
     "execution_count": 56,
     "metadata": {},
     "output_type": "execute_result"
    },
    {
     "data": {
      "image/png": "[encoded data removed]",
      "text/plain": [
       "<Figure size 432x288 with 2 Axes>"
      ]
     },
     "metadata": {
      "needs_background": "light"
     },
     "output_type": "display_data"
    }
   ],
   "source": [
    "plot_confusion_matrix(y_train, preds_val_train,np.array(['Non-Eat','Eat']))"
   ]
  },
  {
   "cell_type": "markdown",
   "metadata": {},
   "source": [
    "#### Test with unbalanced data"
   ]
  },
  {
   "cell_type": "code",
   "execution_count": 57,
   "metadata": {},
   "outputs": [
    {
     "name": "stdout",
     "output_type": "stream",
     "text": [
      "Accuracy: 77.99%\n"
     ]
    }
   ],
   "source": [
    "from sklearn.metrics import accuracy_score\n",
    "preds_val = model.predict(X_unbalanced_new)\n",
    "accuracy = accuracy_score(Y_unbalancedData, preds_val)\n",
    "print(\"Accuracy: %.2f%%\" % (accuracy * 100.0))"
   ]
  },
  {
   "cell_type": "code",
   "execution_count": 58,
   "metadata": {},
   "outputs": [
    {
     "name": "stdout",
     "output_type": "stream",
     "text": [
      "Confusion matrix, without normalization\n",
      "[[59069 15360]\n",
      " [ 1721  1460]]\n"
     ]
    },
    {
     "data": {
      "text/plain": [
       "<matplotlib.axes._subplots.AxesSubplot at 0x7fcb4065f6a0>"
      ]
     },
     "execution_count": 58,
     "metadata": {},
     "output_type": "execute_result"
    },
    {
     "data": {
      "image/png": "[encoded data removed]",
      "text/plain": [
       "<Figure size 432x288 with 2 Axes>"
      ]
     },
     "metadata": {
      "needs_background": "light"
     },
     "output_type": "display_data"
    }
   ],
   "source": [
    "plot_confusion_matrix(Y_unbalancedData, preds_val,np.array(['Non-Eat','Eat']))"
   ]
  },
  {
   "cell_type": "code",
   "execution_count": null,
   "metadata": {},
   "outputs": [],
   "source": []
  }
 ],
 "metadata": {
  "kernelspec": {
   "display_name": "Python 3",
   "language": "python",
   "name": "python3"
  },
  "language_info": {
   "codemirror_mode": {
    "name": "ipython",
    "version": 3
   },
   "file_extension": ".py",
   "mimetype": "text/x-python",
   "name": "python",
   "nbconvert_exporter": "python",
   "pygments_lexer": "ipython3",
   "version": "3.6.3"
  }
 },
 "nbformat": 4,
 "nbformat_minor": 2
}
