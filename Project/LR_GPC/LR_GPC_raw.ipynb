{
 "cells": [
  {
   "cell_type": "code",
   "execution_count": 1,
   "metadata": {},
   "outputs": [],
   "source": [
    "import numpy\n",
    "import os\n",
    "import json\n",
    "import csv\n",
    "import pandas as pd\n",
    "import numpy as np\n",
    "np.random.seed(42)"
   ]
  },
  {
   "cell_type": "code",
   "execution_count": 2,
   "metadata": {},
   "outputs": [],
   "source": [
    "path = \"../../data\""
   ]
  },
  {
   "cell_type": "code",
   "execution_count": 3,
   "metadata": {},
   "outputs": [],
   "source": [
    "file = \"Sorted_combined.csv\""
   ]
  },
  {
   "cell_type": "code",
   "execution_count": 4,
   "metadata": {},
   "outputs": [],
   "source": [
    "data = pd.read_csv(os.path.join(path,file),header=None)\n",
    "unbalancedData = pd.read_csv(os.path.join(path,file),header=None)"
   ]
  },
  {
   "cell_type": "code",
   "execution_count": 5,
   "metadata": {
    "scrolled": true
   },
   "outputs": [
    {
     "data": {
      "text/html": [
       "<div>\n",
       "<style scoped>\n",
       "    .dataframe tbody tr th:only-of-type {\n",
       "        vertical-align: middle;\n",
       "    }\n",
       "\n",
       "    .dataframe tbody tr th {\n",
       "        vertical-align: top;\n",
       "    }\n",
       "\n",
       "    .dataframe thead th {\n",
       "        text-align: right;\n",
       "    }\n",
       "</style>\n",
       "<table border=\"1\" class=\"dataframe\">\n",
       "  <thead>\n",
       "    <tr style=\"text-align: right;\">\n",
       "      <th></th>\n",
       "      <th>0</th>\n",
       "      <th>1</th>\n",
       "      <th>2</th>\n",
       "      <th>3</th>\n",
       "      <th>4</th>\n",
       "      <th>5</th>\n",
       "      <th>6</th>\n",
       "      <th>7</th>\n",
       "      <th>8</th>\n",
       "      <th>9</th>\n",
       "      <th>...</th>\n",
       "      <th>11</th>\n",
       "      <th>12</th>\n",
       "      <th>13</th>\n",
       "      <th>14</th>\n",
       "      <th>15</th>\n",
       "      <th>16</th>\n",
       "      <th>17</th>\n",
       "      <th>18</th>\n",
       "      <th>19</th>\n",
       "      <th>20</th>\n",
       "    </tr>\n",
       "  </thead>\n",
       "  <tbody>\n",
       "    <tr>\n",
       "      <th>0</th>\n",
       "      <td>1.554536e+09</td>\n",
       "      <td>-1.647343</td>\n",
       "      <td>-1.956522</td>\n",
       "      <td>-1.562802</td>\n",
       "      <td>-1.115942</td>\n",
       "      <td>-1.084541</td>\n",
       "      <td>-1.118357</td>\n",
       "      <td>-0.971014</td>\n",
       "      <td>127.000000</td>\n",
       "      <td>-0.979311</td>\n",
       "      <td>...</td>\n",
       "      <td>0.081189</td>\n",
       "      <td>-0.146538</td>\n",
       "      <td>-0.239349</td>\n",
       "      <td>0.136632</td>\n",
       "      <td>-0.960292</td>\n",
       "      <td>-1.289528</td>\n",
       "      <td>-0.144415</td>\n",
       "      <td>0.17516</td>\n",
       "      <td>0</td>\n",
       "      <td>Kuntal</td>\n",
       "    </tr>\n",
       "    <tr>\n",
       "      <th>1</th>\n",
       "      <td>1.554536e+09</td>\n",
       "      <td>-1.647343</td>\n",
       "      <td>-1.956522</td>\n",
       "      <td>-1.562802</td>\n",
       "      <td>-1.115942</td>\n",
       "      <td>-1.084541</td>\n",
       "      <td>-1.118357</td>\n",
       "      <td>-0.971014</td>\n",
       "      <td>127.000000</td>\n",
       "      <td>-0.979311</td>\n",
       "      <td>...</td>\n",
       "      <td>0.081189</td>\n",
       "      <td>-0.146538</td>\n",
       "      <td>-0.239349</td>\n",
       "      <td>0.136632</td>\n",
       "      <td>-0.960292</td>\n",
       "      <td>-1.289528</td>\n",
       "      <td>-0.144415</td>\n",
       "      <td>0.17516</td>\n",
       "      <td>0</td>\n",
       "      <td>Shailaja</td>\n",
       "    </tr>\n",
       "    <tr>\n",
       "      <th>2</th>\n",
       "      <td>1.554536e+09</td>\n",
       "      <td>-2.745819</td>\n",
       "      <td>-3.035117</td>\n",
       "      <td>-3.526756</td>\n",
       "      <td>-1.448161</td>\n",
       "      <td>-1.683946</td>\n",
       "      <td>-0.836120</td>\n",
       "      <td>-0.968227</td>\n",
       "      <td>-32.822742</td>\n",
       "      <td>-0.980840</td>\n",
       "      <td>...</td>\n",
       "      <td>0.080267</td>\n",
       "      <td>-0.141640</td>\n",
       "      <td>-0.224180</td>\n",
       "      <td>0.139840</td>\n",
       "      <td>-0.964293</td>\n",
       "      <td>-1.098293</td>\n",
       "      <td>0.004593</td>\n",
       "      <td>0.57038</td>\n",
       "      <td>0</td>\n",
       "      <td>Kuntal</td>\n",
       "    </tr>\n",
       "    <tr>\n",
       "      <th>3</th>\n",
       "      <td>1.554536e+09</td>\n",
       "      <td>-2.745819</td>\n",
       "      <td>-3.035117</td>\n",
       "      <td>-3.526756</td>\n",
       "      <td>-1.448161</td>\n",
       "      <td>-1.683946</td>\n",
       "      <td>-0.836120</td>\n",
       "      <td>-0.968227</td>\n",
       "      <td>-32.822742</td>\n",
       "      <td>-0.980840</td>\n",
       "      <td>...</td>\n",
       "      <td>0.080267</td>\n",
       "      <td>-0.141640</td>\n",
       "      <td>-0.224180</td>\n",
       "      <td>0.139840</td>\n",
       "      <td>-0.964293</td>\n",
       "      <td>-1.098293</td>\n",
       "      <td>0.004593</td>\n",
       "      <td>0.57038</td>\n",
       "      <td>0</td>\n",
       "      <td>Shailaja</td>\n",
       "    </tr>\n",
       "    <tr>\n",
       "      <th>4</th>\n",
       "      <td>1.554536e+09</td>\n",
       "      <td>-1.618333</td>\n",
       "      <td>-1.761667</td>\n",
       "      <td>-1.893333</td>\n",
       "      <td>-1.003333</td>\n",
       "      <td>-0.115000</td>\n",
       "      <td>-0.823333</td>\n",
       "      <td>-0.950000</td>\n",
       "      <td>-122.951667</td>\n",
       "      <td>-0.979620</td>\n",
       "      <td>...</td>\n",
       "      <td>0.075060</td>\n",
       "      <td>-0.145587</td>\n",
       "      <td>-0.242633</td>\n",
       "      <td>0.124593</td>\n",
       "      <td>-0.961480</td>\n",
       "      <td>-1.113340</td>\n",
       "      <td>-0.805847</td>\n",
       "      <td>0.17794</td>\n",
       "      <td>0</td>\n",
       "      <td>Kuntal</td>\n",
       "    </tr>\n",
       "  </tbody>\n",
       "</table>\n",
       "<p>5 rows × 21 columns</p>\n",
       "</div>"
      ],
      "text/plain": [
       "             0         1         2         3         4         5         6   \\\n",
       "0  1.554536e+09 -1.647343 -1.956522 -1.562802 -1.115942 -1.084541 -1.118357   \n",
       "1  1.554536e+09 -1.647343 -1.956522 -1.562802 -1.115942 -1.084541 -1.118357   \n",
       "2  1.554536e+09 -2.745819 -3.035117 -3.526756 -1.448161 -1.683946 -0.836120   \n",
       "3  1.554536e+09 -2.745819 -3.035117 -3.526756 -1.448161 -1.683946 -0.836120   \n",
       "4  1.554536e+09 -1.618333 -1.761667 -1.893333 -1.003333 -0.115000 -0.823333   \n",
       "\n",
       "         7           8         9     ...           11        12        13  \\\n",
       "0 -0.971014  127.000000 -0.979311    ...     0.081189 -0.146538 -0.239349   \n",
       "1 -0.971014  127.000000 -0.979311    ...     0.081189 -0.146538 -0.239349   \n",
       "2 -0.968227  -32.822742 -0.980840    ...     0.080267 -0.141640 -0.224180   \n",
       "3 -0.968227  -32.822742 -0.980840    ...     0.080267 -0.141640 -0.224180   \n",
       "4 -0.950000 -122.951667 -0.979620    ...     0.075060 -0.145587 -0.242633   \n",
       "\n",
       "         14        15        16        17       18  19        20  \n",
       "0  0.136632 -0.960292 -1.289528 -0.144415  0.17516   0    Kuntal  \n",
       "1  0.136632 -0.960292 -1.289528 -0.144415  0.17516   0  Shailaja  \n",
       "2  0.139840 -0.964293 -1.098293  0.004593  0.57038   0    Kuntal  \n",
       "3  0.139840 -0.964293 -1.098293  0.004593  0.57038   0  Shailaja  \n",
       "4  0.124593 -0.961480 -1.113340 -0.805847  0.17794   0    Kuntal  \n",
       "\n",
       "[5 rows x 21 columns]"
      ]
     },
     "execution_count": 5,
     "metadata": {},
     "output_type": "execute_result"
    }
   ],
   "source": [
    "data.head()"
   ]
  },
  {
   "cell_type": "code",
   "execution_count": 6,
   "metadata": {},
   "outputs": [],
   "source": [
    "noneatData = data[data[data.columns[19]]==0]"
   ]
  },
  {
   "cell_type": "code",
   "execution_count": 7,
   "metadata": {},
   "outputs": [],
   "source": [
    "eatData = data[data[data.columns[19]]==1]"
   ]
  },
  {
   "cell_type": "code",
   "execution_count": 8,
   "metadata": {},
   "outputs": [],
   "source": [
    "noneatData = noneatData.sample(n=3181)"
   ]
  },
  {
   "cell_type": "code",
   "execution_count": 9,
   "metadata": {},
   "outputs": [
    {
     "name": "stdout",
     "output_type": "stream",
     "text": [
      "(3181, 21) (3181, 21)\n"
     ]
    }
   ],
   "source": [
    "print(noneatData.shape,eatData.shape)"
   ]
  },
  {
   "cell_type": "markdown",
   "metadata": {},
   "source": [
    "### Data Vectorization"
   ]
  },
  {
   "cell_type": "code",
   "execution_count": 10,
   "metadata": {},
   "outputs": [],
   "source": [
    "data = pd.concat([noneatData,eatData])"
   ]
  },
  {
   "cell_type": "code",
   "execution_count": 11,
   "metadata": {},
   "outputs": [],
   "source": [
    "X_data = np.array(data[data.columns[1:19]].values.tolist())\n",
    "X_unbalancedData = np.array(unbalancedData[unbalancedData.columns[1:19]].values.tolist())"
   ]
  },
  {
   "cell_type": "code",
   "execution_count": 12,
   "metadata": {},
   "outputs": [],
   "source": [
    "#data[data.columns[19]].head()"
   ]
  },
  {
   "cell_type": "code",
   "execution_count": 13,
   "metadata": {},
   "outputs": [
    {
     "name": "stdout",
     "output_type": "stream",
     "text": [
      "(6362, 18) (77670, 18)\n"
     ]
    }
   ],
   "source": [
    "print (X_data.shape,X_unbalancedData.shape)"
   ]
  },
  {
   "cell_type": "code",
   "execution_count": 14,
   "metadata": {},
   "outputs": [],
   "source": [
    "Y_data = np.array(data[data.columns[19]].values.tolist())\n",
    "Y_unbalancedData = np.array(unbalancedData[unbalancedData.columns[19]].values.tolist())"
   ]
  },
  {
   "cell_type": "code",
   "execution_count": 15,
   "metadata": {},
   "outputs": [
    {
     "name": "stdout",
     "output_type": "stream",
     "text": [
      "(6362,) (77670,)\n"
     ]
    }
   ],
   "source": [
    "print(Y_data.shape,Y_unbalancedData.shape)"
   ]
  },
  {
   "cell_type": "markdown",
   "metadata": {},
   "source": [
    "### Feature Selection"
   ]
  },
  {
   "cell_type": "markdown",
   "metadata": {},
   "source": [
    "#### L1-based feature selection"
   ]
  },
  {
   "cell_type": "code",
   "execution_count": 16,
   "metadata": {},
   "outputs": [],
   "source": [
    "from sklearn.feature_selection import SelectFromModel\n",
    "from sklearn.svm import LinearSVC"
   ]
  },
  {
   "cell_type": "code",
   "execution_count": 17,
   "metadata": {},
   "outputs": [
    {
     "data": {
      "text/plain": [
       "(6362, 15)"
      ]
     },
     "execution_count": 17,
     "metadata": {},
     "output_type": "execute_result"
    }
   ],
   "source": [
    "lsvc = LinearSVC(C=0.01, penalty=\"l1\", dual=False).fit(X_data, Y_data)\n",
    "model = SelectFromModel(lsvc, prefit=True)\n",
    "X_new = model.transform(X_data)\n",
    "X_new.shape"
   ]
  },
  {
   "cell_type": "markdown",
   "metadata": {},
   "source": [
    "#### Tree-based feature selection (Works very good)"
   ]
  },
  {
   "cell_type": "code",
   "execution_count": 18,
   "metadata": {},
   "outputs": [
    {
     "name": "stderr",
     "output_type": "stream",
     "text": [
      "/Users/shailajasampat/anaconda3/lib/python3.6/site-packages/sklearn/ensemble/weight_boosting.py:29: DeprecationWarning: numpy.core.umath_tests is an internal NumPy module and should not be imported. It will be removed in a future NumPy release.\n",
      "  from numpy.core.umath_tests import inner1d\n"
     ]
    },
    {
     "name": "stdout",
     "output_type": "stream",
     "text": [
      "[0.02592491 0.03590405 0.03991734 0.03009579 0.03024977 0.03312345\n",
      " 0.0342882  0.06424394 0.17438478 0.06360691 0.06849943 0.07875936\n",
      " 0.08317107 0.06190636 0.09000751 0.02931372 0.02859734 0.02800603]\n",
      "(6362, 8)\n"
     ]
    }
   ],
   "source": [
    "from sklearn.ensemble import ExtraTreesClassifier\n",
    "from sklearn.feature_selection import SelectFromModel\n",
    "\n",
    "clfTree = ExtraTreesClassifier(n_estimators=50)\n",
    "clfTree = clfTree.fit(X_data, Y_data)\n",
    "print (clfTree.feature_importances_)  \n",
    "\n",
    "model = SelectFromModel(clfTree, prefit=True)\n",
    "X_new = model.transform(X_data)\n",
    "print (X_new.shape)"
   ]
  },
  {
   "cell_type": "code",
   "execution_count": 19,
   "metadata": {},
   "outputs": [
    {
     "name": "stdout",
     "output_type": "stream",
     "text": [
      "(77670, 8)\n"
     ]
    }
   ],
   "source": [
    "X_unbalanced_new = model.transform(X_unbalancedData)\n",
    "print(X_unbalanced_new.shape)"
   ]
  },
  {
   "cell_type": "markdown",
   "metadata": {},
   "source": [
    "### Logistic Regression"
   ]
  },
  {
   "cell_type": "code",
   "execution_count": 20,
   "metadata": {},
   "outputs": [],
   "source": [
    "#from xgboost import XGBClassifier\n",
    "from sklearn.linear_model import LogisticRegression"
   ]
  },
  {
   "cell_type": "code",
   "execution_count": 21,
   "metadata": {},
   "outputs": [],
   "source": [
    "#clf = XGBClassifier(n_jobs=-1,verbosity=2)\n",
    "clf = LogisticRegression()"
   ]
  },
  {
   "cell_type": "code",
   "execution_count": 22,
   "metadata": {},
   "outputs": [],
   "source": [
    "from sklearn.model_selection import train_test_split\n",
    "X_train, X_test, y_train, y_test = train_test_split(X_new, Y_data, test_size=0.30, random_state=42, shuffle =True)"
   ]
  },
  {
   "cell_type": "code",
   "execution_count": 23,
   "metadata": {},
   "outputs": [
    {
     "name": "stdout",
     "output_type": "stream",
     "text": [
      "[1 1 1 ... 1 1 0]\n"
     ]
    }
   ],
   "source": [
    "print (y_train)"
   ]
  },
  {
   "cell_type": "code",
   "execution_count": 24,
   "metadata": {},
   "outputs": [
    {
     "data": {
      "text/plain": [
       "LogisticRegression(C=1.0, class_weight=None, dual=False, fit_intercept=True,\n",
       "          intercept_scaling=1, max_iter=100, multi_class='ovr', n_jobs=1,\n",
       "          penalty='l2', random_state=None, solver='liblinear', tol=0.0001,\n",
       "          verbose=0, warm_start=False)"
      ]
     },
     "execution_count": 24,
     "metadata": {},
     "output_type": "execute_result"
    }
   ],
   "source": [
    "clf.fit(X_train,y_train)"
   ]
  },
  {
   "cell_type": "code",
   "execution_count": 25,
   "metadata": {},
   "outputs": [
    {
     "name": "stdout",
     "output_type": "stream",
     "text": [
      "Accuracy: 67.78%\n"
     ]
    }
   ],
   "source": [
    "from sklearn.metrics import accuracy_score\n",
    "preds_val = clf.predict(X_test)\n",
    "accuracy = accuracy_score(y_test, preds_val)\n",
    "print(\"Accuracy: %.2f%%\" % (accuracy * 100.0))"
   ]
  },
  {
   "cell_type": "markdown",
   "metadata": {},
   "source": [
    "#### Parameter Search by GridSearch"
   ]
  },
  {
   "cell_type": "code",
   "execution_count": 26,
   "metadata": {},
   "outputs": [],
   "source": [
    "from sklearn.model_selection import GridSearchCV\n",
    "\n",
    "def LR_param_selection(XData, yData, nfolds):\n",
    "    #param_grid = {'n_estimators':(100,100,1000),'max_depth': range(1, 20, 5)}\n",
    "    param_grid = {'penalty':['l1','l2'],'C': np.logspace(-4, 4, 10) }\n",
    "    #grid_search = GridSearchCV(XGBClassifier(cache_size=2000), param_grid, cv=nfolds, n_jobs=-1, verbose=2)\n",
    "    grid_search = GridSearchCV(LogisticRegression(), param_grid, cv=nfolds, n_jobs=-1, verbose=2)\n",
    "    grid_search.fit(XData, yData)\n",
    "    grid_search.best_params_\n",
    "    return grid_search.best_params_"
   ]
  },
  {
   "cell_type": "code",
   "execution_count": 27,
   "metadata": {},
   "outputs": [
    {
     "name": "stdout",
     "output_type": "stream",
     "text": [
      "Fitting 5 folds for each of 20 candidates, totalling 100 fits\n",
      "[CV] C=0.0001, penalty=l1 ............................................\n",
      "[CV] C=0.0001, penalty=l1 ............................................\n",
      "[CV] C=0.0001, penalty=l1 ............................................\n",
      "[CV] ............................. C=0.0001, penalty=l1, total=   0.0s\n",
      "[CV] C=0.0001, penalty=l1 ............................................\n",
      "[CV] ............................. C=0.0001, penalty=l1, total=   0.0s\n",
      "[CV] ............................. C=0.0001, penalty=l1, total=   0.0s\n",
      "[CV] C=0.0001, penalty=l1 ............................................\n",
      "[CV] ............................. C=0.0001, penalty=l1, total=   0.0s\n",
      "[CV] C=0.0001, penalty=l2 ............................................\n",
      "[CV] C=0.0001, penalty=l2 ............................................\n",
      "[CV] ............................. C=0.0001, penalty=l1, total=   0.0s\n",
      "[CV] ............................. C=0.0001, penalty=l2, total=   0.0s\n",
      "[CV] C=0.0001, penalty=l2 ............................................\n",
      "[CV] C=0.000774263682681127, penalty=l1 ..............................\n",
      "[CV] C=0.0001, penalty=l2 ............................................\n",
      "[CV] ............................. C=0.0001, penalty=l2, total=   0.0s\n",
      "[CV] ............................. C=0.0001, penalty=l2, total=   0.0s\n",
      "[CV] C=0.000774263682681127, penalty=l2 ..............................\n",
      "[CV] ............... C=0.000774263682681127, penalty=l1, total=   0.0s\n",
      "[CV] C=0.000774263682681127, penalty=l1 ..............................\n",
      "[CV] ............... C=0.000774263682681127, penalty=l1, total=   0.0s\n",
      "[CV] C=0.000774263682681127, penalty=l1 ..............................\n",
      "[CV] C=0.005994842503189409, penalty=l1 ..............................\n",
      "[CV] ............... C=0.000774263682681127, penalty=l2, total=   0.0s\n",
      "[CV] C=0.000774263682681127, penalty=l2 ..............................\n",
      "[CV] ............... C=0.000774263682681127, penalty=l1, total=   0.0s\n",
      "[CV] C=0.000774263682681127, penalty=l2 ..............................\n",
      "[CV] ............................. C=0.0001, penalty=l2, total=   0.0s\n",
      "[CV] C=0.0001, penalty=l2 ............................................\n",
      "[CV] ............... C=0.000774263682681127, penalty=l2, total=   0.0s\n",
      "[CV] C=0.005994842503189409, penalty=l1 ..............................\n",
      "[CV] C=0.000774263682681127, penalty=l2 ..............................\n",
      "[CV] ............... C=0.000774263682681127, penalty=l2, total=   0.0s\n",
      "[CV] ............................. C=0.0001, penalty=l2, total=   0.0s\n",
      "[CV] C=0.000774263682681127, penalty=l1 ..............................\n",
      "[CV] ............... C=0.005994842503189409, penalty=l1, total=   0.0s\n",
      "[CV] C=0.005994842503189409, penalty=l2 ..............................\n",
      "[CV] ............... C=0.000774263682681127, penalty=l1, total=   0.0s\n",
      "[CV] ............... C=0.005994842503189409, penalty=l1, total=   0.0s\n",
      "[CV] C=0.000774263682681127, penalty=l1 ..............................\n",
      "[CV] C=0.005994842503189409, penalty=l1 ..............................\n",
      "[CV] ............... C=0.000774263682681127, penalty=l2, total=   0.0s\n",
      "[CV] C=0.000774263682681127, penalty=l2 ..............................\n",
      "[CV] ............... C=0.005994842503189409, penalty=l2, total=   0.0s\n",
      "[CV] C=0.005994842503189409, penalty=l2 ..............................\n",
      "[CV] ............... C=0.000774263682681127, penalty=l1, total=   0.0s\n",
      "[CV] ............... C=0.005994842503189409, penalty=l1, total=   0.0s\n",
      "[CV] C=0.005994842503189409, penalty=l2 ..............................\n",
      "[CV] C=0.005994842503189409, penalty=l1 ..............................\n",
      "[CV] ............... C=0.000774263682681127, penalty=l2, total=   0.0s\n",
      "[CV] C=0.046415888336127774, penalty=l1 ..............................\n",
      "[CV] C=0.005994842503189409, penalty=l1 ..............................\n",
      "[CV] ............... C=0.005994842503189409, penalty=l1, total=   0.0s\n",
      "[CV] ............... C=0.005994842503189409, penalty=l2, total=   0.0s\n",
      "[CV] C=0.005994842503189409, penalty=l2 ..............................\n",
      "[CV] ............... C=0.005994842503189409, penalty=l1, total=   0.0s\n",
      "[CV] C=0.046415888336127774, penalty=l2 ..............................\n",
      "[CV] ............... C=0.005994842503189409, penalty=l2, total=   0.0s\n",
      "[CV] ............... C=0.005994842503189409, penalty=l2, total=   0.0s\n",
      "[CV] C=0.3593813663804626, penalty=l1 ................................\n",
      "[CV] C=0.005994842503189409, penalty=l2 ..............................\n",
      "[CV] ............... C=0.046415888336127774, penalty=l2, total=   0.0s\n",
      "[CV] C=0.046415888336127774, penalty=l2 ..............................\n",
      "[CV] ............... C=0.046415888336127774, penalty=l1, total=   0.0s\n",
      "[CV] C=0.046415888336127774, penalty=l1 ..............................\n",
      "[CV] ............... C=0.005994842503189409, penalty=l2, total=   0.0s\n",
      "[CV] C=0.046415888336127774, penalty=l1 ..............................\n",
      "[CV] ............... C=0.046415888336127774, penalty=l2, total=   0.0s\n",
      "[CV] C=0.046415888336127774, penalty=l2 ..............................\n",
      "[CV] ................. C=0.3593813663804626, penalty=l1, total=   0.0s\n",
      "[CV] ............... C=0.046415888336127774, penalty=l1, total=   0.0s\n",
      "[CV] C=0.046415888336127774, penalty=l1 ..............................\n",
      "[CV] C=0.3593813663804626, penalty=l1 ................................\n",
      "[CV] ............... C=0.046415888336127774, penalty=l1, total=   0.0s\n",
      "[CV] ............... C=0.046415888336127774, penalty=l2, total=   0.0s\n",
      "[CV] C=0.046415888336127774, penalty=l1 ..............................\n",
      "[CV] C=0.046415888336127774, penalty=l2 ..............................\n",
      "[CV] ............... C=0.046415888336127774, penalty=l2, total=   0.0s\n",
      "[CV] C=2.782559402207126, penalty=l1 .................................\n",
      "[CV] ................. C=0.3593813663804626, penalty=l1, total=   0.0s\n",
      "[CV] C=0.3593813663804626, penalty=l1 ................................\n",
      "[CV] ............... C=0.046415888336127774, penalty=l1, total=   0.0s\n",
      "[CV] C=0.046415888336127774, penalty=l2 ..............................\n",
      "[CV] ............... C=0.046415888336127774, penalty=l1, total=   0.0s\n",
      "[CV] .................. C=2.782559402207126, penalty=l1, total=   0.0s\n",
      "[CV] C=21.54434690031882, penalty=l1 .................................\n",
      "[CV] C=2.782559402207126, penalty=l1 .................................\n",
      "[CV] ................. C=0.3593813663804626, penalty=l1, total=   0.0s\n",
      "[CV] C=0.3593813663804626, penalty=l1 ................................\n",
      "[CV] ............... C=0.046415888336127774, penalty=l2, total=   0.0s\n",
      "[CV] C=166.81005372000558, penalty=l1 ................................\n",
      "[CV] .................. C=21.54434690031882, penalty=l1, total=   0.0s\n",
      "[CV] C=21.54434690031882, penalty=l1 .................................\n",
      "[CV] ................. C=166.81005372000558, penalty=l1, total=   0.0s\n",
      "[CV] C=166.81005372000558, penalty=l1 ................................\n",
      "[CV] ................. C=0.3593813663804626, penalty=l1, total=   0.0s\n",
      "[CV] C=0.3593813663804626, penalty=l1 ................................\n",
      "[CV] .................. C=2.782559402207126, penalty=l1, total=   0.0s\n",
      "[CV] C=2.782559402207126, penalty=l1 .................................\n",
      "[CV] .................. C=21.54434690031882, penalty=l1, total=   0.0s\n",
      "[CV] C=21.54434690031882, penalty=l1 .................................\n",
      "[CV] ................. C=166.81005372000558, penalty=l1, total=   0.0s\n",
      "[CV] C=166.81005372000558, penalty=l1 ................................\n",
      "[CV] .................. C=2.782559402207126, penalty=l1, total=   0.0s\n",
      "[CV] C=2.782559402207126, penalty=l1 .................................\n",
      "[CV] ................. C=0.3593813663804626, penalty=l1, total=   0.0s\n",
      "[CV] C=0.3593813663804626, penalty=l2 ................................\n",
      "[CV] ................. C=166.81005372000558, penalty=l1, total=   0.0s\n",
      "[CV] C=166.81005372000558, penalty=l1 ................................\n",
      "[CV] .................. C=21.54434690031882, penalty=l1, total=   0.1s\n",
      "[CV] C=21.54434690031882, penalty=l1 .................................\n",
      "[CV] ................. C=0.3593813663804626, penalty=l2, total=   0.0s\n",
      "[CV] .................. C=2.782559402207126, penalty=l1, total=   0.0s\n",
      "[CV] C=0.3593813663804626, penalty=l2 ................................\n"
     ]
    },
    {
     "name": "stdout",
     "output_type": "stream",
     "text": [
      "[CV] C=2.782559402207126, penalty=l1 .................................\n",
      "[CV] .................. C=21.54434690031882, penalty=l1, total=   0.0s\n",
      "[CV] C=21.54434690031882, penalty=l1 .................................\n",
      "[CV] ................. C=166.81005372000558, penalty=l1, total=   0.0s\n",
      "[CV] C=166.81005372000558, penalty=l1 ................................\n",
      "[CV] ................. C=0.3593813663804626, penalty=l2, total=   0.0s\n",
      "[CV] C=0.3593813663804626, penalty=l2 ................................\n",
      "[CV] .................. C=2.782559402207126, penalty=l1, total=   0.0s\n",
      "[CV] C=2.782559402207126, penalty=l2 .................................\n",
      "[CV] .................. C=21.54434690031882, penalty=l1, total=   0.0s\n",
      "[CV] ................. C=0.3593813663804626, penalty=l2, total=   0.0s\n",
      "[CV] C=0.3593813663804626, penalty=l2 ................................\n",
      "[CV] C=21.54434690031882, penalty=l2 .................................\n",
      "[CV] .................. C=2.782559402207126, penalty=l2, total=   0.0s\n",
      "[CV] C=2.782559402207126, penalty=l2 .................................\n",
      "[CV] ................. C=0.3593813663804626, penalty=l2, total=   0.0s\n",
      "[CV] C=0.3593813663804626, penalty=l2 ................................\n",
      "[CV] ................. C=166.81005372000558, penalty=l1, total=   0.1s\n",
      "[CV] C=166.81005372000558, penalty=l2 ................................\n",
      "[CV] .................. C=2.782559402207126, penalty=l2, total=   0.0s\n",
      "[CV] C=2.782559402207126, penalty=l2 .................................\n",
      "[CV] ................. C=166.81005372000558, penalty=l2, total=   0.0s\n",
      "[CV] .................. C=21.54434690031882, penalty=l2, total=   0.0s\n",
      "[CV] C=166.81005372000558, penalty=l2 ................................\n",
      "[CV] C=21.54434690031882, penalty=l2 .................................\n",
      "[CV] ................. C=0.3593813663804626, penalty=l2, total=   0.0s\n",
      "[CV] C=1291.5496650148827, penalty=l1 ................................\n",
      "[CV] .................. C=2.782559402207126, penalty=l2, total=   0.0s\n",
      "[CV] C=2.782559402207126, penalty=l2 .................................\n",
      "[CV] .................. C=21.54434690031882, penalty=l2, total=   0.0s\n",
      "[CV] C=21.54434690031882, penalty=l2 .................................\n",
      "[CV] ................. C=166.81005372000558, penalty=l2, total=   0.0s\n",
      "[CV] C=166.81005372000558, penalty=l2 ................................\n",
      "[CV] ................. C=1291.5496650148827, penalty=l1, total=   0.0s\n",
      "[CV] C=1291.5496650148827, penalty=l1 ................................\n",
      "[CV] .................. C=2.782559402207126, penalty=l2, total=   0.0s\n",
      "[CV] C=2.782559402207126, penalty=l2 .................................\n",
      "[CV] .................. C=21.54434690031882, penalty=l2, total=   0.0s\n",
      "[CV] C=21.54434690031882, penalty=l2 .................................\n",
      "[CV] ................. C=166.81005372000558, penalty=l2, total=   0.0s\n",
      "[CV] C=166.81005372000558, penalty=l2 ................................\n",
      "[CV] ................. C=1291.5496650148827, penalty=l1, total=   0.0s\n",
      "[CV] C=1291.5496650148827, penalty=l1 ................................\n",
      "[CV] .................. C=2.782559402207126, penalty=l2, total=   0.0s\n",
      "[CV] C=10000.0, penalty=l1 ...........................................\n",
      "[CV] .................. C=21.54434690031882, penalty=l2, total=   0.0s\n",
      "[CV] C=21.54434690031882, penalty=l2 .................................\n",
      "[CV] ................. C=166.81005372000558, penalty=l2, total=   0.0s\n",
      "[CV] C=166.81005372000558, penalty=l2 ................................\n",
      "[CV] ............................ C=10000.0, penalty=l1, total=   0.0s\n",
      "[CV] C=10000.0, penalty=l1 ...........................................\n",
      "[CV] .................. C=21.54434690031882, penalty=l2, total=   0.0s\n",
      "[CV] ................. C=1291.5496650148827, penalty=l1, total=   0.0s\n",
      "[CV] ................. C=166.81005372000558, penalty=l2, total=   0.0s\n",
      "[CV] C=1291.5496650148827, penalty=l1 ................................\n",
      "[CV] ............................ C=10000.0, penalty=l1, total=   0.0s\n",
      "[CV] ................. C=1291.5496650148827, penalty=l1, total=   0.0s\n",
      "[CV] C=10000.0, penalty=l1 ...........................................\n",
      "[CV] C=1291.5496650148827, penalty=l1 ................................\n",
      "[CV] ............................ C=10000.0, penalty=l1, total=   0.0s\n",
      "[CV] ................. C=1291.5496650148827, penalty=l1, total=   0.0s\n",
      "[CV] C=10000.0, penalty=l1 ...........................................\n",
      "[CV] C=1291.5496650148827, penalty=l2 ................................\n",
      "[CV] ................. C=1291.5496650148827, penalty=l2, total=   0.0s\n",
      "[CV] C=1291.5496650148827, penalty=l2 ................................\n",
      "[CV] ............................ C=10000.0, penalty=l1, total=   0.0s\n",
      "[CV] C=10000.0, penalty=l1 ...........................................\n",
      "[CV] ................. C=1291.5496650148827, penalty=l2, total=   0.0s\n",
      "[CV] C=1291.5496650148827, penalty=l2 ................................\n",
      "[CV] ................. C=1291.5496650148827, penalty=l2, total=   0.0s\n",
      "[CV] ............................ C=10000.0, penalty=l1, total=   0.0s\n",
      "[CV] C=10000.0, penalty=l2 ...........................................\n",
      "[CV] C=1291.5496650148827, penalty=l2 ................................\n",
      "[CV] ............................ C=10000.0, penalty=l2, total=   0.0s\n",
      "[CV] C=10000.0, penalty=l2 ...........................................\n",
      "[CV] ................. C=1291.5496650148827, penalty=l2, total=   0.0s\n",
      "[CV] C=1291.5496650148827, penalty=l2 ................................\n",
      "[CV] ............................ C=10000.0, penalty=l2, total=   0.0s\n",
      "[CV] C=10000.0, penalty=l2 ...........................................\n",
      "[CV] ................. C=1291.5496650148827, penalty=l2, total=   0.0s\n",
      "[CV] ............................ C=10000.0, penalty=l2, total=   0.0s\n",
      "[CV] C=10000.0, penalty=l2 ...........................................\n",
      "[CV] ............................ C=10000.0, penalty=l2, total=   0.0s\n",
      "[CV] C=10000.0, penalty=l2 ...........................................\n",
      "[CV] ............................ C=10000.0, penalty=l2, total=   0.0s\n"
     ]
    },
    {
     "name": "stderr",
     "output_type": "stream",
     "text": [
      "[Parallel(n_jobs=-1)]: Done 100 out of 100 | elapsed:    1.2s finished\n"
     ]
    }
   ],
   "source": [
    "best_params = LR_param_selection(X_train,y_train,5)"
   ]
  },
  {
   "cell_type": "code",
   "execution_count": 28,
   "metadata": {},
   "outputs": [
    {
     "data": {
      "text/plain": [
       "{'C': 0.046415888336127774, 'penalty': 'l1'}"
      ]
     },
     "execution_count": 28,
     "metadata": {},
     "output_type": "execute_result"
    }
   ],
   "source": [
    "best_params"
   ]
  },
  {
   "cell_type": "code",
   "execution_count": 29,
   "metadata": {},
   "outputs": [],
   "source": [
    "#clf = XGBClassifier(max_depth=6,n_estimators=3000,)\n",
    "clf = LogisticRegression(C=0.046415888336127774, penalty='l1')"
   ]
  },
  {
   "cell_type": "code",
   "execution_count": 30,
   "metadata": {},
   "outputs": [
    {
     "data": {
      "text/plain": [
       "LogisticRegression(C=0.046415888336127774, class_weight=None, dual=False,\n",
       "          fit_intercept=True, intercept_scaling=1, max_iter=100,\n",
       "          multi_class='ovr', n_jobs=1, penalty='l1', random_state=None,\n",
       "          solver='liblinear', tol=0.0001, verbose=0, warm_start=False)"
      ]
     },
     "execution_count": 30,
     "metadata": {},
     "output_type": "execute_result"
    }
   ],
   "source": [
    "clf.fit(X_train,y_train)"
   ]
  },
  {
   "cell_type": "markdown",
   "metadata": {},
   "source": [
    "#### Testing Accuracy"
   ]
  },
  {
   "cell_type": "code",
   "execution_count": 31,
   "metadata": {},
   "outputs": [
    {
     "name": "stdout",
     "output_type": "stream",
     "text": [
      "Accuracy: 68.52%\n"
     ]
    }
   ],
   "source": [
    "preds_val = clf.predict(X_test)\n",
    "accuracy = accuracy_score(y_test, preds_val)\n",
    "print(\"Accuracy: %.2f%%\" % (accuracy * 100.0))"
   ]
  },
  {
   "cell_type": "code",
   "execution_count": 32,
   "metadata": {},
   "outputs": [],
   "source": [
    "from sklearn.metrics import confusion_matrix"
   ]
  },
  {
   "cell_type": "code",
   "execution_count": 33,
   "metadata": {},
   "outputs": [
    {
     "data": {
      "text/plain": [
       "array([[628, 334],\n",
       "       [267, 680]])"
      ]
     },
     "execution_count": 33,
     "metadata": {},
     "output_type": "execute_result"
    }
   ],
   "source": [
    "confusion_matrix(y_test, preds_val)"
   ]
  },
  {
   "cell_type": "code",
   "execution_count": 34,
   "metadata": {},
   "outputs": [
    {
     "data": {
      "text/plain": [
       "(1909,)"
      ]
     },
     "execution_count": 34,
     "metadata": {},
     "output_type": "execute_result"
    }
   ],
   "source": [
    "preds_val.shape"
   ]
  },
  {
   "cell_type": "code",
   "execution_count": 35,
   "metadata": {},
   "outputs": [],
   "source": [
    "from sklearn.utils.multiclass import unique_labels\n",
    "import matplotlib.pyplot as plt\n",
    "def plot_confusion_matrix(y_true, y_pred, classes,\n",
    "                          normalize=False,\n",
    "                          title=None,\n",
    "                          cmap=plt.cm.Blues):\n",
    "    \"\"\"\n",
    "    This function prints and plots the confusion matrix.\n",
    "    Normalization can be applied by setting `normalize=True`.\n",
    "    \"\"\"\n",
    "    if not title:\n",
    "        if normalize:\n",
    "            title = 'Normalized confusion matrix'\n",
    "        else:\n",
    "            title = 'Confusion matrix, without normalization'\n",
    "\n",
    "    # Compute confusion matrix\n",
    "    cm = confusion_matrix(y_true, y_pred)\n",
    "    # Only use the labels that appear in the data\n",
    "    classes = classes[unique_labels(y_true, y_pred)]\n",
    "    if normalize:\n",
    "        cm = cm.astype('float') / cm.sum(axis=1)[:, np.newaxis]\n",
    "        print(\"Normalized confusion matrix\")\n",
    "    else:\n",
    "        print('Confusion matrix, without normalization')\n",
    "\n",
    "    print(cm)\n",
    "\n",
    "    fig, ax = plt.subplots()\n",
    "    im = ax.imshow(cm, interpolation='nearest', cmap=cmap)\n",
    "    ax.figure.colorbar(im, ax=ax)\n",
    "    # We want to show all ticks...\n",
    "    ax.set(xticks=np.arange(cm.shape[1]),\n",
    "           yticks=np.arange(cm.shape[0]),\n",
    "           # ... and label them with the respective list entries\n",
    "           xticklabels=classes, yticklabels=classes,\n",
    "           title=title,\n",
    "           ylabel='True label',\n",
    "           xlabel='Predicted label')\n",
    "\n",
    "    # Rotate the tick labels and set their alignment.\n",
    "    plt.setp(ax.get_xticklabels(), rotation=45, ha=\"right\",\n",
    "             rotation_mode=\"anchor\")\n",
    "\n",
    "    # Loop over data dimensions and create text annotations.\n",
    "    fmt = '.2f' if normalize else 'd'\n",
    "    thresh = cm.max() / 2.\n",
    "    for i in range(cm.shape[0]):\n",
    "        for j in range(cm.shape[1]):\n",
    "            ax.text(j, i, format(cm[i, j], fmt),\n",
    "                    ha=\"center\", va=\"center\",\n",
    "                    color=\"white\" if cm[i, j] > thresh else \"black\")\n",
    "    fig.tight_layout()\n",
    "    return ax"
   ]
  },
  {
   "cell_type": "code",
   "execution_count": 36,
   "metadata": {},
   "outputs": [
    {
     "name": "stdout",
     "output_type": "stream",
     "text": [
      "Confusion matrix, without normalization\n",
      "[[628 334]\n",
      " [267 680]]\n"
     ]
    },
    {
     "data": {
      "text/plain": [
       "<matplotlib.axes._subplots.AxesSubplot at 0x110b0d668>"
      ]
     },
     "execution_count": 36,
     "metadata": {},
     "output_type": "execute_result"
    },
    {
     "data": {
      "image/png": "[encoded data removed]",
      "text/plain": [
       "<Figure size 432x288 with 2 Axes>"
      ]
     },
     "metadata": {},
     "output_type": "display_data"
    }
   ],
   "source": [
    "plot_confusion_matrix(y_test, preds_val,np.array(['Non-Eat','Eat']))"
   ]
  },
  {
   "cell_type": "markdown",
   "metadata": {},
   "source": [
    "#### Testing with Unbalanced data (77670 samples)"
   ]
  },
  {
   "cell_type": "code",
   "execution_count": 37,
   "metadata": {},
   "outputs": [
    {
     "name": "stdout",
     "output_type": "stream",
     "text": [
      "(77670, 8)\n",
      "Accuracy: 65.25%\n"
     ]
    }
   ],
   "source": [
    "print(X_unbalanced_new.shape)\n",
    "preds_val_unbalanced = clf.predict(X_unbalanced_new)\n",
    "accuracy = accuracy_score(Y_unbalancedData, preds_val_unbalanced)\n",
    "print(\"Accuracy: %.2f%%\" % (accuracy * 100.0))"
   ]
  },
  {
   "cell_type": "code",
   "execution_count": 38,
   "metadata": {},
   "outputs": [
    {
     "name": "stdout",
     "output_type": "stream",
     "text": [
      "Confusion matrix, without normalization\n",
      "[[48386 26103]\n",
      " [  885  2296]]\n"
     ]
    },
    {
     "data": {
      "text/plain": [
       "<matplotlib.axes._subplots.AxesSubplot at 0x1a1d06ae10>"
      ]
     },
     "execution_count": 38,
     "metadata": {},
     "output_type": "execute_result"
    },
    {
     "data": {
      "image/png": "[encoded data removed]",
      "text/plain": [
       "<Figure size 432x288 with 2 Axes>"
      ]
     },
     "metadata": {},
     "output_type": "display_data"
    }
   ],
   "source": [
    "plot_confusion_matrix(Y_unbalancedData, preds_val_unbalanced,np.array(['Non-Eat','Eat']))"
   ]
  },
  {
   "cell_type": "markdown",
   "metadata": {},
   "source": [
    "### Training Accuracy"
   ]
  },
  {
   "cell_type": "code",
   "execution_count": 39,
   "metadata": {},
   "outputs": [
    {
     "name": "stdout",
     "output_type": "stream",
     "text": [
      "(4453, 8)\n",
      "Accuracy: 68.47%\n"
     ]
    }
   ],
   "source": [
    "print(X_train.shape)\n",
    "preds_val_train = clf.predict(X_train)\n",
    "accuracy = accuracy_score(y_train, preds_val_train)\n",
    "print(\"Accuracy: %.2f%%\" % (accuracy * 100.0))"
   ]
  },
  {
   "cell_type": "code",
   "execution_count": 40,
   "metadata": {},
   "outputs": [
    {
     "name": "stdout",
     "output_type": "stream",
     "text": [
      "Confusion matrix, without normalization\n",
      "[[1433  786]\n",
      " [ 618 1616]]\n"
     ]
    },
    {
     "data": {
      "text/plain": [
       "<matplotlib.axes._subplots.AxesSubplot at 0x1a1d06ad30>"
      ]
     },
     "execution_count": 40,
     "metadata": {},
     "output_type": "execute_result"
    },
    {
     "data": {
      "image/png": "[encoded data removed]",
      "text/plain": [
       "<Figure size 432x288 with 2 Axes>"
      ]
     },
     "metadata": {},
     "output_type": "display_data"
    }
   ],
   "source": [
    "plot_confusion_matrix(y_train, preds_val_train,np.array(['Non-Eat','Eat']))"
   ]
  },
  {
   "cell_type": "markdown",
   "metadata": {},
   "source": [
    "## GNB"
   ]
  },
  {
   "cell_type": "code",
   "execution_count": 41,
   "metadata": {},
   "outputs": [],
   "source": [
    "#from lightgbm import LGBMClassifier\n",
    "#from sklearn.naive_bayes import MultinomialNB\n",
    "#model1 = MultinomialNB()\n",
    "from sklearn.naive_bayes import GaussianNB\n",
    "gnb = GaussianNB()\n",
    "\n",
    "#model1 = LGBMClassifier(boosting_type='gbdt', num_leaves=31, max_depth=-1, learning_rate=0.1, n_estimators=100, subsample_for_bin=200000, objective=None, class_weight=None, min_split_gain=0.0, min_child_weight=0.001, min_child_samples=20, subsample=1.0, subsample_freq=0, colsample_bytree=1.0, reg_alpha=0.0, reg_lambda=0.0, random_state=42, n_jobs=-1, silent=True, importance_type='split',)"
   ]
  },
  {
   "cell_type": "code",
   "execution_count": 42,
   "metadata": {
    "scrolled": true
   },
   "outputs": [
    {
     "name": "stdout",
     "output_type": "stream",
     "text": [
      "(4453, 8) (4453,)\n"
     ]
    }
   ],
   "source": [
    "print (X_train.shape, y_train.shape)\n",
    "model = gnb.fit(X_train, y_train)"
   ]
  },
  {
   "cell_type": "code",
   "execution_count": 43,
   "metadata": {},
   "outputs": [
    {
     "name": "stdout",
     "output_type": "stream",
     "text": [
      "Accuracy: 64.17%\n"
     ]
    }
   ],
   "source": [
    "from sklearn.metrics import accuracy_score\n",
    "preds_val = model.predict(X_test)\n",
    "accuracy = accuracy_score(y_test, preds_val)\n",
    "print(\"Accuracy: %.2f%%\" % (accuracy * 100.0))"
   ]
  },
  {
   "cell_type": "code",
   "execution_count": 44,
   "metadata": {
    "scrolled": true
   },
   "outputs": [
    {
     "name": "stdout",
     "output_type": "stream",
     "text": [
      "Confusion matrix, without normalization\n",
      "[[456 506]\n",
      " [178 769]]\n"
     ]
    },
    {
     "data": {
      "text/plain": [
       "<matplotlib.axes._subplots.AxesSubplot at 0x1a1d57f4e0>"
      ]
     },
     "execution_count": 44,
     "metadata": {},
     "output_type": "execute_result"
    },
    {
     "data": {
      "image/png": "[encoded data removed]",
      "text/plain": [
       "<Figure size 432x288 with 2 Axes>"
      ]
     },
     "metadata": {},
     "output_type": "display_data"
    }
   ],
   "source": [
    "plot_confusion_matrix(y_test, preds_val,np.array(['Non-Eat','Eat']))"
   ]
  },
  {
   "cell_type": "markdown",
   "metadata": {},
   "source": [
    "#### Training Accuracy"
   ]
  },
  {
   "cell_type": "code",
   "execution_count": 45,
   "metadata": {},
   "outputs": [
    {
     "name": "stdout",
     "output_type": "stream",
     "text": [
      "Accuracy: 66.38%\n"
     ]
    }
   ],
   "source": [
    "from sklearn.metrics import accuracy_score\n",
    "preds_val_train = model.predict(X_train)\n",
    "accuracy = accuracy_score(y_train, preds_val_train)\n",
    "print(\"Accuracy: %.2f%%\" % (accuracy * 100.0))"
   ]
  },
  {
   "cell_type": "code",
   "execution_count": 46,
   "metadata": {
    "scrolled": true
   },
   "outputs": [
    {
     "name": "stdout",
     "output_type": "stream",
     "text": [
      "Confusion matrix, without normalization\n",
      "[[1084 1135]\n",
      " [ 362 1872]]\n"
     ]
    },
    {
     "data": {
      "text/plain": [
       "<matplotlib.axes._subplots.AxesSubplot at 0x1a1d5f05c0>"
      ]
     },
     "execution_count": 46,
     "metadata": {},
     "output_type": "execute_result"
    },
    {
     "data": {
      "image/png": "[encoded data removed]",
      "text/plain": [
       "<Figure size 432x288 with 2 Axes>"
      ]
     },
     "metadata": {},
     "output_type": "display_data"
    }
   ],
   "source": [
    "plot_confusion_matrix(y_train, preds_val_train,np.array(['Non-Eat','Eat']))"
   ]
  },
  {
   "cell_type": "markdown",
   "metadata": {},
   "source": [
    "#### Test with unbalanced data"
   ]
  },
  {
   "cell_type": "code",
   "execution_count": 47,
   "metadata": {},
   "outputs": [
    {
     "name": "stdout",
     "output_type": "stream",
     "text": [
      "Accuracy: 50.17%\n"
     ]
    }
   ],
   "source": [
    "from sklearn.metrics import accuracy_score\n",
    "preds_val = model.predict(X_unbalanced_new)\n",
    "accuracy = accuracy_score(Y_unbalancedData, preds_val)\n",
    "print(\"Accuracy: %.2f%%\" % (accuracy * 100.0))"
   ]
  },
  {
   "cell_type": "code",
   "execution_count": 48,
   "metadata": {},
   "outputs": [
    {
     "name": "stdout",
     "output_type": "stream",
     "text": [
      "Confusion matrix, without normalization\n",
      "[[36329 38160]\n",
      " [  540  2641]]\n"
     ]
    },
    {
     "data": {
      "text/plain": [
       "<matplotlib.axes._subplots.AxesSubplot at 0x1a1d65a358>"
      ]
     },
     "execution_count": 48,
     "metadata": {},
     "output_type": "execute_result"
    },
    {
     "data": {
      "image/png": "[encoded data removed]",
      "text/plain": [
       "<Figure size 432x288 with 2 Axes>"
      ]
     },
     "metadata": {},
     "output_type": "display_data"
    }
   ],
   "source": [
    "plot_confusion_matrix(Y_unbalancedData, preds_val,np.array(['Non-Eat','Eat']))"
   ]
  },
  {
   "cell_type": "markdown",
   "metadata": {},
   "source": [
    "## GPC"
   ]
  },
  {
   "cell_type": "code",
   "execution_count": 49,
   "metadata": {},
   "outputs": [],
   "source": [
    "from sklearn.gaussian_process import GaussianProcessClassifier\n",
    "from sklearn.gaussian_process.kernels import RBF\n",
    "kernel = 1.0 * RBF(1.0)\n",
    "gpc = GaussianProcessClassifier(kernel=kernel, random_state=0,n_jobs = -1)"
   ]
  },
  {
   "cell_type": "code",
   "execution_count": 50,
   "metadata": {},
   "outputs": [
    {
     "name": "stdout",
     "output_type": "stream",
     "text": [
      "(4453, 8) (4453,)\n"
     ]
    }
   ],
   "source": [
    "print (X_train.shape, y_train.shape)\n",
    "model = gpc.fit(X_train, y_train)"
   ]
  },
  {
   "cell_type": "code",
   "execution_count": 51,
   "metadata": {},
   "outputs": [
    {
     "name": "stdout",
     "output_type": "stream",
     "text": [
      "Accuracy: 87.48%\n"
     ]
    }
   ],
   "source": [
    "from sklearn.metrics import accuracy_score\n",
    "preds_val = model.predict(X_test)\n",
    "accuracy = accuracy_score(y_test, preds_val)\n",
    "print(\"Accuracy: %.2f%%\" % (accuracy * 100.0))"
   ]
  },
  {
   "cell_type": "code",
   "execution_count": 53,
   "metadata": {},
   "outputs": [
    {
     "name": "stdout",
     "output_type": "stream",
     "text": [
      "Confusion matrix, without normalization\n",
      "[[837 125]\n",
      " [114 833]]\n"
     ]
    },
    {
     "data": {
      "text/plain": [
       "<matplotlib.axes._subplots.AxesSubplot at 0x1a1e33c080>"
      ]
     },
     "execution_count": 53,
     "metadata": {},
     "output_type": "execute_result"
    },
    {
     "data": {
      "image/png": "[encoded data removed]",
      "text/plain": [
       "<Figure size 432x288 with 2 Axes>"
      ]
     },
     "metadata": {},
     "output_type": "display_data"
    }
   ],
   "source": [
    "plot_confusion_matrix(y_test, preds_val,np.array(['Non-Eat','Eat']))"
   ]
  },
  {
   "cell_type": "markdown",
   "metadata": {},
   "source": [
    "Training Accuracy"
   ]
  },
  {
   "cell_type": "code",
   "execution_count": 54,
   "metadata": {},
   "outputs": [
    {
     "name": "stdout",
     "output_type": "stream",
     "text": [
      "Accuracy: 93.62%\n"
     ]
    }
   ],
   "source": [
    "from sklearn.metrics import accuracy_score\n",
    "preds_val_train = model.predict(X_train)\n",
    "accuracy = accuracy_score(y_train, preds_val_train)\n",
    "print(\"Accuracy: %.2f%%\" % (accuracy * 100.0))"
   ]
  },
  {
   "cell_type": "code",
   "execution_count": 55,
   "metadata": {},
   "outputs": [
    {
     "name": "stdout",
     "output_type": "stream",
     "text": [
      "Confusion matrix, without normalization\n",
      "[[2054  165]\n",
      " [ 119 2115]]\n"
     ]
    },
    {
     "data": {
      "text/plain": [
       "<matplotlib.axes._subplots.AxesSubplot at 0x1a1e323940>"
      ]
     },
     "execution_count": 55,
     "metadata": {},
     "output_type": "execute_result"
    },
    {
     "data": {
      "image/png": "[encoded data removed]",
      "text/plain": [
       "<Figure size 432x288 with 2 Axes>"
      ]
     },
     "metadata": {},
     "output_type": "display_data"
    }
   ],
   "source": [
    "plot_confusion_matrix(y_train, preds_val_train,np.array(['Non-Eat','Eat']))"
   ]
  },
  {
   "cell_type": "markdown",
   "metadata": {},
   "source": [
    "Test with unbalanced data"
   ]
  },
  {
   "cell_type": "code",
   "execution_count": 56,
   "metadata": {},
   "outputs": [
    {
     "name": "stdout",
     "output_type": "stream",
     "text": [
      "Accuracy: 85.21%\n"
     ]
    }
   ],
   "source": [
    "from sklearn.metrics import accuracy_score\n",
    "preds_val = model.predict(X_unbalanced_new)\n",
    "accuracy = accuracy_score(Y_unbalancedData, preds_val)\n",
    "print(\"Accuracy: %.2f%%\" % (accuracy * 100.0))"
   ]
  },
  {
   "cell_type": "code",
   "execution_count": 57,
   "metadata": {},
   "outputs": [
    {
     "name": "stdout",
     "output_type": "stream",
     "text": [
      "Confusion matrix, without normalization\n",
      "[[63232 11257]\n",
      " [  233  2948]]\n"
     ]
    },
    {
     "data": {
      "text/plain": [
       "<matplotlib.axes._subplots.AxesSubplot at 0x1a224986a0>"
      ]
     },
     "execution_count": 57,
     "metadata": {},
     "output_type": "execute_result"
    },
    {
     "data": {
      "image/png": "[encoded data removed]",
      "text/plain": [
       "<Figure size 432x288 with 2 Axes>"
      ]
     },
     "metadata": {},
     "output_type": "display_data"
    }
   ],
   "source": [
    "plot_confusion_matrix(Y_unbalancedData, preds_val,np.array(['Non-Eat','Eat']))"
   ]
  },
  {
   "cell_type": "code",
   "execution_count": null,
   "metadata": {},
   "outputs": [],
   "source": []
  }
 ],
 "metadata": {
  "kernelspec": {
   "display_name": "Python 3",
   "language": "python",
   "name": "python3"
  },
  "language_info": {
   "codemirror_mode": {
    "name": "ipython",
    "version": 3
   },
   "file_extension": ".py",
   "mimetype": "text/x-python",
   "name": "python",
   "nbconvert_exporter": "python",
   "pygments_lexer": "ipython3",
   "version": "3.6.4"
  }
 },
 "nbformat": 4,
 "nbformat_minor": 2
}
