{
 "cells": [
  {
   "cell_type": "code",
   "execution_count": 1,
   "metadata": {},
   "outputs": [],
   "source": [
    "import numpy\n",
    "import os\n",
    "import json\n",
    "import csv\n",
    "import pandas as pd\n",
    "import numpy as np\n",
    "np.random.seed(42)"
   ]
  },
  {
   "cell_type": "code",
   "execution_count": 2,
   "metadata": {},
   "outputs": [],
   "source": [
    "path = \"../../data\""
   ]
  },
  {
   "cell_type": "code",
   "execution_count": 3,
   "metadata": {},
   "outputs": [],
   "source": [
    "file = \"605_output.csv\""
   ]
  },
  {
   "cell_type": "code",
   "execution_count": 4,
   "metadata": {},
   "outputs": [],
   "source": [
    "data = pd.read_csv(os.path.join(path,file),header=None)\n",
    "unbalancedData = pd.read_csv(os.path.join(path,file),header=None)"
   ]
  },
  {
   "cell_type": "code",
   "execution_count": 5,
   "metadata": {},
   "outputs": [
    {
     "data": {
      "text/html": [
       "<div>\n",
       "<style scoped>\n",
       "    .dataframe tbody tr th:only-of-type {\n",
       "        vertical-align: middle;\n",
       "    }\n",
       "\n",
       "    .dataframe tbody tr th {\n",
       "        vertical-align: top;\n",
       "    }\n",
       "\n",
       "    .dataframe thead th {\n",
       "        text-align: right;\n",
       "    }\n",
       "</style>\n",
       "<table border=\"1\" class=\"dataframe\">\n",
       "  <thead>\n",
       "    <tr style=\"text-align: right;\">\n",
       "      <th></th>\n",
       "      <th>0</th>\n",
       "      <th>1</th>\n",
       "      <th>2</th>\n",
       "      <th>3</th>\n",
       "      <th>4</th>\n",
       "      <th>5</th>\n",
       "      <th>6</th>\n",
       "      <th>7</th>\n",
       "      <th>8</th>\n",
       "      <th>9</th>\n",
       "      <th>...</th>\n",
       "      <th>1012</th>\n",
       "      <th>1013</th>\n",
       "      <th>1014</th>\n",
       "      <th>1015</th>\n",
       "      <th>1016</th>\n",
       "      <th>1017</th>\n",
       "      <th>1018</th>\n",
       "      <th>1019</th>\n",
       "      <th>1020</th>\n",
       "      <th>1021</th>\n",
       "    </tr>\n",
       "  </thead>\n",
       "  <tbody>\n",
       "    <tr>\n",
       "      <th>0</th>\n",
       "      <td>Kuntal-012345678910111213141516171819202122232...</td>\n",
       "      <td>-1.647343</td>\n",
       "      <td>-1.956522</td>\n",
       "      <td>-1.562802</td>\n",
       "      <td>-1.115942</td>\n",
       "      <td>-1.084541</td>\n",
       "      <td>-1.118357</td>\n",
       "      <td>-0.971014</td>\n",
       "      <td>127.000000</td>\n",
       "      <td>-0.979311</td>\n",
       "      <td>...</td>\n",
       "      <td>-0.966300</td>\n",
       "      <td>0.093000</td>\n",
       "      <td>0.102553</td>\n",
       "      <td>-0.217193</td>\n",
       "      <td>-0.215093</td>\n",
       "      <td>0.171953</td>\n",
       "      <td>-0.959640</td>\n",
       "      <td>-1.271660</td>\n",
       "      <td>-0.065360</td>\n",
       "      <td>0</td>\n",
       "    </tr>\n",
       "    <tr>\n",
       "      <th>1</th>\n",
       "      <td>Kuntal-123456789101112131415161718192021222324...</td>\n",
       "      <td>-2.745819</td>\n",
       "      <td>-3.035117</td>\n",
       "      <td>-3.526756</td>\n",
       "      <td>-1.448161</td>\n",
       "      <td>-1.683946</td>\n",
       "      <td>-0.836120</td>\n",
       "      <td>-0.968227</td>\n",
       "      <td>-32.822742</td>\n",
       "      <td>-0.980840</td>\n",
       "      <td>...</td>\n",
       "      <td>-0.965154</td>\n",
       "      <td>0.102027</td>\n",
       "      <td>0.104617</td>\n",
       "      <td>-0.216946</td>\n",
       "      <td>-0.234013</td>\n",
       "      <td>0.171362</td>\n",
       "      <td>-0.956268</td>\n",
       "      <td>-1.228134</td>\n",
       "      <td>-0.740772</td>\n",
       "      <td>0</td>\n",
       "    </tr>\n",
       "    <tr>\n",
       "      <th>2</th>\n",
       "      <td>Kuntal-234567891011121314151617181920212223242...</td>\n",
       "      <td>-1.618333</td>\n",
       "      <td>-1.761667</td>\n",
       "      <td>-1.893333</td>\n",
       "      <td>-1.003333</td>\n",
       "      <td>-0.115000</td>\n",
       "      <td>-0.823333</td>\n",
       "      <td>-0.950000</td>\n",
       "      <td>-122.951667</td>\n",
       "      <td>-0.979620</td>\n",
       "      <td>...</td>\n",
       "      <td>-0.964497</td>\n",
       "      <td>0.103819</td>\n",
       "      <td>0.105866</td>\n",
       "      <td>-0.218805</td>\n",
       "      <td>-0.237940</td>\n",
       "      <td>0.171899</td>\n",
       "      <td>-0.954987</td>\n",
       "      <td>-1.392201</td>\n",
       "      <td>0.041973</td>\n",
       "      <td>0</td>\n",
       "    </tr>\n",
       "    <tr>\n",
       "      <th>3</th>\n",
       "      <td>Kuntal-345678910111213141516171819202122232425...</td>\n",
       "      <td>-2.436242</td>\n",
       "      <td>-2.174497</td>\n",
       "      <td>-2.374161</td>\n",
       "      <td>-0.748322</td>\n",
       "      <td>-0.817114</td>\n",
       "      <td>-0.701342</td>\n",
       "      <td>-0.877517</td>\n",
       "      <td>-127.332215</td>\n",
       "      <td>-0.976527</td>\n",
       "      <td>...</td>\n",
       "      <td>-0.902667</td>\n",
       "      <td>0.156113</td>\n",
       "      <td>0.110167</td>\n",
       "      <td>-0.342600</td>\n",
       "      <td>-0.337480</td>\n",
       "      <td>0.082573</td>\n",
       "      <td>-0.907127</td>\n",
       "      <td>1.305840</td>\n",
       "      <td>-6.750820</td>\n",
       "      <td>0</td>\n",
       "    </tr>\n",
       "    <tr>\n",
       "      <th>4</th>\n",
       "      <td>Kuntal-456789101112131415161718192021222324252...</td>\n",
       "      <td>-1.081940</td>\n",
       "      <td>-1.645485</td>\n",
       "      <td>-1.613712</td>\n",
       "      <td>-0.735786</td>\n",
       "      <td>-0.476589</td>\n",
       "      <td>-0.551839</td>\n",
       "      <td>-0.946488</td>\n",
       "      <td>-1.994983</td>\n",
       "      <td>-0.971327</td>\n",
       "      <td>...</td>\n",
       "      <td>-0.729093</td>\n",
       "      <td>0.279887</td>\n",
       "      <td>-0.109307</td>\n",
       "      <td>-0.488367</td>\n",
       "      <td>-0.349880</td>\n",
       "      <td>-0.325407</td>\n",
       "      <td>-0.617820</td>\n",
       "      <td>30.652920</td>\n",
       "      <td>18.523353</td>\n",
       "      <td>0</td>\n",
       "    </tr>\n",
       "  </tbody>\n",
       "</table>\n",
       "<p>5 rows × 1022 columns</p>\n",
       "</div>"
      ],
      "text/plain": [
       "                                                0         1         2     \\\n",
       "0  Kuntal-012345678910111213141516171819202122232... -1.647343 -1.956522   \n",
       "1  Kuntal-123456789101112131415161718192021222324... -2.745819 -3.035117   \n",
       "2  Kuntal-234567891011121314151617181920212223242... -1.618333 -1.761667   \n",
       "3  Kuntal-345678910111213141516171819202122232425... -2.436242 -2.174497   \n",
       "4  Kuntal-456789101112131415161718192021222324252... -1.081940 -1.645485   \n",
       "\n",
       "       3         4         5         6         7           8         9     \\\n",
       "0 -1.562802 -1.115942 -1.084541 -1.118357 -0.971014  127.000000 -0.979311   \n",
       "1 -3.526756 -1.448161 -1.683946 -0.836120 -0.968227  -32.822742 -0.980840   \n",
       "2 -1.893333 -1.003333 -0.115000 -0.823333 -0.950000 -122.951667 -0.979620   \n",
       "3 -2.374161 -0.748322 -0.817114 -0.701342 -0.877517 -127.332215 -0.976527   \n",
       "4 -1.613712 -0.735786 -0.476589 -0.551839 -0.946488   -1.994983 -0.971327   \n",
       "\n",
       "   ...       1012      1013      1014      1015      1016      1017      1018  \\\n",
       "0  ...  -0.966300  0.093000  0.102553 -0.217193 -0.215093  0.171953 -0.959640   \n",
       "1  ...  -0.965154  0.102027  0.104617 -0.216946 -0.234013  0.171362 -0.956268   \n",
       "2  ...  -0.964497  0.103819  0.105866 -0.218805 -0.237940  0.171899 -0.954987   \n",
       "3  ...  -0.902667  0.156113  0.110167 -0.342600 -0.337480  0.082573 -0.907127   \n",
       "4  ...  -0.729093  0.279887 -0.109307 -0.488367 -0.349880 -0.325407 -0.617820   \n",
       "\n",
       "        1019       1020  1021  \n",
       "0  -1.271660  -0.065360     0  \n",
       "1  -1.228134  -0.740772     0  \n",
       "2  -1.392201   0.041973     0  \n",
       "3   1.305840  -6.750820     0  \n",
       "4  30.652920  18.523353     0  \n",
       "\n",
       "[5 rows x 1022 columns]"
      ]
     },
     "execution_count": 5,
     "metadata": {},
     "output_type": "execute_result"
    }
   ],
   "source": [
    "data.head()"
   ]
  },
  {
   "cell_type": "code",
   "execution_count": 6,
   "metadata": {},
   "outputs": [],
   "source": [
    "mins = data.min().values"
   ]
  },
  {
   "cell_type": "code",
   "execution_count": 7,
   "metadata": {},
   "outputs": [
    {
     "data": {
      "text/plain": [
       "(array([-128.0, -128.0, -128.0, -128.0, -128.0, -128.0, -128.0, -128.0,\n",
       "        -0.9962333333333336, -0.9980135135135147, -0.9990536912751669,\n",
       "        -0.9969848484848488, -1.0351006711409396, -1.0888399999999996,\n",
       "        -1.0576778523489938, -72.26845637583892, -92.37037333333332],\n",
       "       dtype=object),\n",
       " array([-128.0, -128.0, -128.0, -128.0, -128.0, -128.0, -128.0,\n",
       "        -0.9962333333333336, -0.9980135135135147, -0.9990536912751669,\n",
       "        -0.9969848484848488, -1.0351006711409396, -1.0888399999999996,\n",
       "        -1.0576778523489938, -72.26845637583892, -92.37037333333332,\n",
       "        -128.0], dtype=object),\n",
       " array([-128.0, -128.0, -128.0, -128.0, -128.0, -128.0,\n",
       "        -0.9962333333333336, -0.9980135135135147, -0.9990536912751669,\n",
       "        -0.9969848484848488, -1.0351006711409396, -1.0888399999999996,\n",
       "        -1.0576778523489938, -72.26845637583892, -92.37037333333332,\n",
       "        -128.0, -128.0], dtype=object))"
      ]
     },
     "execution_count": 7,
     "metadata": {},
     "output_type": "execute_result"
    }
   ],
   "source": [
    "mins[1:18],mins[19:36],mins[37:54]"
   ]
  },
  {
   "cell_type": "code",
   "execution_count": 8,
   "metadata": {},
   "outputs": [
    {
     "data": {
      "text/plain": [
       "(array([127.0, 104.23745819397993, 127.0, 77.01520270270271, 127.0, 127.0,\n",
       "        127.0, 127.0, 0.9982600000000004, 0.994000000000004,\n",
       "        0.9937066666666676, 0.9988333333333312, 1.0430067567567571, 1.107,\n",
       "        1.0143154362416105, 75.6648523489933, 80.64663999999998],\n",
       "       dtype=object),\n",
       " array([104.23745819397993, 127.0, 77.01520270270271, 127.0, 127.0, 127.0,\n",
       "        127.0, 0.9982600000000004, 0.994000000000004, 0.9937066666666676,\n",
       "        0.9988333333333312, 1.0430067567567571, 1.107, 1.0143154362416105,\n",
       "        75.6648523489933, 80.64663999999998, 127.0], dtype=object),\n",
       " array([127.0, 77.01520270270271, 127.0, 127.0, 127.0, 127.0,\n",
       "        0.9982600000000004, 0.994000000000004, 0.9937066666666676,\n",
       "        0.9988333333333312, 1.0430067567567571, 1.107, 1.0143154362416105,\n",
       "        75.6648523489933, 80.64663999999998, 127.0, 104.23745819397993],\n",
       "       dtype=object))"
      ]
     },
     "execution_count": 8,
     "metadata": {},
     "output_type": "execute_result"
    }
   ],
   "source": [
    "maxs = data.max().values\n",
    "maxs[1:18],maxs[19:36],maxs[37:54]"
   ]
  },
  {
   "cell_type": "code",
   "execution_count": 9,
   "metadata": {},
   "outputs": [
    {
     "name": "stdout",
     "output_type": "stream",
     "text": [
      "1021 1\n",
      "1021 0\n"
     ]
    }
   ],
   "source": [
    "for index,mx in enumerate(maxs):\n",
    "    if mx == 1:\n",
    "        print(index,mx)\n",
    "for index,mx in enumerate(mins):\n",
    "    if mx == 0:\n",
    "        print(index,mx)"
   ]
  },
  {
   "cell_type": "code",
   "execution_count": 10,
   "metadata": {},
   "outputs": [
    {
     "data": {
      "text/html": [
       "<div>\n",
       "<style scoped>\n",
       "    .dataframe tbody tr th:only-of-type {\n",
       "        vertical-align: middle;\n",
       "    }\n",
       "\n",
       "    .dataframe tbody tr th {\n",
       "        vertical-align: top;\n",
       "    }\n",
       "\n",
       "    .dataframe thead th {\n",
       "        text-align: right;\n",
       "    }\n",
       "</style>\n",
       "<table border=\"1\" class=\"dataframe\">\n",
       "  <thead>\n",
       "    <tr style=\"text-align: right;\">\n",
       "      <th></th>\n",
       "      <th>1</th>\n",
       "      <th>2</th>\n",
       "      <th>3</th>\n",
       "      <th>4</th>\n",
       "      <th>5</th>\n",
       "      <th>6</th>\n",
       "      <th>7</th>\n",
       "      <th>8</th>\n",
       "      <th>9</th>\n",
       "      <th>10</th>\n",
       "      <th>...</th>\n",
       "      <th>1012</th>\n",
       "      <th>1013</th>\n",
       "      <th>1014</th>\n",
       "      <th>1015</th>\n",
       "      <th>1016</th>\n",
       "      <th>1017</th>\n",
       "      <th>1018</th>\n",
       "      <th>1019</th>\n",
       "      <th>1020</th>\n",
       "      <th>1021</th>\n",
       "    </tr>\n",
       "  </thead>\n",
       "  <tbody>\n",
       "    <tr>\n",
       "      <th>count</th>\n",
       "      <td>77430.000000</td>\n",
       "      <td>77430.000000</td>\n",
       "      <td>77430.000000</td>\n",
       "      <td>77430.000000</td>\n",
       "      <td>77430.000000</td>\n",
       "      <td>77430.000000</td>\n",
       "      <td>77430.000000</td>\n",
       "      <td>77430.000000</td>\n",
       "      <td>77430.000000</td>\n",
       "      <td>77430.000000</td>\n",
       "      <td>...</td>\n",
       "      <td>77430.000000</td>\n",
       "      <td>77430.000000</td>\n",
       "      <td>77430.000000</td>\n",
       "      <td>77430.000000</td>\n",
       "      <td>77430.000000</td>\n",
       "      <td>77430.000000</td>\n",
       "      <td>77430.000000</td>\n",
       "      <td>77430.000000</td>\n",
       "      <td>77430.000000</td>\n",
       "      <td>77430.000000</td>\n",
       "    </tr>\n",
       "    <tr>\n",
       "      <th>mean</th>\n",
       "      <td>-0.777526</td>\n",
       "      <td>-0.873418</td>\n",
       "      <td>-0.873758</td>\n",
       "      <td>-1.008991</td>\n",
       "      <td>-1.036573</td>\n",
       "      <td>-1.163523</td>\n",
       "      <td>-0.914528</td>\n",
       "      <td>2.353880</td>\n",
       "      <td>0.010561</td>\n",
       "      <td>0.003688</td>\n",
       "      <td>...</td>\n",
       "      <td>0.010381</td>\n",
       "      <td>0.003366</td>\n",
       "      <td>0.020808</td>\n",
       "      <td>0.018543</td>\n",
       "      <td>0.073801</td>\n",
       "      <td>-0.007955</td>\n",
       "      <td>-0.560441</td>\n",
       "      <td>-1.873509</td>\n",
       "      <td>-0.346071</td>\n",
       "      <td>0.041082</td>\n",
       "    </tr>\n",
       "    <tr>\n",
       "      <th>std</th>\n",
       "      <td>3.780541</td>\n",
       "      <td>2.455614</td>\n",
       "      <td>3.591851</td>\n",
       "      <td>2.562532</td>\n",
       "      <td>3.592684</td>\n",
       "      <td>3.655397</td>\n",
       "      <td>3.559268</td>\n",
       "      <td>18.537587</td>\n",
       "      <td>0.616875</td>\n",
       "      <td>0.310130</td>\n",
       "      <td>...</td>\n",
       "      <td>0.616190</td>\n",
       "      <td>0.310516</td>\n",
       "      <td>0.343734</td>\n",
       "      <td>0.624387</td>\n",
       "      <td>0.455219</td>\n",
       "      <td>0.465129</td>\n",
       "      <td>0.505759</td>\n",
       "      <td>6.832723</td>\n",
       "      <td>6.601899</td>\n",
       "      <td>0.198482</td>\n",
       "    </tr>\n",
       "    <tr>\n",
       "      <th>min</th>\n",
       "      <td>-128.000000</td>\n",
       "      <td>-128.000000</td>\n",
       "      <td>-128.000000</td>\n",
       "      <td>-128.000000</td>\n",
       "      <td>-128.000000</td>\n",
       "      <td>-128.000000</td>\n",
       "      <td>-128.000000</td>\n",
       "      <td>-128.000000</td>\n",
       "      <td>-0.996233</td>\n",
       "      <td>-0.998014</td>\n",
       "      <td>...</td>\n",
       "      <td>-0.996233</td>\n",
       "      <td>-0.998014</td>\n",
       "      <td>-0.999054</td>\n",
       "      <td>-0.996985</td>\n",
       "      <td>-1.035101</td>\n",
       "      <td>-1.088840</td>\n",
       "      <td>-1.057678</td>\n",
       "      <td>-72.268456</td>\n",
       "      <td>-92.370373</td>\n",
       "      <td>0.000000</td>\n",
       "    </tr>\n",
       "    <tr>\n",
       "      <th>25%</th>\n",
       "      <td>-1.165549</td>\n",
       "      <td>-1.209030</td>\n",
       "      <td>-1.331667</td>\n",
       "      <td>-1.179414</td>\n",
       "      <td>-1.294314</td>\n",
       "      <td>-1.273457</td>\n",
       "      <td>-1.206081</td>\n",
       "      <td>-1.112040</td>\n",
       "      <td>-0.576370</td>\n",
       "      <td>-0.192121</td>\n",
       "      <td>...</td>\n",
       "      <td>-0.576121</td>\n",
       "      <td>-0.192547</td>\n",
       "      <td>-0.185705</td>\n",
       "      <td>-0.557000</td>\n",
       "      <td>-0.253153</td>\n",
       "      <td>-0.306912</td>\n",
       "      <td>-0.917460</td>\n",
       "      <td>-3.083372</td>\n",
       "      <td>-0.975352</td>\n",
       "      <td>0.000000</td>\n",
       "    </tr>\n",
       "    <tr>\n",
       "      <th>50%</th>\n",
       "      <td>-0.956376</td>\n",
       "      <td>-0.979798</td>\n",
       "      <td>-1.031773</td>\n",
       "      <td>-0.973064</td>\n",
       "      <td>-1.058528</td>\n",
       "      <td>-1.010169</td>\n",
       "      <td>-0.996610</td>\n",
       "      <td>-0.595318</td>\n",
       "      <td>0.015043</td>\n",
       "      <td>0.008910</td>\n",
       "      <td>...</td>\n",
       "      <td>0.013786</td>\n",
       "      <td>0.008531</td>\n",
       "      <td>0.029696</td>\n",
       "      <td>0.010946</td>\n",
       "      <td>0.088787</td>\n",
       "      <td>0.010872</td>\n",
       "      <td>-0.772732</td>\n",
       "      <td>-1.448770</td>\n",
       "      <td>-0.250865</td>\n",
       "      <td>0.000000</td>\n",
       "    </tr>\n",
       "    <tr>\n",
       "      <th>75%</th>\n",
       "      <td>-0.695286</td>\n",
       "      <td>-0.777778</td>\n",
       "      <td>-0.744147</td>\n",
       "      <td>-0.739865</td>\n",
       "      <td>-0.801667</td>\n",
       "      <td>-0.711667</td>\n",
       "      <td>-0.748311</td>\n",
       "      <td>2.690256</td>\n",
       "      <td>0.587549</td>\n",
       "      <td>0.172666</td>\n",
       "      <td>...</td>\n",
       "      <td>0.585724</td>\n",
       "      <td>0.173020</td>\n",
       "      <td>0.220261</td>\n",
       "      <td>0.620667</td>\n",
       "      <td>0.406675</td>\n",
       "      <td>0.287152</td>\n",
       "      <td>-0.363502</td>\n",
       "      <td>-1.071672</td>\n",
       "      <td>0.252863</td>\n",
       "      <td>0.000000</td>\n",
       "    </tr>\n",
       "    <tr>\n",
       "      <th>max</th>\n",
       "      <td>127.000000</td>\n",
       "      <td>104.237458</td>\n",
       "      <td>127.000000</td>\n",
       "      <td>77.015203</td>\n",
       "      <td>127.000000</td>\n",
       "      <td>127.000000</td>\n",
       "      <td>127.000000</td>\n",
       "      <td>127.000000</td>\n",
       "      <td>0.998260</td>\n",
       "      <td>0.994000</td>\n",
       "      <td>...</td>\n",
       "      <td>0.998260</td>\n",
       "      <td>0.990000</td>\n",
       "      <td>0.993707</td>\n",
       "      <td>0.998833</td>\n",
       "      <td>1.043007</td>\n",
       "      <td>1.107000</td>\n",
       "      <td>1.014315</td>\n",
       "      <td>75.664852</td>\n",
       "      <td>80.646640</td>\n",
       "      <td>1.000000</td>\n",
       "    </tr>\n",
       "  </tbody>\n",
       "</table>\n",
       "<p>8 rows × 1021 columns</p>\n",
       "</div>"
      ],
      "text/plain": [
       "               1             2             3             4             5     \\\n",
       "count  77430.000000  77430.000000  77430.000000  77430.000000  77430.000000   \n",
       "mean      -0.777526     -0.873418     -0.873758     -1.008991     -1.036573   \n",
       "std        3.780541      2.455614      3.591851      2.562532      3.592684   \n",
       "min     -128.000000   -128.000000   -128.000000   -128.000000   -128.000000   \n",
       "25%       -1.165549     -1.209030     -1.331667     -1.179414     -1.294314   \n",
       "50%       -0.956376     -0.979798     -1.031773     -0.973064     -1.058528   \n",
       "75%       -0.695286     -0.777778     -0.744147     -0.739865     -0.801667   \n",
       "max      127.000000    104.237458    127.000000     77.015203    127.000000   \n",
       "\n",
       "               6             7             8             9             10    \\\n",
       "count  77430.000000  77430.000000  77430.000000  77430.000000  77430.000000   \n",
       "mean      -1.163523     -0.914528      2.353880      0.010561      0.003688   \n",
       "std        3.655397      3.559268     18.537587      0.616875      0.310130   \n",
       "min     -128.000000   -128.000000   -128.000000     -0.996233     -0.998014   \n",
       "25%       -1.273457     -1.206081     -1.112040     -0.576370     -0.192121   \n",
       "50%       -1.010169     -0.996610     -0.595318      0.015043      0.008910   \n",
       "75%       -0.711667     -0.748311      2.690256      0.587549      0.172666   \n",
       "max      127.000000    127.000000    127.000000      0.998260      0.994000   \n",
       "\n",
       "           ...               1012          1013          1014          1015  \\\n",
       "count      ...       77430.000000  77430.000000  77430.000000  77430.000000   \n",
       "mean       ...           0.010381      0.003366      0.020808      0.018543   \n",
       "std        ...           0.616190      0.310516      0.343734      0.624387   \n",
       "min        ...          -0.996233     -0.998014     -0.999054     -0.996985   \n",
       "25%        ...          -0.576121     -0.192547     -0.185705     -0.557000   \n",
       "50%        ...           0.013786      0.008531      0.029696      0.010946   \n",
       "75%        ...           0.585724      0.173020      0.220261      0.620667   \n",
       "max        ...           0.998260      0.990000      0.993707      0.998833   \n",
       "\n",
       "               1016          1017          1018          1019          1020  \\\n",
       "count  77430.000000  77430.000000  77430.000000  77430.000000  77430.000000   \n",
       "mean       0.073801     -0.007955     -0.560441     -1.873509     -0.346071   \n",
       "std        0.455219      0.465129      0.505759      6.832723      6.601899   \n",
       "min       -1.035101     -1.088840     -1.057678    -72.268456    -92.370373   \n",
       "25%       -0.253153     -0.306912     -0.917460     -3.083372     -0.975352   \n",
       "50%        0.088787      0.010872     -0.772732     -1.448770     -0.250865   \n",
       "75%        0.406675      0.287152     -0.363502     -1.071672      0.252863   \n",
       "max        1.043007      1.107000      1.014315     75.664852     80.646640   \n",
       "\n",
       "               1021  \n",
       "count  77430.000000  \n",
       "mean       0.041082  \n",
       "std        0.198482  \n",
       "min        0.000000  \n",
       "25%        0.000000  \n",
       "50%        0.000000  \n",
       "75%        0.000000  \n",
       "max        1.000000  \n",
       "\n",
       "[8 rows x 1021 columns]"
      ]
     },
     "execution_count": 10,
     "metadata": {},
     "output_type": "execute_result"
    }
   ],
   "source": [
    "data.describe()"
   ]
  },
  {
   "cell_type": "code",
   "execution_count": 10,
   "metadata": {},
   "outputs": [],
   "source": [
    "noneatData = data[data[data.columns[1021]]==0]"
   ]
  },
  {
   "cell_type": "code",
   "execution_count": 11,
   "metadata": {},
   "outputs": [],
   "source": [
    "eatData = data[data[data.columns[1021]]==1]"
   ]
  },
  {
   "cell_type": "code",
   "execution_count": 12,
   "metadata": {},
   "outputs": [
    {
     "name": "stdout",
     "output_type": "stream",
     "text": [
      "(74249, 1022) (3181, 1022)\n"
     ]
    }
   ],
   "source": [
    "print(noneatData.shape,eatData.shape)"
   ]
  },
  {
   "cell_type": "code",
   "execution_count": 13,
   "metadata": {},
   "outputs": [],
   "source": [
    "noneatData = noneatData.sample(n=3181)"
   ]
  },
  {
   "cell_type": "code",
   "execution_count": 14,
   "metadata": {},
   "outputs": [
    {
     "name": "stdout",
     "output_type": "stream",
     "text": [
      "(3181, 1022) (3181, 1022)\n"
     ]
    }
   ],
   "source": [
    "print(noneatData.shape,eatData.shape)"
   ]
  },
  {
   "cell_type": "markdown",
   "metadata": {},
   "source": [
    "### Data Vectorization"
   ]
  },
  {
   "cell_type": "code",
   "execution_count": 15,
   "metadata": {},
   "outputs": [],
   "source": [
    "data = pd.concat([noneatData,eatData])"
   ]
  },
  {
   "cell_type": "code",
   "execution_count": 16,
   "metadata": {},
   "outputs": [],
   "source": [
    "X_data = np.array(data[data.columns[1:1021]].values.tolist())\n",
    "X_unbalancedData = np.array(unbalancedData[unbalancedData.columns[1:1021]].values.tolist())"
   ]
  },
  {
   "cell_type": "code",
   "execution_count": 17,
   "metadata": {},
   "outputs": [
    {
     "data": {
      "text/plain": [
       "(1020,)"
      ]
     },
     "execution_count": 17,
     "metadata": {},
     "output_type": "execute_result"
    }
   ],
   "source": [
    "#data[data.columns[134]].head()\n",
    "X_data[0].shape"
   ]
  },
  {
   "cell_type": "code",
   "execution_count": 18,
   "metadata": {},
   "outputs": [
    {
     "name": "stdout",
     "output_type": "stream",
     "text": [
      "(6362, 1020) (77430, 1020)\n"
     ]
    }
   ],
   "source": [
    "print (X_data.shape,X_unbalancedData.shape)"
   ]
  },
  {
   "cell_type": "code",
   "execution_count": 19,
   "metadata": {},
   "outputs": [],
   "source": [
    "Y_data = np.array(data[data.columns[1021]].values.tolist())\n",
    "Y_unbalancedData = np.array(unbalancedData[unbalancedData.columns[1021]].values.tolist())"
   ]
  },
  {
   "cell_type": "code",
   "execution_count": 5,
   "metadata": {},
   "outputs": [
    {
     "ename": "NameError",
     "evalue": "name 'Y_data' is not defined",
     "output_type": "error",
     "traceback": [
      "\u001b[0;31m---------------------------------------------------------------------------\u001b[0m",
      "\u001b[0;31mNameError\u001b[0m                                 Traceback (most recent call last)",
      "\u001b[0;32m<ipython-input-5-a512aada2000>\u001b[0m in \u001b[0;36m<module>\u001b[0;34m()\u001b[0m\n\u001b[0;32m----> 1\u001b[0;31m \u001b[0mprint\u001b[0m\u001b[0;34m(\u001b[0m\u001b[0mY_data\u001b[0m\u001b[0;34m.\u001b[0m\u001b[0mshape\u001b[0m\u001b[0;34m,\u001b[0m\u001b[0mY_unbalancedData\u001b[0m\u001b[0;34m.\u001b[0m\u001b[0mshape\u001b[0m\u001b[0;34m)\u001b[0m\u001b[0;34m\u001b[0m\u001b[0m\n\u001b[0m",
      "\u001b[0;31mNameError\u001b[0m: name 'Y_data' is not defined"
     ]
    }
   ],
   "source": [
    "print(Y_data.shape,Y_unbalancedData.shape)"
   ]
  },
  {
   "cell_type": "markdown",
   "metadata": {},
   "source": [
    "### Feature Selection"
   ]
  },
  {
   "cell_type": "markdown",
   "metadata": {},
   "source": [
    "#### L1-based feature selection"
   ]
  },
  {
   "cell_type": "code",
   "execution_count": 258,
   "metadata": {},
   "outputs": [],
   "source": [
    "from sklearn.feature_selection import SelectFromModel\n",
    "from sklearn.svm import LinearSVC"
   ]
  },
  {
   "cell_type": "code",
   "execution_count": 53,
   "metadata": {},
   "outputs": [],
   "source": [
    "# lsvc = LinearSVC(C=0.01, penalty=\"l1\", dual=False).fit(X_data, Y_data)\n",
    "# model = SelectFromModel(lsvc, prefit=True)\n",
    "# X_new = model.transform(X_data)\n",
    "# X_new.shape"
   ]
  },
  {
   "cell_type": "markdown",
   "metadata": {},
   "source": [
    "#### Tree-based feature selection (Works very good)"
   ]
  },
  {
   "cell_type": "code",
   "execution_count": 54,
   "metadata": {},
   "outputs": [],
   "source": [
    "# from sklearn.ensemble import ExtraTreesClassifier\n",
    "# from sklearn.feature_selection import SelectFromModel\n",
    "\n",
    "# clfTree = ExtraTreesClassifier(n_estimators=50)\n",
    "# clfTree = clfTree.fit(X_data, Y_data)\n",
    "# print (clfTree.feature_importances_)  \n",
    "\n",
    "# model = SelectFromModel(clfTree, prefit=True)\n",
    "# X_new = model.transform(X_data)\n",
    "# print (X_new.shape)"
   ]
  },
  {
   "cell_type": "code",
   "execution_count": 55,
   "metadata": {},
   "outputs": [],
   "source": [
    "# X_unbalanced_new = model.transform(X_unbalancedData)\n",
    "# print(X_unbalanced_new.shape)"
   ]
  },
  {
   "cell_type": "code",
   "execution_count": null,
   "metadata": {},
   "outputs": [],
   "source": []
  },
  {
   "cell_type": "markdown",
   "metadata": {},
   "source": [
    "### Classification"
   ]
  },
  {
   "cell_type": "code",
   "execution_count": 21,
   "metadata": {},
   "outputs": [],
   "source": [
    "#from xgboost import XGBClassifier\n",
    "# clf = XGBClassifier(n_jobs=-1,verbosity=2)\n",
    "from sklearn.linear_model import LogisticRegression\n",
    "clf = LogisticRegression()"
   ]
  },
  {
   "cell_type": "code",
   "execution_count": 23,
   "metadata": {},
   "outputs": [],
   "source": [
    "X_new = X_data\n",
    "\n",
    "from sklearn.model_selection import train_test_split\n",
    "X_train, X_test, y_train, y_test = train_test_split(X_new, Y_data, test_size=0.30, random_state=42, shuffle =True)"
   ]
  },
  {
   "cell_type": "code",
   "execution_count": 24,
   "metadata": {},
   "outputs": [
    {
     "name": "stdout",
     "output_type": "stream",
     "text": [
      "[1 1 1 ... 1 1 0]\n"
     ]
    }
   ],
   "source": [
    "print (y_train)"
   ]
  },
  {
   "cell_type": "code",
   "execution_count": 25,
   "metadata": {},
   "outputs": [
    {
     "data": {
      "text/plain": [
       "(array([ -2.04067797,  -0.94915254,  -1.21016949, ...,  -0.36063333,\n",
       "         -5.82540667, -11.12544   ]),\n",
       " array([-0.13      , -0.59333333,  0.455     , ..., -0.20099333,\n",
       "        -0.55709333, 15.33792   ]),\n",
       " 0,\n",
       " 1)"
      ]
     },
     "execution_count": 25,
     "metadata": {},
     "output_type": "execute_result"
    }
   ],
   "source": [
    "X_train[-1],X_train[-2],y_train[-1],y_train[-2]"
   ]
  },
  {
   "cell_type": "code",
   "execution_count": 26,
   "metadata": {},
   "outputs": [
    {
     "data": {
      "text/plain": [
       "XGBClassifier(base_score=0.5, booster='gbtree', colsample_bylevel=1,\n",
       "       colsample_bytree=1, gamma=0, learning_rate=0.1, max_delta_step=0,\n",
       "       max_depth=3, min_child_weight=1, missing=None, n_estimators=100,\n",
       "       n_jobs=-1, nthread=None, objective='binary:logistic',\n",
       "       random_state=0, reg_alpha=0, reg_lambda=1, scale_pos_weight=1,\n",
       "       seed=None, silent=True, subsample=1, verbosity=2)"
      ]
     },
     "execution_count": 26,
     "metadata": {},
     "output_type": "execute_result"
    }
   ],
   "source": [
    "clf.fit(X_train,y_train)"
   ]
  },
  {
   "cell_type": "code",
   "execution_count": 27,
   "metadata": {},
   "outputs": [
    {
     "name": "stdout",
     "output_type": "stream",
     "text": [
      "Accuracy: 89.94%\n"
     ]
    }
   ],
   "source": [
    "from sklearn.metrics import accuracy_score\n",
    "preds_val = clf.predict(X_test)\n",
    "accuracy = accuracy_score(y_test, preds_val)\n",
    "print(\"Accuracy: %.2f%%\" % (accuracy * 100.0))"
   ]
  },
  {
   "cell_type": "markdown",
   "metadata": {},
   "source": [
    "#### Parameter Search by GridSearch"
   ]
  },
  {
   "cell_type": "code",
   "execution_count": 28,
   "metadata": {},
   "outputs": [],
   "source": [
    "from sklearn.model_selection import GridSearchCV\n",
    "\n",
    "def LR_param_selection(XData, yData, nfolds):\n",
    "    #param_grid = {'n_estimators':(100,100,1000),'max_depth': range(1, 20, 5)}\n",
    "    param_grid = {'penalty':['l1','l2'],'C': np.logspace(-4, 4, 10) }\n",
    "    #grid_search = GridSearchCV(XGBClassifier(cache_size=2000), param_grid, cv=nfolds, n_jobs=-1, verbose=2)\n",
    "    grid_search = GridSearchCV(LogisticRegression(), param_grid, cv=nfolds, n_jobs=-1, verbose=2)\n",
    "    grid_search.fit(XData, yData)\n",
    "    grid_search.best_params_\n",
    "    return grid_search.best_params_"
   ]
  },
  {
   "cell_type": "code",
   "execution_count": 29,
   "metadata": {},
   "outputs": [
    {
     "name": "stdout",
     "output_type": "stream",
     "text": [
      "Fitting 5 folds for each of 12 candidates, totalling 60 fits\n"
     ]
    },
    {
     "name": "stderr",
     "output_type": "stream",
     "text": [
      "[Parallel(n_jobs=-1)]: Using backend LokyBackend with 20 concurrent workers.\n",
      "[Parallel(n_jobs=-1)]: Done   1 tasks      | elapsed:   18.4s\n",
      "[Parallel(n_jobs=-1)]: Done  52 out of  60 | elapsed:  7.0min remaining:  1.1min\n",
      "[Parallel(n_jobs=-1)]: Done  60 out of  60 | elapsed:  9.4min finished\n"
     ]
    }
   ],
   "source": [
    "best_params = LR_param_selection(X_train,y_train,5)"
   ]
  },
  {
   "cell_type": "code",
   "execution_count": 30,
   "metadata": {},
   "outputs": [
    {
     "data": {
      "text/plain": [
       "{'max_depth': 11, 'n_estimators': 1000}"
      ]
     },
     "execution_count": 30,
     "metadata": {},
     "output_type": "execute_result"
    }
   ],
   "source": [
    "best_params"
   ]
  },
  {
   "cell_type": "code",
   "execution_count": 31,
   "metadata": {},
   "outputs": [],
   "source": [
    "#clf = XGBClassifier(max_depth=11,n_estimators=1000,verbose=2,n_jobs=-1)\n",
    "#clf = SVC(gamma=0.001, C=0.1, kernel = 'linear')\n",
    "clf = LogisticRegression(C=, penalty=)"
   ]
  },
  {
   "cell_type": "code",
   "execution_count": 32,
   "metadata": {},
   "outputs": [
    {
     "data": {
      "text/plain": [
       "XGBClassifier(base_score=0.5, booster='gbtree', colsample_bylevel=1,\n",
       "       colsample_bytree=1, gamma=0, learning_rate=0.1, max_delta_step=0,\n",
       "       max_depth=11, min_child_weight=1, missing=None, n_estimators=1000,\n",
       "       n_jobs=-1, nthread=None, objective='binary:logistic',\n",
       "       random_state=0, reg_alpha=0, reg_lambda=1, scale_pos_weight=1,\n",
       "       seed=None, silent=True, subsample=1, verbose=2)"
      ]
     },
     "execution_count": 32,
     "metadata": {},
     "output_type": "execute_result"
    }
   ],
   "source": [
    "clf.fit(X_train,y_train)"
   ]
  },
  {
   "cell_type": "markdown",
   "metadata": {},
   "source": [
    "#### Testing Accuracy"
   ]
  },
  {
   "cell_type": "code",
   "execution_count": 33,
   "metadata": {},
   "outputs": [
    {
     "name": "stdout",
     "output_type": "stream",
     "text": [
      "Accuracy: 95.76%\n"
     ]
    }
   ],
   "source": [
    "preds_val = clf.predict(X_test)\n",
    "accuracy = accuracy_score(y_test, preds_val)\n",
    "print(\"Accuracy: %.2f%%\" % (accuracy * 100.0))"
   ]
  },
  {
   "cell_type": "code",
   "execution_count": 34,
   "metadata": {},
   "outputs": [],
   "source": [
    "from sklearn.metrics import confusion_matrix"
   ]
  },
  {
   "cell_type": "code",
   "execution_count": 35,
   "metadata": {},
   "outputs": [
    {
     "data": {
      "text/plain": [
       "array([[914,  48],\n",
       "       [ 33, 914]])"
      ]
     },
     "execution_count": 35,
     "metadata": {},
     "output_type": "execute_result"
    }
   ],
   "source": [
    "confusion_matrix(y_test, preds_val)"
   ]
  },
  {
   "cell_type": "code",
   "execution_count": 36,
   "metadata": {},
   "outputs": [
    {
     "data": {
      "text/plain": [
       "(1909,)"
      ]
     },
     "execution_count": 36,
     "metadata": {},
     "output_type": "execute_result"
    }
   ],
   "source": [
    "preds_val.shape"
   ]
  },
  {
   "cell_type": "code",
   "execution_count": 37,
   "metadata": {},
   "outputs": [],
   "source": [
    "from sklearn.utils.multiclass import unique_labels\n",
    "import matplotlib.pyplot as plt\n",
    "def plot_confusion_matrix(y_true, y_pred, classes,\n",
    "                          normalize=False,\n",
    "                          title=None,\n",
    "                          cmap=plt.cm.Blues):\n",
    "    \"\"\"\n",
    "    This function prints and plots the confusion matrix.\n",
    "    Normalization can be applied by setting `normalize=True`.\n",
    "    \"\"\"\n",
    "    if not title:\n",
    "        if normalize:\n",
    "            title = 'Normalized confusion matrix'\n",
    "        else:\n",
    "            title = 'Confusion matrix, without normalization'\n",
    "\n",
    "    # Compute confusion matrix\n",
    "    cm = confusion_matrix(y_true, y_pred)\n",
    "    # Only use the labels that appear in the data\n",
    "    classes = classes[unique_labels(y_true, y_pred)]\n",
    "    if normalize:\n",
    "        cm = cm.astype('float') / cm.sum(axis=1)[:, np.newaxis]\n",
    "        print(\"Normalized confusion matrix\")\n",
    "    else:\n",
    "        print('Confusion matrix, without normalization')\n",
    "\n",
    "    print(cm)\n",
    "\n",
    "    fig, ax = plt.subplots()\n",
    "    im = ax.imshow(cm, interpolation='nearest', cmap=cmap)\n",
    "    ax.figure.colorbar(im, ax=ax)\n",
    "    # We want to show all ticks...\n",
    "    ax.set(xticks=np.arange(cm.shape[1]),\n",
    "           yticks=np.arange(cm.shape[0]),\n",
    "           # ... and label them with the respective list entries\n",
    "           xticklabels=classes, yticklabels=classes,\n",
    "           title=title,\n",
    "           ylabel='True label',\n",
    "           xlabel='Predicted label')\n",
    "\n",
    "    # Rotate the tick labels and set their alignment.\n",
    "    plt.setp(ax.get_xticklabels(), rotation=45, ha=\"right\",\n",
    "             rotation_mode=\"anchor\")\n",
    "\n",
    "    # Loop over data dimensions and create text annotations.\n",
    "    fmt = '.2f' if normalize else 'd'\n",
    "    thresh = cm.max() / 2.\n",
    "    for i in range(cm.shape[0]):\n",
    "        for j in range(cm.shape[1]):\n",
    "            ax.text(j, i, format(cm[i, j], fmt),\n",
    "                    ha=\"center\", va=\"center\",\n",
    "                    color=\"white\" if cm[i, j] > thresh else \"black\")\n",
    "    fig.tight_layout()\n",
    "    return ax"
   ]
  },
  {
   "cell_type": "code",
   "execution_count": 38,
   "metadata": {},
   "outputs": [
    {
     "name": "stdout",
     "output_type": "stream",
     "text": [
      "Confusion matrix, without normalization\n",
      "[[914  48]\n",
      " [ 33 914]]\n"
     ]
    },
    {
     "data": {
      "text/plain": [
       "<matplotlib.axes._subplots.AxesSubplot at 0x2b13eaf5f908>"
      ]
     },
     "execution_count": 38,
     "metadata": {},
     "output_type": "execute_result"
    },
    {
     "data": {
      "image/png": "[encoded data removed]",
      "text/plain": [
       "<Figure size 432x288 with 2 Axes>"
      ]
     },
     "metadata": {
      "needs_background": "light"
     },
     "output_type": "display_data"
    }
   ],
   "source": [
    "plot_confusion_matrix(y_test, preds_val,np.array(['Non-Eat','Eat']))"
   ]
  },
  {
   "cell_type": "markdown",
   "metadata": {},
   "source": [
    "#### Testing with Unbalanced data (77670 samples)"
   ]
  },
  {
   "cell_type": "code",
   "execution_count": 39,
   "metadata": {},
   "outputs": [
    {
     "name": "stdout",
     "output_type": "stream",
     "text": [
      "Accuracy: 95.35%\n"
     ]
    }
   ],
   "source": [
    "#print(X_unbalanced_new.shape)\n",
    "X_unbalanced_new = X_unbalancedData\n",
    "preds_val_unbalanced = clf.predict(X_unbalanced_new)\n",
    "accuracy = accuracy_score(Y_unbalancedData, preds_val_unbalanced)\n",
    "print(\"Accuracy: %.2f%%\" % (accuracy * 100.0))"
   ]
  },
  {
   "cell_type": "code",
   "execution_count": 40,
   "metadata": {},
   "outputs": [
    {
     "name": "stdout",
     "output_type": "stream",
     "text": [
      "Confusion matrix, without normalization\n",
      "[[70687  3562]\n",
      " [   38  3143]]\n"
     ]
    },
    {
     "data": {
      "text/plain": [
       "<matplotlib.axes._subplots.AxesSubplot at 0x2b13e7ffaa20>"
      ]
     },
     "execution_count": 40,
     "metadata": {},
     "output_type": "execute_result"
    },
    {
     "data": {
      "image/png": "[encoded data removed]",
      "text/plain": [
       "<Figure size 432x288 with 2 Axes>"
      ]
     },
     "metadata": {
      "needs_background": "light"
     },
     "output_type": "display_data"
    }
   ],
   "source": [
    "plot_confusion_matrix(Y_unbalancedData, preds_val_unbalanced,np.array(['Non-Eat','Eat']))"
   ]
  },
  {
   "cell_type": "markdown",
   "metadata": {},
   "source": [
    "### Training Accuracy"
   ]
  },
  {
   "cell_type": "code",
   "execution_count": 41,
   "metadata": {},
   "outputs": [
    {
     "name": "stdout",
     "output_type": "stream",
     "text": [
      "(4453, 1020)\n",
      "Accuracy: 99.62%\n"
     ]
    }
   ],
   "source": [
    "print(X_train.shape)\n",
    "preds_val_train = clf.predict(X_train)\n",
    "accuracy = accuracy_score(y_train, preds_val_train)\n",
    "print(\"Accuracy: %.2f%%\" % (accuracy * 100.0))"
   ]
  },
  {
   "cell_type": "code",
   "execution_count": 42,
   "metadata": {},
   "outputs": [
    {
     "name": "stdout",
     "output_type": "stream",
     "text": [
      "Confusion matrix, without normalization\n",
      "[[2207   12]\n",
      " [   5 2229]]\n"
     ]
    },
    {
     "data": {
      "text/plain": [
       "<matplotlib.axes._subplots.AxesSubplot at 0x2b13e7ae4b38>"
      ]
     },
     "execution_count": 42,
     "metadata": {},
     "output_type": "execute_result"
    },
    {
     "data": {
      "image/png": "[encoded data removed]",
      "text/plain": [
       "<Figure size 432x288 with 2 Axes>"
      ]
     },
     "metadata": {
      "needs_background": "light"
     },
     "output_type": "display_data"
    }
   ],
   "source": [
    "plot_confusion_matrix(y_train, preds_val_train,np.array(['Non-Eat','Eat']))"
   ]
  },
  {
   "cell_type": "markdown",
   "metadata": {},
   "source": [
    "## GNB"
   ]
  },
  {
   "cell_type": "code",
   "execution_count": 43,
   "metadata": {},
   "outputs": [],
   "source": [
    "#from lightgbm import LGBMClassifier\n",
    "#model1 = LGBMClassifier(boosting_type='gbdt', num_leaves=31, max_depth=-1, learning_rate=0.1, n_estimators=100, subsample_for_bin=200000, objective=None, class_weight=None, min_split_gain=0.0, min_child_weight=0.001, min_child_samples=20, subsample=1.0, subsample_freq=0, colsample_bytree=1.0, reg_alpha=0.0, reg_lambda=0.0, random_state=42, n_jobs=-1, silent=True, importance_type='split',)\n",
    "from sklearn.naive_bayes import GaussianNB\n",
    "gnb = GaussianNB()"
   ]
  },
  {
   "cell_type": "code",
   "execution_count": 47,
   "metadata": {},
   "outputs": [
    {
     "name": "stdout",
     "output_type": "stream",
     "text": [
      "(4453, 1020) (4453,)\n",
      "Fitting 5 folds for each of 12 candidates, totalling 60 fits\n"
     ]
    },
    {
     "name": "stderr",
     "output_type": "stream",
     "text": [
      "[Parallel(n_jobs=-1)]: Using backend LokyBackend with 20 concurrent workers.\n",
      "[Parallel(n_jobs=-1)]: Done   1 tasks      | elapsed:    5.4s\n",
      "[Parallel(n_jobs=-1)]: Done  52 out of  60 | elapsed:  2.8min remaining:   26.0s\n",
      "[Parallel(n_jobs=-1)]: Done  60 out of  60 | elapsed:  3.9min finished\n"
     ]
    }
   ],
   "source": [
    "print (X_train.shape, y_train.shape)\n",
    "#model = gs_clf.fit(X_train, y_train)\n",
    "model = gnb.fit(X_train, y_train)"
   ]
  },
  {
   "cell_type": "code",
   "execution_count": 49,
   "metadata": {},
   "outputs": [
    {
     "name": "stdout",
     "output_type": "stream",
     "text": [
      "Accuracy: 95.97%\n"
     ]
    }
   ],
   "source": [
    "from sklearn.metrics import accuracy_score\n",
    "preds_val = model.predict(X_test)\n",
    "accuracy = accuracy_score(y_test, preds_val)\n",
    "print(\"Accuracy: %.2f%%\" % (accuracy * 100.0))"
   ]
  },
  {
   "cell_type": "code",
   "execution_count": 50,
   "metadata": {},
   "outputs": [
    {
     "name": "stdout",
     "output_type": "stream",
     "text": [
      "Confusion matrix, without normalization\n",
      "[[916  46]\n",
      " [ 31 916]]\n"
     ]
    },
    {
     "data": {
      "text/plain": [
       "<matplotlib.axes._subplots.AxesSubplot at 0x2b13e74c1470>"
      ]
     },
     "execution_count": 50,
     "metadata": {},
     "output_type": "execute_result"
    },
    {
     "data": {
      "image/png": "[encoded data removed]",
      "text/plain": [
       "<Figure size 432x288 with 2 Axes>"
      ]
     },
     "metadata": {
      "needs_background": "light"
     },
     "output_type": "display_data"
    }
   ],
   "source": [
    "plot_confusion_matrix(y_test, preds_val,np.array(['Non-Eat','Eat']))"
   ]
  },
  {
   "cell_type": "markdown",
   "metadata": {},
   "source": [
    "#### Training Accuracy"
   ]
  },
  {
   "cell_type": "code",
   "execution_count": 51,
   "metadata": {},
   "outputs": [
    {
     "name": "stdout",
     "output_type": "stream",
     "text": [
      "Accuracy: 99.62%\n"
     ]
    }
   ],
   "source": [
    "from sklearn.metrics import accuracy_score\n",
    "preds_val_train = model.predict(X_train)\n",
    "accuracy = accuracy_score(y_train, preds_val_train)\n",
    "print(\"Accuracy: %.2f%%\" % (accuracy * 100.0))"
   ]
  },
  {
   "cell_type": "code",
   "execution_count": 52,
   "metadata": {},
   "outputs": [
    {
     "name": "stdout",
     "output_type": "stream",
     "text": [
      "Confusion matrix, without normalization\n",
      "[[2204   15]\n",
      " [   2 2232]]\n"
     ]
    },
    {
     "data": {
      "text/plain": [
       "<matplotlib.axes._subplots.AxesSubplot at 0x2b13e72177f0>"
      ]
     },
     "execution_count": 52,
     "metadata": {},
     "output_type": "execute_result"
    },
    {
     "data": {
      "image/png": "[encoded data removed]",
      "text/plain": [
       "<Figure size 432x288 with 2 Axes>"
      ]
     },
     "metadata": {
      "needs_background": "light"
     },
     "output_type": "display_data"
    }
   ],
   "source": [
    "plot_confusion_matrix(y_train, preds_val_train,np.array(['Non-Eat','Eat']))"
   ]
  },
  {
   "cell_type": "markdown",
   "metadata": {},
   "source": [
    "#### Test with unbalanced data"
   ]
  },
  {
   "cell_type": "code",
   "execution_count": 53,
   "metadata": {},
   "outputs": [
    {
     "name": "stdout",
     "output_type": "stream",
     "text": [
      "Accuracy: 95.76%\n"
     ]
    }
   ],
   "source": [
    "from sklearn.metrics import accuracy_score\n",
    "preds_val = model.predict(X_unbalanced_new)\n",
    "accuracy = accuracy_score(Y_unbalancedData, preds_val)\n",
    "print(\"Accuracy: %.2f%%\" % (accuracy * 100.0))"
   ]
  },
  {
   "cell_type": "code",
   "execution_count": 54,
   "metadata": {},
   "outputs": [
    {
     "name": "stdout",
     "output_type": "stream",
     "text": [
      "Confusion matrix, without normalization\n",
      "[[70998  3251]\n",
      " [   33  3148]]\n"
     ]
    },
    {
     "data": {
      "text/plain": [
       "<matplotlib.axes._subplots.AxesSubplot at 0x2b13e6c9bf28>"
      ]
     },
     "execution_count": 54,
     "metadata": {},
     "output_type": "execute_result"
    },
    {
     "data": {
      "image/png": "[encoded data removed]",
      "text/plain": [
       "<Figure size 432x288 with 2 Axes>"
      ]
     },
     "metadata": {
      "needs_background": "light"
     },
     "output_type": "display_data"
    }
   ],
   "source": [
    "plot_confusion_matrix(Y_unbalancedData, preds_val,np.array(['Non-Eat','Eat']))"
   ]
  },
  {
   "cell_type": "markdown",
   "metadata": {},
   "source": [
    "GPC"
   ]
  },
  {
   "cell_type": "code",
   "execution_count": null,
   "metadata": {},
   "outputs": [],
   "source": [
    "from sklearn.gaussian_process import GaussianProcessClassifier\n",
    "from sklearn.gaussian_process.kernels import RBF\n",
    "kernel = 1.0 * RBF(1.0)\n",
    "gpc = GaussianProcessClassifier(kernel=kernel, random_state=0,n_jobs = -1)"
   ]
  },
  {
   "cell_type": "code",
   "execution_count": null,
   "metadata": {},
   "outputs": [],
   "source": [
    "print (X_train.shape, y_train.shape)\n",
    "model = gpc.fit(X_train, y_train)"
   ]
  },
  {
   "cell_type": "code",
   "execution_count": null,
   "metadata": {},
   "outputs": [],
   "source": [
    "from sklearn.metrics import accuracy_score\n",
    "preds_val = model.predict(X_test)\n",
    "accuracy = accuracy_score(y_test, preds_val)\n",
    "print(\"Accuracy: %.2f%%\" % (accuracy * 100.0))"
   ]
  },
  {
   "cell_type": "code",
   "execution_count": null,
   "metadata": {},
   "outputs": [],
   "source": [
    "plot_confusion_matrix(y_test, preds_val,np.array(['Non-Eat','Eat']))"
   ]
  },
  {
   "cell_type": "markdown",
   "metadata": {},
   "source": [
    "Training Accuracy"
   ]
  },
  {
   "cell_type": "code",
   "execution_count": null,
   "metadata": {},
   "outputs": [],
   "source": [
    "from sklearn.metrics import accuracy_score\n",
    "preds_val_train = model.predict(X_train)\n",
    "accuracy = accuracy_score(y_train, preds_val_train)\n",
    "print(\"Accuracy: %.2f%%\" % (accuracy * 100.0))\n",
    "plot_confusion_matrix(y_train, preds_val_train,np.array(['Non-Eat','Eat']))"
   ]
  },
  {
   "cell_type": "markdown",
   "metadata": {},
   "source": [
    "Test with unbalanced data"
   ]
  },
  {
   "cell_type": "code",
   "execution_count": null,
   "metadata": {},
   "outputs": [],
   "source": [
    "from sklearn.metrics import accuracy_score\n",
    "preds_val = model.predict(X_unbalanced_new)\n",
    "accuracy = accuracy_score(Y_unbalancedData, preds_val)\n",
    "print(\"Accuracy: %.2f%%\" % (accuracy * 100.0))\n",
    "plot_confusion_matrix(Y_unbalancedData, preds_val,np.array(['Non-Eat','Eat']))"
   ]
  }
 ],
 "metadata": {
  "kernelspec": {
   "display_name": "Python 3",
   "language": "python",
   "name": "python3"
  },
  "language_info": {
   "codemirror_mode": {
    "name": "ipython",
    "version": 3
   },
   "file_extension": ".py",
   "mimetype": "text/x-python",
   "name": "python",
   "nbconvert_exporter": "python",
   "pygments_lexer": "ipython3",
   "version": "3.6.4"
  }
 },
 "nbformat": 4,
 "nbformat_minor": 2
}
