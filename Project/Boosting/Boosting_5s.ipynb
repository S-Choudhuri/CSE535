{
 "cells": [
  {
   "cell_type": "code",
   "execution_count": 221,
   "metadata": {},
   "outputs": [],
   "source": [
    "import numpy\n",
    "import os\n",
    "import json\n",
    "import csv\n",
    "import pandas as pd\n",
    "import numpy as np\n",
    "np.random.seed(42)"
   ]
  },
  {
   "cell_type": "code",
   "execution_count": 222,
   "metadata": {},
   "outputs": [],
   "source": [
    "path = \"../../data\""
   ]
  },
  {
   "cell_type": "code",
   "execution_count": 223,
   "metadata": {},
   "outputs": [],
   "source": [
    "file = \"55_output.csv\""
   ]
  },
  {
   "cell_type": "code",
   "execution_count": 224,
   "metadata": {},
   "outputs": [],
   "source": [
    "data = pd.read_csv(os.path.join(path,file),header=None)\n",
    "unbalancedData = pd.read_csv(os.path.join(path,file),header=None)"
   ]
  },
  {
   "cell_type": "code",
   "execution_count": 225,
   "metadata": {},
   "outputs": [
    {
     "data": {
      "text/html": [
       "<div>\n",
       "<style scoped>\n",
       "    .dataframe tbody tr th:only-of-type {\n",
       "        vertical-align: middle;\n",
       "    }\n",
       "\n",
       "    .dataframe tbody tr th {\n",
       "        vertical-align: top;\n",
       "    }\n",
       "\n",
       "    .dataframe thead th {\n",
       "        text-align: right;\n",
       "    }\n",
       "</style>\n",
       "<table border=\"1\" class=\"dataframe\">\n",
       "  <thead>\n",
       "    <tr style=\"text-align: right;\">\n",
       "      <th></th>\n",
       "      <th>0</th>\n",
       "      <th>1</th>\n",
       "      <th>2</th>\n",
       "      <th>3</th>\n",
       "      <th>4</th>\n",
       "      <th>5</th>\n",
       "      <th>6</th>\n",
       "      <th>7</th>\n",
       "      <th>8</th>\n",
       "      <th>9</th>\n",
       "      <th>...</th>\n",
       "      <th>82</th>\n",
       "      <th>83</th>\n",
       "      <th>84</th>\n",
       "      <th>85</th>\n",
       "      <th>86</th>\n",
       "      <th>87</th>\n",
       "      <th>88</th>\n",
       "      <th>89</th>\n",
       "      <th>90</th>\n",
       "      <th>91</th>\n",
       "    </tr>\n",
       "  </thead>\n",
       "  <tbody>\n",
       "    <tr>\n",
       "      <th>0</th>\n",
       "      <td>Kuntal-01234</td>\n",
       "      <td>-1.647343</td>\n",
       "      <td>-1.956522</td>\n",
       "      <td>-1.562802</td>\n",
       "      <td>-1.115942</td>\n",
       "      <td>-1.084541</td>\n",
       "      <td>-1.118357</td>\n",
       "      <td>-0.971014</td>\n",
       "      <td>127.000000</td>\n",
       "      <td>-0.979311</td>\n",
       "      <td>...</td>\n",
       "      <td>0.146213</td>\n",
       "      <td>0.073120</td>\n",
       "      <td>-0.172193</td>\n",
       "      <td>-0.307040</td>\n",
       "      <td>0.102567</td>\n",
       "      <td>-0.948207</td>\n",
       "      <td>-1.330800</td>\n",
       "      <td>0.302107</td>\n",
       "      <td>0.635007</td>\n",
       "      <td>0</td>\n",
       "    </tr>\n",
       "    <tr>\n",
       "      <th>1</th>\n",
       "      <td>Kuntal-12345</td>\n",
       "      <td>-2.745819</td>\n",
       "      <td>-3.035117</td>\n",
       "      <td>-3.526756</td>\n",
       "      <td>-1.448161</td>\n",
       "      <td>-1.683946</td>\n",
       "      <td>-0.836120</td>\n",
       "      <td>-0.968227</td>\n",
       "      <td>-32.822742</td>\n",
       "      <td>-0.980840</td>\n",
       "      <td>...</td>\n",
       "      <td>0.132430</td>\n",
       "      <td>0.076034</td>\n",
       "      <td>-0.164846</td>\n",
       "      <td>-0.277960</td>\n",
       "      <td>0.115208</td>\n",
       "      <td>-0.953792</td>\n",
       "      <td>-1.297826</td>\n",
       "      <td>-0.154349</td>\n",
       "      <td>0.311228</td>\n",
       "      <td>0</td>\n",
       "    </tr>\n",
       "    <tr>\n",
       "      <th>2</th>\n",
       "      <td>Kuntal-23456</td>\n",
       "      <td>-1.618333</td>\n",
       "      <td>-1.761667</td>\n",
       "      <td>-1.893333</td>\n",
       "      <td>-1.003333</td>\n",
       "      <td>-0.115000</td>\n",
       "      <td>-0.823333</td>\n",
       "      <td>-0.950000</td>\n",
       "      <td>-122.951667</td>\n",
       "      <td>-0.979620</td>\n",
       "      <td>...</td>\n",
       "      <td>0.129633</td>\n",
       "      <td>0.074873</td>\n",
       "      <td>-0.155993</td>\n",
       "      <td>-0.269873</td>\n",
       "      <td>0.115940</td>\n",
       "      <td>-0.955880</td>\n",
       "      <td>-1.230447</td>\n",
       "      <td>0.621247</td>\n",
       "      <td>0.780847</td>\n",
       "      <td>0</td>\n",
       "    </tr>\n",
       "    <tr>\n",
       "      <th>3</th>\n",
       "      <td>Kuntal-34567</td>\n",
       "      <td>-2.436242</td>\n",
       "      <td>-2.174497</td>\n",
       "      <td>-2.374161</td>\n",
       "      <td>-0.748322</td>\n",
       "      <td>-0.817114</td>\n",
       "      <td>-0.701342</td>\n",
       "      <td>-0.877517</td>\n",
       "      <td>-127.332215</td>\n",
       "      <td>-0.976527</td>\n",
       "      <td>...</td>\n",
       "      <td>0.127360</td>\n",
       "      <td>0.074920</td>\n",
       "      <td>-0.154340</td>\n",
       "      <td>-0.264933</td>\n",
       "      <td>0.117693</td>\n",
       "      <td>-0.957560</td>\n",
       "      <td>-1.216660</td>\n",
       "      <td>-0.755020</td>\n",
       "      <td>0.462933</td>\n",
       "      <td>0</td>\n",
       "    </tr>\n",
       "    <tr>\n",
       "      <th>4</th>\n",
       "      <td>Kuntal-45678</td>\n",
       "      <td>-1.081940</td>\n",
       "      <td>-1.645485</td>\n",
       "      <td>-1.613712</td>\n",
       "      <td>-0.735786</td>\n",
       "      <td>-0.476589</td>\n",
       "      <td>-0.551839</td>\n",
       "      <td>-0.946488</td>\n",
       "      <td>-1.994983</td>\n",
       "      <td>-0.971327</td>\n",
       "      <td>...</td>\n",
       "      <td>0.121793</td>\n",
       "      <td>0.076720</td>\n",
       "      <td>-0.152513</td>\n",
       "      <td>-0.254647</td>\n",
       "      <td>0.124420</td>\n",
       "      <td>-0.958300</td>\n",
       "      <td>-1.459600</td>\n",
       "      <td>0.174980</td>\n",
       "      <td>0.484207</td>\n",
       "      <td>0</td>\n",
       "    </tr>\n",
       "  </tbody>\n",
       "</table>\n",
       "<p>5 rows × 92 columns</p>\n",
       "</div>"
      ],
      "text/plain": [
       "             0         1         2         3         4         5         6   \\\n",
       "0  Kuntal-01234 -1.647343 -1.956522 -1.562802 -1.115942 -1.084541 -1.118357   \n",
       "1  Kuntal-12345 -2.745819 -3.035117 -3.526756 -1.448161 -1.683946 -0.836120   \n",
       "2  Kuntal-23456 -1.618333 -1.761667 -1.893333 -1.003333 -0.115000 -0.823333   \n",
       "3  Kuntal-34567 -2.436242 -2.174497 -2.374161 -0.748322 -0.817114 -0.701342   \n",
       "4  Kuntal-45678 -1.081940 -1.645485 -1.613712 -0.735786 -0.476589 -0.551839   \n",
       "\n",
       "         7           8         9  ...        82        83        84        85  \\\n",
       "0 -0.971014  127.000000 -0.979311 ...  0.146213  0.073120 -0.172193 -0.307040   \n",
       "1 -0.968227  -32.822742 -0.980840 ...  0.132430  0.076034 -0.164846 -0.277960   \n",
       "2 -0.950000 -122.951667 -0.979620 ...  0.129633  0.074873 -0.155993 -0.269873   \n",
       "3 -0.877517 -127.332215 -0.976527 ...  0.127360  0.074920 -0.154340 -0.264933   \n",
       "4 -0.946488   -1.994983 -0.971327 ...  0.121793  0.076720 -0.152513 -0.254647   \n",
       "\n",
       "         86        87        88        89        90  91  \n",
       "0  0.102567 -0.948207 -1.330800  0.302107  0.635007   0  \n",
       "1  0.115208 -0.953792 -1.297826 -0.154349  0.311228   0  \n",
       "2  0.115940 -0.955880 -1.230447  0.621247  0.780847   0  \n",
       "3  0.117693 -0.957560 -1.216660 -0.755020  0.462933   0  \n",
       "4  0.124420 -0.958300 -1.459600  0.174980  0.484207   0  \n",
       "\n",
       "[5 rows x 92 columns]"
      ]
     },
     "execution_count": 225,
     "metadata": {},
     "output_type": "execute_result"
    }
   ],
   "source": [
    "data.head()"
   ]
  },
  {
   "cell_type": "code",
   "execution_count": 229,
   "metadata": {},
   "outputs": [],
   "source": [
    "mins = data.min().values"
   ]
  },
  {
   "cell_type": "code",
   "execution_count": 234,
   "metadata": {},
   "outputs": [
    {
     "data": {
      "text/plain": [
       "(array([-128.0, -128.0, -128.0, -128.0, -128.0, -128.0, -128.0, -128.0,\n",
       "        -0.9962333333333336, -0.9980135135135147, -0.9990536912751669,\n",
       "        -0.9969848484848488, -1.0351006711409396, -1.0888399999999996,\n",
       "        -1.0576778523489938, -72.26845637583892, -92.37037333333332],\n",
       "       dtype=object),\n",
       " array([-128.0, -128.0, -128.0, -128.0, -128.0, -128.0, -128.0, -128.0,\n",
       "        -0.9962333333333336, -0.9980135135135147, -0.9990536912751669,\n",
       "        -0.9969848484848488, -1.0351006711409396, -1.0888399999999996,\n",
       "        -1.0576778523489938, -72.26845637583892, -92.37037333333332],\n",
       "       dtype=object),\n",
       " array([-128.0, -128.0, -128.0, -128.0, -128.0, -128.0, -128.0, -128.0,\n",
       "        -0.9962333333333336, -0.9980135135135147, -0.9990536912751669,\n",
       "        -0.9969848484848488, -1.0351006711409396, -1.0888399999999996,\n",
       "        -1.0576778523489938, -72.26845637583892, -92.37037333333332],\n",
       "       dtype=object))"
      ]
     },
     "execution_count": 234,
     "metadata": {},
     "output_type": "execute_result"
    }
   ],
   "source": [
    "mins[1:18],mins[19:36],mins[37:54]"
   ]
  },
  {
   "cell_type": "code",
   "execution_count": 236,
   "metadata": {},
   "outputs": [
    {
     "data": {
      "text/plain": [
       "(array([127.0, 104.23745819397993, 127.0, 77.01520270270271, 127.0, 127.0,\n",
       "        127.0, 127.0, 0.9982600000000004, 0.994000000000004,\n",
       "        0.9937066666666676, 0.9988333333333312, 1.0430067567567571, 1.107,\n",
       "        1.0143154362416105, 75.6648523489933, 80.64663999999998],\n",
       "       dtype=object),\n",
       " array([127.0, 104.23745819397993, 127.0, 77.01520270270271, 127.0, 127.0,\n",
       "        127.0, 127.0, 0.9982600000000004, 0.994000000000004,\n",
       "        0.9937066666666676, 0.9988333333333312, 1.0430067567567571, 1.107,\n",
       "        1.0143154362416105, 75.6648523489933, 80.64663999999998],\n",
       "       dtype=object),\n",
       " array([127.0, 104.23745819397993, 127.0, 77.01520270270271, 127.0, 127.0,\n",
       "        127.0, 127.0, 0.9982600000000004, 0.994000000000004,\n",
       "        0.9937066666666676, 0.9988333333333312, 1.0430067567567571, 1.107,\n",
       "        1.0143154362416105, 75.6648523489933, 80.64663999999998],\n",
       "       dtype=object))"
      ]
     },
     "execution_count": 236,
     "metadata": {},
     "output_type": "execute_result"
    }
   ],
   "source": [
    "maxs = data.max().values\n",
    "maxs[1:18],maxs[19:36],maxs[37:54]"
   ]
  },
  {
   "cell_type": "code",
   "execution_count": 239,
   "metadata": {},
   "outputs": [
    {
     "name": "stdout",
     "output_type": "stream",
     "text": [
      "91 1\n",
      "91 0\n"
     ]
    }
   ],
   "source": [
    "for index,mx in enumerate(maxs):\n",
    "    if mx == 1:\n",
    "        print(index,mx)\n",
    "for index,mx in enumerate(mins):\n",
    "    if mx == 0:\n",
    "        print(index,mx)"
   ]
  },
  {
   "cell_type": "code",
   "execution_count": 235,
   "metadata": {},
   "outputs": [
    {
     "data": {
      "text/html": [
       "<div>\n",
       "<style scoped>\n",
       "    .dataframe tbody tr th:only-of-type {\n",
       "        vertical-align: middle;\n",
       "    }\n",
       "\n",
       "    .dataframe tbody tr th {\n",
       "        vertical-align: top;\n",
       "    }\n",
       "\n",
       "    .dataframe thead th {\n",
       "        text-align: right;\n",
       "    }\n",
       "</style>\n",
       "<table border=\"1\" class=\"dataframe\">\n",
       "  <thead>\n",
       "    <tr style=\"text-align: right;\">\n",
       "      <th></th>\n",
       "      <th>1</th>\n",
       "      <th>2</th>\n",
       "      <th>3</th>\n",
       "      <th>4</th>\n",
       "      <th>5</th>\n",
       "      <th>6</th>\n",
       "      <th>7</th>\n",
       "      <th>8</th>\n",
       "      <th>9</th>\n",
       "      <th>10</th>\n",
       "      <th>...</th>\n",
       "      <th>82</th>\n",
       "      <th>83</th>\n",
       "      <th>84</th>\n",
       "      <th>85</th>\n",
       "      <th>86</th>\n",
       "      <th>87</th>\n",
       "      <th>88</th>\n",
       "      <th>89</th>\n",
       "      <th>90</th>\n",
       "      <th>91</th>\n",
       "    </tr>\n",
       "  </thead>\n",
       "  <tbody>\n",
       "    <tr>\n",
       "      <th>count</th>\n",
       "      <td>77650.000000</td>\n",
       "      <td>77650.000000</td>\n",
       "      <td>77650.000000</td>\n",
       "      <td>77650.000000</td>\n",
       "      <td>77650.000000</td>\n",
       "      <td>77650.000000</td>\n",
       "      <td>77650.000000</td>\n",
       "      <td>77650.000000</td>\n",
       "      <td>77650.000000</td>\n",
       "      <td>77650.000000</td>\n",
       "      <td>...</td>\n",
       "      <td>77650.000000</td>\n",
       "      <td>77650.000000</td>\n",
       "      <td>77650.000000</td>\n",
       "      <td>77650.000000</td>\n",
       "      <td>77650.000000</td>\n",
       "      <td>77650.000000</td>\n",
       "      <td>77650.000000</td>\n",
       "      <td>77650.000000</td>\n",
       "      <td>77650.000000</td>\n",
       "      <td>77650.000000</td>\n",
       "    </tr>\n",
       "    <tr>\n",
       "      <th>mean</th>\n",
       "      <td>-0.777542</td>\n",
       "      <td>-0.873216</td>\n",
       "      <td>-0.876900</td>\n",
       "      <td>-1.009017</td>\n",
       "      <td>-1.036962</td>\n",
       "      <td>-1.163109</td>\n",
       "      <td>-0.914304</td>\n",
       "      <td>2.347298</td>\n",
       "      <td>0.009292</td>\n",
       "      <td>0.003833</td>\n",
       "      <td>...</td>\n",
       "      <td>0.003866</td>\n",
       "      <td>0.021108</td>\n",
       "      <td>0.017718</td>\n",
       "      <td>0.073233</td>\n",
       "      <td>-0.008151</td>\n",
       "      <td>-0.560661</td>\n",
       "      <td>-1.873787</td>\n",
       "      <td>-0.344746</td>\n",
       "      <td>-0.080733</td>\n",
       "      <td>0.040966</td>\n",
       "    </tr>\n",
       "    <tr>\n",
       "      <th>std</th>\n",
       "      <td>3.776072</td>\n",
       "      <td>2.452859</td>\n",
       "      <td>3.590234</td>\n",
       "      <td>2.560399</td>\n",
       "      <td>3.588994</td>\n",
       "      <td>3.651082</td>\n",
       "      <td>3.554321</td>\n",
       "      <td>18.512123</td>\n",
       "      <td>0.616889</td>\n",
       "      <td>0.310598</td>\n",
       "      <td>...</td>\n",
       "      <td>0.310630</td>\n",
       "      <td>0.343409</td>\n",
       "      <td>0.623886</td>\n",
       "      <td>0.454968</td>\n",
       "      <td>0.464927</td>\n",
       "      <td>0.505882</td>\n",
       "      <td>6.837621</td>\n",
       "      <td>6.617708</td>\n",
       "      <td>7.175411</td>\n",
       "      <td>0.198212</td>\n",
       "    </tr>\n",
       "    <tr>\n",
       "      <th>min</th>\n",
       "      <td>-128.000000</td>\n",
       "      <td>-128.000000</td>\n",
       "      <td>-128.000000</td>\n",
       "      <td>-128.000000</td>\n",
       "      <td>-128.000000</td>\n",
       "      <td>-128.000000</td>\n",
       "      <td>-128.000000</td>\n",
       "      <td>-128.000000</td>\n",
       "      <td>-0.996233</td>\n",
       "      <td>-0.998014</td>\n",
       "      <td>...</td>\n",
       "      <td>-0.998014</td>\n",
       "      <td>-0.999054</td>\n",
       "      <td>-0.996985</td>\n",
       "      <td>-1.035101</td>\n",
       "      <td>-1.088840</td>\n",
       "      <td>-1.057678</td>\n",
       "      <td>-72.268456</td>\n",
       "      <td>-92.370373</td>\n",
       "      <td>-87.275460</td>\n",
       "      <td>0.000000</td>\n",
       "    </tr>\n",
       "    <tr>\n",
       "      <th>25%</th>\n",
       "      <td>-1.164979</td>\n",
       "      <td>-1.209030</td>\n",
       "      <td>-1.332776</td>\n",
       "      <td>-1.179306</td>\n",
       "      <td>-1.294314</td>\n",
       "      <td>-1.272727</td>\n",
       "      <td>-1.205686</td>\n",
       "      <td>-1.111667</td>\n",
       "      <td>-0.578690</td>\n",
       "      <td>-0.192070</td>\n",
       "      <td>...</td>\n",
       "      <td>-0.192062</td>\n",
       "      <td>-0.184836</td>\n",
       "      <td>-0.556320</td>\n",
       "      <td>-0.254463</td>\n",
       "      <td>-0.306719</td>\n",
       "      <td>-0.917796</td>\n",
       "      <td>-3.082077</td>\n",
       "      <td>-0.974547</td>\n",
       "      <td>-0.493183</td>\n",
       "      <td>0.000000</td>\n",
       "    </tr>\n",
       "    <tr>\n",
       "      <th>50%</th>\n",
       "      <td>-0.956081</td>\n",
       "      <td>-0.979730</td>\n",
       "      <td>-1.031879</td>\n",
       "      <td>-0.972973</td>\n",
       "      <td>-1.058528</td>\n",
       "      <td>-1.010161</td>\n",
       "      <td>-0.995172</td>\n",
       "      <td>-0.595318</td>\n",
       "      <td>0.012393</td>\n",
       "      <td>0.009341</td>\n",
       "      <td>...</td>\n",
       "      <td>0.009358</td>\n",
       "      <td>0.030054</td>\n",
       "      <td>0.007658</td>\n",
       "      <td>0.088150</td>\n",
       "      <td>0.011134</td>\n",
       "      <td>-0.772983</td>\n",
       "      <td>-1.447107</td>\n",
       "      <td>-0.250872</td>\n",
       "      <td>0.179977</td>\n",
       "      <td>0.000000</td>\n",
       "    </tr>\n",
       "    <tr>\n",
       "      <th>75%</th>\n",
       "      <td>-0.695652</td>\n",
       "      <td>-0.777592</td>\n",
       "      <td>-0.744147</td>\n",
       "      <td>-0.739796</td>\n",
       "      <td>-0.801695</td>\n",
       "      <td>-0.711864</td>\n",
       "      <td>-0.747492</td>\n",
       "      <td>2.680602</td>\n",
       "      <td>0.585452</td>\n",
       "      <td>0.173000</td>\n",
       "      <td>...</td>\n",
       "      <td>0.173034</td>\n",
       "      <td>0.220161</td>\n",
       "      <td>0.619970</td>\n",
       "      <td>0.405717</td>\n",
       "      <td>0.286311</td>\n",
       "      <td>-0.363781</td>\n",
       "      <td>-1.071767</td>\n",
       "      <td>0.253300</td>\n",
       "      <td>0.570412</td>\n",
       "      <td>0.000000</td>\n",
       "    </tr>\n",
       "    <tr>\n",
       "      <th>max</th>\n",
       "      <td>127.000000</td>\n",
       "      <td>104.237458</td>\n",
       "      <td>127.000000</td>\n",
       "      <td>77.015203</td>\n",
       "      <td>127.000000</td>\n",
       "      <td>127.000000</td>\n",
       "      <td>127.000000</td>\n",
       "      <td>127.000000</td>\n",
       "      <td>0.998260</td>\n",
       "      <td>0.994000</td>\n",
       "      <td>...</td>\n",
       "      <td>0.994000</td>\n",
       "      <td>0.993707</td>\n",
       "      <td>0.998833</td>\n",
       "      <td>1.043007</td>\n",
       "      <td>1.107000</td>\n",
       "      <td>1.014315</td>\n",
       "      <td>75.664852</td>\n",
       "      <td>80.646640</td>\n",
       "      <td>77.100000</td>\n",
       "      <td>1.000000</td>\n",
       "    </tr>\n",
       "  </tbody>\n",
       "</table>\n",
       "<p>8 rows × 91 columns</p>\n",
       "</div>"
      ],
      "text/plain": [
       "                 1             2             3             4             5   \\\n",
       "count  77650.000000  77650.000000  77650.000000  77650.000000  77650.000000   \n",
       "mean      -0.777542     -0.873216     -0.876900     -1.009017     -1.036962   \n",
       "std        3.776072      2.452859      3.590234      2.560399      3.588994   \n",
       "min     -128.000000   -128.000000   -128.000000   -128.000000   -128.000000   \n",
       "25%       -1.164979     -1.209030     -1.332776     -1.179306     -1.294314   \n",
       "50%       -0.956081     -0.979730     -1.031879     -0.972973     -1.058528   \n",
       "75%       -0.695652     -0.777592     -0.744147     -0.739796     -0.801695   \n",
       "max      127.000000    104.237458    127.000000     77.015203    127.000000   \n",
       "\n",
       "                 6             7             8             9             10  \\\n",
       "count  77650.000000  77650.000000  77650.000000  77650.000000  77650.000000   \n",
       "mean      -1.163109     -0.914304      2.347298      0.009292      0.003833   \n",
       "std        3.651082      3.554321     18.512123      0.616889      0.310598   \n",
       "min     -128.000000   -128.000000   -128.000000     -0.996233     -0.998014   \n",
       "25%       -1.272727     -1.205686     -1.111667     -0.578690     -0.192070   \n",
       "50%       -1.010161     -0.995172     -0.595318      0.012393      0.009341   \n",
       "75%       -0.711864     -0.747492      2.680602      0.585452      0.173000   \n",
       "max      127.000000    127.000000    127.000000      0.998260      0.994000   \n",
       "\n",
       "           ...                 82            83            84            85  \\\n",
       "count      ...       77650.000000  77650.000000  77650.000000  77650.000000   \n",
       "mean       ...           0.003866      0.021108      0.017718      0.073233   \n",
       "std        ...           0.310630      0.343409      0.623886      0.454968   \n",
       "min        ...          -0.998014     -0.999054     -0.996985     -1.035101   \n",
       "25%        ...          -0.192062     -0.184836     -0.556320     -0.254463   \n",
       "50%        ...           0.009358      0.030054      0.007658      0.088150   \n",
       "75%        ...           0.173034      0.220161      0.619970      0.405717   \n",
       "max        ...           0.994000      0.993707      0.998833      1.043007   \n",
       "\n",
       "                 86            87            88            89            90  \\\n",
       "count  77650.000000  77650.000000  77650.000000  77650.000000  77650.000000   \n",
       "mean      -0.008151     -0.560661     -1.873787     -0.344746     -0.080733   \n",
       "std        0.464927      0.505882      6.837621      6.617708      7.175411   \n",
       "min       -1.088840     -1.057678    -72.268456    -92.370373    -87.275460   \n",
       "25%       -0.306719     -0.917796     -3.082077     -0.974547     -0.493183   \n",
       "50%        0.011134     -0.772983     -1.447107     -0.250872      0.179977   \n",
       "75%        0.286311     -0.363781     -1.071767      0.253300      0.570412   \n",
       "max        1.107000      1.014315     75.664852     80.646640     77.100000   \n",
       "\n",
       "                 91  \n",
       "count  77650.000000  \n",
       "mean       0.040966  \n",
       "std        0.198212  \n",
       "min        0.000000  \n",
       "25%        0.000000  \n",
       "50%        0.000000  \n",
       "75%        0.000000  \n",
       "max        1.000000  \n",
       "\n",
       "[8 rows x 91 columns]"
      ]
     },
     "execution_count": 235,
     "metadata": {},
     "output_type": "execute_result"
    }
   ],
   "source": [
    "data.describe()"
   ]
  },
  {
   "cell_type": "code",
   "execution_count": 161,
   "metadata": {},
   "outputs": [],
   "source": [
    "noneatData = data[data[data.columns[91]]==0]"
   ]
  },
  {
   "cell_type": "code",
   "execution_count": 162,
   "metadata": {},
   "outputs": [],
   "source": [
    "eatData = data[data[data.columns[91]]==1]"
   ]
  },
  {
   "cell_type": "code",
   "execution_count": 163,
   "metadata": {},
   "outputs": [
    {
     "name": "stdout",
     "output_type": "stream",
     "text": [
      "(74469, 92) (3181, 92)\n"
     ]
    }
   ],
   "source": [
    "print(noneatData.shape,eatData.shape)"
   ]
  },
  {
   "cell_type": "code",
   "execution_count": 164,
   "metadata": {},
   "outputs": [],
   "source": [
    "noneatData = noneatData.sample(n=3181)"
   ]
  },
  {
   "cell_type": "code",
   "execution_count": 165,
   "metadata": {},
   "outputs": [
    {
     "name": "stdout",
     "output_type": "stream",
     "text": [
      "(3181, 92) (3181, 92)\n"
     ]
    }
   ],
   "source": [
    "print(noneatData.shape,eatData.shape)"
   ]
  },
  {
   "cell_type": "markdown",
   "metadata": {},
   "source": [
    "### Data Vectorization"
   ]
  },
  {
   "cell_type": "code",
   "execution_count": 240,
   "metadata": {},
   "outputs": [],
   "source": [
    "data = pd.concat([noneatData,eatData])"
   ]
  },
  {
   "cell_type": "code",
   "execution_count": 270,
   "metadata": {},
   "outputs": [],
   "source": [
    "X_data = np.array(data[data.columns[1:91]].values.tolist())\n",
    "X_unbalancedData = np.array(unbalancedData[unbalancedData.columns[1:91]].values.tolist())"
   ]
  },
  {
   "cell_type": "code",
   "execution_count": 271,
   "metadata": {},
   "outputs": [
    {
     "data": {
      "text/plain": [
       "(90,)"
      ]
     },
     "execution_count": 271,
     "metadata": {},
     "output_type": "execute_result"
    }
   ],
   "source": [
    "#data[data.columns[134]].head()\n",
    "X_data[0].shape"
   ]
  },
  {
   "cell_type": "code",
   "execution_count": 272,
   "metadata": {},
   "outputs": [
    {
     "name": "stdout",
     "output_type": "stream",
     "text": [
      "(6362, 90) (77650, 90)\n"
     ]
    }
   ],
   "source": [
    "print (X_data.shape,X_unbalancedData.shape)"
   ]
  },
  {
   "cell_type": "code",
   "execution_count": 273,
   "metadata": {},
   "outputs": [],
   "source": [
    "Y_data = np.array(data[data.columns[91]].values.tolist())\n",
    "Y_unbalancedData = np.array(unbalancedData[unbalancedData.columns[91]].values.tolist())"
   ]
  },
  {
   "cell_type": "code",
   "execution_count": 274,
   "metadata": {},
   "outputs": [
    {
     "name": "stdout",
     "output_type": "stream",
     "text": [
      "(6362,) (77650,)\n"
     ]
    }
   ],
   "source": [
    "print(Y_data.shape,Y_unbalancedData.shape)"
   ]
  },
  {
   "cell_type": "markdown",
   "metadata": {},
   "source": [
    "### Feature Selection"
   ]
  },
  {
   "cell_type": "markdown",
   "metadata": {},
   "source": [
    "#### L1-based feature selection"
   ]
  },
  {
   "cell_type": "code",
   "execution_count": 258,
   "metadata": {},
   "outputs": [],
   "source": [
    "from sklearn.feature_selection import SelectFromModel\n",
    "from sklearn.svm import LinearSVC"
   ]
  },
  {
   "cell_type": "code",
   "execution_count": 259,
   "metadata": {},
   "outputs": [
    {
     "data": {
      "text/plain": [
       "(6362, 61)"
      ]
     },
     "execution_count": 259,
     "metadata": {},
     "output_type": "execute_result"
    }
   ],
   "source": [
    "lsvc = LinearSVC(C=0.01, penalty=\"l1\", dual=False).fit(X_data, Y_data)\n",
    "model = SelectFromModel(lsvc, prefit=True)\n",
    "X_new = model.transform(X_data)\n",
    "X_new.shape"
   ]
  },
  {
   "cell_type": "markdown",
   "metadata": {},
   "source": [
    "#### Tree-based feature selection (Works very good)"
   ]
  },
  {
   "cell_type": "code",
   "execution_count": 260,
   "metadata": {},
   "outputs": [
    {
     "name": "stdout",
     "output_type": "stream",
     "text": [
      "[0.00459192 0.00638937 0.00746999 0.005769   0.0061242  0.00716862\n",
      " 0.00741437 0.01471141 0.03743817 0.0115152  0.01123139 0.01531945\n",
      " 0.0187442  0.01329755 0.01930279 0.00561378 0.00558235 0.00494921\n",
      " 0.00409193 0.00635918 0.0081696  0.00578595 0.00547241 0.00623151\n",
      " 0.00603331 0.01367673 0.03098179 0.0125695  0.01360493 0.01281124\n",
      " 0.01657274 0.01395144 0.02390378 0.0051915  0.00601543 0.00428176\n",
      " 0.00486512 0.00623158 0.00762447 0.00492224 0.00616586 0.00675\n",
      " 0.0078613  0.01395373 0.03302317 0.01169791 0.01282622 0.01451102\n",
      " 0.01715943 0.01347197 0.01862352 0.0066746  0.00585363 0.00530758\n",
      " 0.00487592 0.00559209 0.00774471 0.00468704 0.00590672 0.00659499\n",
      " 0.00676266 0.0159667  0.03259638 0.01376055 0.01253276 0.01608307\n",
      " 0.01497856 0.01482932 0.02105185 0.00539833 0.00584556 0.00521149\n",
      " 0.00465431 0.0060701  0.00862293 0.00519951 0.00609728 0.00678388\n",
      " 0.00665117 0.01422004 0.03762487 0.01186535 0.01305358 0.01632288\n",
      " 0.01621356 0.01420848 0.01879537 0.00599683 0.00623489 0.00510524]\n",
      "(6362, 40)\n"
     ]
    }
   ],
   "source": [
    "from sklearn.ensemble import ExtraTreesClassifier\n",
    "from sklearn.feature_selection import SelectFromModel\n",
    "\n",
    "clfTree = ExtraTreesClassifier(n_estimators=50)\n",
    "clfTree = clfTree.fit(X_data, Y_data)\n",
    "print (clfTree.feature_importances_)  \n",
    "\n",
    "model = SelectFromModel(clfTree, prefit=True)\n",
    "X_new = model.transform(X_data)\n",
    "print (X_new.shape)"
   ]
  },
  {
   "cell_type": "code",
   "execution_count": 261,
   "metadata": {},
   "outputs": [
    {
     "name": "stdout",
     "output_type": "stream",
     "text": [
      "(77650, 40)\n"
     ]
    }
   ],
   "source": [
    "X_unbalanced_new = model.transform(X_unbalancedData)\n",
    "print(X_unbalanced_new.shape)"
   ]
  },
  {
   "cell_type": "code",
   "execution_count": null,
   "metadata": {},
   "outputs": [],
   "source": []
  },
  {
   "cell_type": "markdown",
   "metadata": {},
   "source": [
    "### Classification"
   ]
  },
  {
   "cell_type": "code",
   "execution_count": 275,
   "metadata": {},
   "outputs": [],
   "source": [
    "from xgboost import XGBClassifier"
   ]
  },
  {
   "cell_type": "code",
   "execution_count": 276,
   "metadata": {},
   "outputs": [],
   "source": [
    "clf = XGBClassifier(n_jobs=-1,verbosity=2)"
   ]
  },
  {
   "cell_type": "code",
   "execution_count": 277,
   "metadata": {},
   "outputs": [],
   "source": [
    "X_new = X_data\n",
    "\n",
    "from sklearn.model_selection import train_test_split\n",
    "X_train, X_test, y_train, y_test = train_test_split(X_new, Y_data, test_size=0.30, random_state=42, shuffle =True)"
   ]
  },
  {
   "cell_type": "code",
   "execution_count": 278,
   "metadata": {},
   "outputs": [
    {
     "name": "stdout",
     "output_type": "stream",
     "text": [
      "[1 1 1 ... 1 1 0]\n"
     ]
    }
   ],
   "source": [
    "print (y_train)"
   ]
  },
  {
   "cell_type": "code",
   "execution_count": 279,
   "metadata": {},
   "outputs": [
    {
     "data": {
      "text/plain": [
       "(array([-1.84615385e+00, -1.09866221e+00, -8.32775920e-01, -1.10535117e+00,\n",
       "        -1.70234114e+00, -1.11872910e+00, -1.22240803e+00, -1.09364548e+00,\n",
       "         8.29436242e-01, -3.04214765e-01, -4.11731544e-01, -9.87785235e-02,\n",
       "        -4.03013423e-01,  7.33348993e-01, -5.12255034e-01, -1.75632215e+00,\n",
       "        -1.47634497e+01,  2.04173691e+01, -9.27609428e-01, -1.33164983e+00,\n",
       "        -8.72053872e-01, -9.17508418e-01, -1.32323232e+00, -1.01010101e+00,\n",
       "        -1.15824916e+00, -1.25925926e+00,  8.06393333e-01, -1.53346667e-01,\n",
       "        -2.27653333e-01,  3.76113333e-01, -3.68533333e-01,  3.24840000e-01,\n",
       "        -8.07260000e-01, -3.10041333e+00,  1.68625200e+01, -3.79712000e+01,\n",
       "        -1.52333333e+00, -9.61666667e-01, -1.54000000e+00, -1.78000000e+00,\n",
       "        -1.95500000e+00, -1.62333333e+00, -1.35500000e+00, -1.58333333e+00,\n",
       "         5.70126667e-01, -8.75466667e-02, -5.22000000e-03,  7.69733333e-01,\n",
       "        -9.18800000e-02, -1.15573333e-01, -8.89720000e-01,  1.21336933e+01,\n",
       "         2.18871000e+01, -8.36749333e+00, -7.80405405e-01, -9.32432432e-01,\n",
       "        -1.58108108e+00, -7.77027027e-02, -5.69256757e-01, -8.78378378e-01,\n",
       "        -1.26351351e+00, -1.07432432e+00,  6.41026846e-01, -8.80335570e-02,\n",
       "        -4.76107383e-02,  6.94322148e-01, -1.78919463e-01, -4.26845638e-02,\n",
       "        -8.31543624e-01, -2.83729530e+01, -1.49852886e+01,  5.53441611e+00,\n",
       "        -1.07744108e+00, -1.03703704e+00, -9.88215488e-01, -8.53535354e-01,\n",
       "        -1.25925926e+00, -1.20202020e+00, -1.06565657e+00, -1.17340067e+00,\n",
       "         5.33933333e-01, -7.28733333e-02, -2.78780000e-01,  7.83480000e-01,\n",
       "        -5.15606667e-01,  1.70793333e-01, -8.68986667e-01, -2.94162667e+00,\n",
       "         2.72212667e+00, -9.18958667e+00]),\n",
       " array([-2.02020202e+00, -9.42760943e-01, -2.54713805e+00, -1.08417508e+00,\n",
       "        -1.39393939e+00,  3.53535354e-02,  1.41414141e-01, -4.76262626e+00,\n",
       "         4.96644295e-03, -1.80939597e-01,  3.19369128e-01,  8.78590604e-01,\n",
       "         6.21348993e-01, -2.70187919e-01, -6.61483221e-01,  2.77777181e+01,\n",
       "        -9.18993289e-02, -1.19626443e+01, -2.22222222e-01, -1.03703704e+00,\n",
       "        -1.16161616e+00, -1.56902357e+00, -2.25252525e+00, -9.22558923e-01,\n",
       "        -1.54545455e+00,  3.33215488e+01, -7.34364238e-01, -6.12913907e-01,\n",
       "        -1.32463576e-01,  1.61450331e-01,  9.07059603e-01, -3.87655629e-01,\n",
       "        -1.20768212e-01,  2.84561192e+01, -5.37750993e+00, -1.31371523e+00,\n",
       "         8.08080808e-02, -2.20538721e-01,  7.13804714e-01, -1.71548822e+00,\n",
       "        -4.59595960e-01, -2.88215488e+00, -1.56734007e+00,  3.33922559e+01,\n",
       "        -7.68228188e-01, -5.64993289e-01,  4.87516779e-02,  1.98657718e-01,\n",
       "         9.26651007e-01, -1.27577181e-01, -2.28489933e-01, -1.35721007e+01,\n",
       "        -3.39306711e+00, -3.95975168e+00, -6.45973154e-01, -4.88255034e-01,\n",
       "        -9.63087248e-01, -9.19463087e-01, -3.47315436e-01, -9.78187919e-01,\n",
       "        -3.38926174e-01, -1.09060403e+00, -8.10080000e-01, -5.23193333e-01,\n",
       "         7.34400000e-02,  1.97053333e-01,  9.05600000e-01, -1.04973333e-01,\n",
       "        -3.52240000e-01,  1.57099800e+01, -3.35669333e+00, -2.34372000e+00,\n",
       "        -1.63513514e+00, -1.21283784e+00, -2.33445946e+00, -7.26351351e-01,\n",
       "        -2.68581081e-01,  5.33783784e-01, -7.82094595e-01,  1.58074324e+01,\n",
       "        -7.07393333e-01, -5.46466667e-01,  1.40380000e-01,  3.33693333e-01,\n",
       "         9.47133333e-01, -1.60586667e-01, -2.00993333e-01, -5.57093333e-01,\n",
       "         1.53379200e+01,  4.08790667e+00]),\n",
       " 0,\n",
       " 1)"
      ]
     },
     "execution_count": 279,
     "metadata": {},
     "output_type": "execute_result"
    }
   ],
   "source": [
    "X_train[-1],X_train[-2],y_train[-1],y_train[-2]"
   ]
  },
  {
   "cell_type": "code",
   "execution_count": 280,
   "metadata": {},
   "outputs": [
    {
     "data": {
      "text/plain": [
       "XGBClassifier(base_score=0.5, booster='gbtree', colsample_bylevel=1,\n",
       "       colsample_bytree=1, gamma=0, learning_rate=0.1, max_delta_step=0,\n",
       "       max_depth=3, min_child_weight=1, missing=None, n_estimators=100,\n",
       "       n_jobs=-1, nthread=None, objective='binary:logistic',\n",
       "       random_state=0, reg_alpha=0, reg_lambda=1, scale_pos_weight=1,\n",
       "       seed=None, silent=True, subsample=1, verbosity=2)"
      ]
     },
     "execution_count": 280,
     "metadata": {},
     "output_type": "execute_result"
    }
   ],
   "source": [
    "clf.fit(X_train,y_train)"
   ]
  },
  {
   "cell_type": "code",
   "execution_count": 281,
   "metadata": {},
   "outputs": [
    {
     "name": "stdout",
     "output_type": "stream",
     "text": [
      "Accuracy: 87.17%\n"
     ]
    }
   ],
   "source": [
    "from sklearn.metrics import accuracy_score\n",
    "preds_val = clf.predict(X_test)\n",
    "accuracy = accuracy_score(y_test, preds_val)\n",
    "print(\"Accuracy: %.2f%%\" % (accuracy * 100.0))"
   ]
  },
  {
   "cell_type": "markdown",
   "metadata": {},
   "source": [
    "#### Parameter Search by GridSearch"
   ]
  },
  {
   "cell_type": "code",
   "execution_count": 282,
   "metadata": {},
   "outputs": [],
   "source": [
    "from sklearn.model_selection import GridSearchCV\n",
    "\n",
    "def xgboost_param_selection(XData, yData, nfolds):\n",
    "    param_grid = {'n_estimators':(100,100,1000), \n",
    "              'max_depth': range(1, 20, 5)}\n",
    "    grid_search = GridSearchCV(XGBClassifier(cache_size=2000), param_grid, cv=nfolds, n_jobs=-1, verbose=2)\n",
    "    grid_search.fit(XData, yData)\n",
    "    grid_search.best_params_\n",
    "    return grid_search.best_params_"
   ]
  },
  {
   "cell_type": "code",
   "execution_count": 283,
   "metadata": {},
   "outputs": [
    {
     "name": "stdout",
     "output_type": "stream",
     "text": [
      "Fitting 5 folds for each of 12 candidates, totalling 60 fits\n"
     ]
    },
    {
     "name": "stderr",
     "output_type": "stream",
     "text": [
      "[Parallel(n_jobs=-1)]: Using backend LokyBackend with 20 concurrent workers.\n",
      "[Parallel(n_jobs=-1)]: Done   1 tasks      | elapsed:   11.6s\n",
      "[Parallel(n_jobs=-1)]: Done  52 out of  60 | elapsed:   55.3s remaining:    8.5s\n",
      "[Parallel(n_jobs=-1)]: Done  60 out of  60 | elapsed:  1.2min finished\n"
     ]
    }
   ],
   "source": [
    "best_params = xgboost_param_selection(X_train,y_train,5)"
   ]
  },
  {
   "cell_type": "code",
   "execution_count": 284,
   "metadata": {},
   "outputs": [
    {
     "data": {
      "text/plain": [
       "{'max_depth': 16, 'n_estimators': 1000}"
      ]
     },
     "execution_count": 284,
     "metadata": {},
     "output_type": "execute_result"
    }
   ],
   "source": [
    "best_params"
   ]
  },
  {
   "cell_type": "code",
   "execution_count": 285,
   "metadata": {},
   "outputs": [],
   "source": [
    "clf = XGBClassifier(max_depth=16,n_estimators=3000,)\n",
    "#clf = SVC(gamma=0.001, C=0.1, kernel = 'linear')"
   ]
  },
  {
   "cell_type": "code",
   "execution_count": 286,
   "metadata": {},
   "outputs": [
    {
     "data": {
      "text/plain": [
       "XGBClassifier(base_score=0.5, booster='gbtree', colsample_bylevel=1,\n",
       "       colsample_bytree=1, gamma=0, learning_rate=0.1, max_delta_step=0,\n",
       "       max_depth=16, min_child_weight=1, missing=None, n_estimators=3000,\n",
       "       n_jobs=1, nthread=None, objective='binary:logistic', random_state=0,\n",
       "       reg_alpha=0, reg_lambda=1, scale_pos_weight=1, seed=None,\n",
       "       silent=True, subsample=1)"
      ]
     },
     "execution_count": 286,
     "metadata": {},
     "output_type": "execute_result"
    }
   ],
   "source": [
    "clf.fit(X_train,y_train)"
   ]
  },
  {
   "cell_type": "markdown",
   "metadata": {},
   "source": [
    "#### Testing Accuracy"
   ]
  },
  {
   "cell_type": "code",
   "execution_count": 287,
   "metadata": {},
   "outputs": [
    {
     "name": "stdout",
     "output_type": "stream",
     "text": [
      "Accuracy: 92.46%\n"
     ]
    }
   ],
   "source": [
    "preds_val = clf.predict(X_test)\n",
    "accuracy = accuracy_score(y_test, preds_val)\n",
    "print(\"Accuracy: %.2f%%\" % (accuracy * 100.0))"
   ]
  },
  {
   "cell_type": "code",
   "execution_count": 288,
   "metadata": {},
   "outputs": [],
   "source": [
    "from sklearn.metrics import confusion_matrix"
   ]
  },
  {
   "cell_type": "code",
   "execution_count": 289,
   "metadata": {},
   "outputs": [
    {
     "data": {
      "text/plain": [
       "array([[893,  69],\n",
       "       [ 75, 872]])"
      ]
     },
     "execution_count": 289,
     "metadata": {},
     "output_type": "execute_result"
    }
   ],
   "source": [
    "confusion_matrix(y_test, preds_val)"
   ]
  },
  {
   "cell_type": "code",
   "execution_count": 290,
   "metadata": {},
   "outputs": [
    {
     "data": {
      "text/plain": [
       "(1909,)"
      ]
     },
     "execution_count": 290,
     "metadata": {},
     "output_type": "execute_result"
    }
   ],
   "source": [
    "preds_val.shape"
   ]
  },
  {
   "cell_type": "code",
   "execution_count": 291,
   "metadata": {},
   "outputs": [],
   "source": [
    "from sklearn.utils.multiclass import unique_labels\n",
    "import matplotlib.pyplot as plt\n",
    "def plot_confusion_matrix(y_true, y_pred, classes,\n",
    "                          normalize=False,\n",
    "                          title=None,\n",
    "                          cmap=plt.cm.Blues):\n",
    "    \"\"\"\n",
    "    This function prints and plots the confusion matrix.\n",
    "    Normalization can be applied by setting `normalize=True`.\n",
    "    \"\"\"\n",
    "    if not title:\n",
    "        if normalize:\n",
    "            title = 'Normalized confusion matrix'\n",
    "        else:\n",
    "            title = 'Confusion matrix, without normalization'\n",
    "\n",
    "    # Compute confusion matrix\n",
    "    cm = confusion_matrix(y_true, y_pred)\n",
    "    # Only use the labels that appear in the data\n",
    "    classes = classes[unique_labels(y_true, y_pred)]\n",
    "    if normalize:\n",
    "        cm = cm.astype('float') / cm.sum(axis=1)[:, np.newaxis]\n",
    "        print(\"Normalized confusion matrix\")\n",
    "    else:\n",
    "        print('Confusion matrix, without normalization')\n",
    "\n",
    "    print(cm)\n",
    "\n",
    "    fig, ax = plt.subplots()\n",
    "    im = ax.imshow(cm, interpolation='nearest', cmap=cmap)\n",
    "    ax.figure.colorbar(im, ax=ax)\n",
    "    # We want to show all ticks...\n",
    "    ax.set(xticks=np.arange(cm.shape[1]),\n",
    "           yticks=np.arange(cm.shape[0]),\n",
    "           # ... and label them with the respective list entries\n",
    "           xticklabels=classes, yticklabels=classes,\n",
    "           title=title,\n",
    "           ylabel='True label',\n",
    "           xlabel='Predicted label')\n",
    "\n",
    "    # Rotate the tick labels and set their alignment.\n",
    "    plt.setp(ax.get_xticklabels(), rotation=45, ha=\"right\",\n",
    "             rotation_mode=\"anchor\")\n",
    "\n",
    "    # Loop over data dimensions and create text annotations.\n",
    "    fmt = '.2f' if normalize else 'd'\n",
    "    thresh = cm.max() / 2.\n",
    "    for i in range(cm.shape[0]):\n",
    "        for j in range(cm.shape[1]):\n",
    "            ax.text(j, i, format(cm[i, j], fmt),\n",
    "                    ha=\"center\", va=\"center\",\n",
    "                    color=\"white\" if cm[i, j] > thresh else \"black\")\n",
    "    fig.tight_layout()\n",
    "    return ax"
   ]
  },
  {
   "cell_type": "code",
   "execution_count": 292,
   "metadata": {},
   "outputs": [
    {
     "name": "stdout",
     "output_type": "stream",
     "text": [
      "Confusion matrix, without normalization\n",
      "[[893  69]\n",
      " [ 75 872]]\n"
     ]
    },
    {
     "data": {
      "text/plain": [
       "<matplotlib.axes._subplots.AxesSubplot at 0x2b2899d699b0>"
      ]
     },
     "execution_count": 292,
     "metadata": {},
     "output_type": "execute_result"
    },
    {
     "data": {
      "image/png": "[encoded data removed]",
      "text/plain": [
       "<Figure size 432x288 with 2 Axes>"
      ]
     },
     "metadata": {
      "needs_background": "light"
     },
     "output_type": "display_data"
    }
   ],
   "source": [
    "plot_confusion_matrix(y_test, preds_val,np.array(['Non-Eat','Eat']))"
   ]
  },
  {
   "cell_type": "markdown",
   "metadata": {},
   "source": [
    "#### Testing with Unbalanced data (77670 samples)"
   ]
  },
  {
   "cell_type": "code",
   "execution_count": 293,
   "metadata": {},
   "outputs": [
    {
     "name": "stdout",
     "output_type": "stream",
     "text": [
      "Accuracy: 93.51%\n"
     ]
    }
   ],
   "source": [
    "#print(X_unbalanced_new.shape)\n",
    "X_unbalanced_new = X_unbalancedData\n",
    "preds_val_unbalanced = clf.predict(X_unbalanced_new)\n",
    "accuracy = accuracy_score(Y_unbalancedData, preds_val_unbalanced)\n",
    "print(\"Accuracy: %.2f%%\" % (accuracy * 100.0))"
   ]
  },
  {
   "cell_type": "code",
   "execution_count": 294,
   "metadata": {},
   "outputs": [
    {
     "name": "stdout",
     "output_type": "stream",
     "text": [
      "Confusion matrix, without normalization\n",
      "[[69507  4962]\n",
      " [   81  3100]]\n"
     ]
    },
    {
     "data": {
      "text/plain": [
       "<matplotlib.axes._subplots.AxesSubplot at 0x2b289d663668>"
      ]
     },
     "execution_count": 294,
     "metadata": {},
     "output_type": "execute_result"
    },
    {
     "data": {
      "image/png": "[encoded data removed]",
      "text/plain": [
       "<Figure size 432x288 with 2 Axes>"
      ]
     },
     "metadata": {
      "needs_background": "light"
     },
     "output_type": "display_data"
    }
   ],
   "source": [
    "plot_confusion_matrix(Y_unbalancedData, preds_val_unbalanced,np.array(['Non-Eat','Eat']))"
   ]
  },
  {
   "cell_type": "markdown",
   "metadata": {},
   "source": [
    "### Training Accuracy"
   ]
  },
  {
   "cell_type": "code",
   "execution_count": 295,
   "metadata": {},
   "outputs": [
    {
     "name": "stdout",
     "output_type": "stream",
     "text": [
      "(4453, 90)\n",
      "Accuracy: 99.60%\n"
     ]
    }
   ],
   "source": [
    "print(X_train.shape)\n",
    "preds_val_train = clf.predict(X_train)\n",
    "accuracy = accuracy_score(y_train, preds_val_train)\n",
    "print(\"Accuracy: %.2f%%\" % (accuracy * 100.0))"
   ]
  },
  {
   "cell_type": "code",
   "execution_count": 296,
   "metadata": {},
   "outputs": [
    {
     "name": "stdout",
     "output_type": "stream",
     "text": [
      "Confusion matrix, without normalization\n",
      "[[2207   12]\n",
      " [   6 2228]]\n"
     ]
    },
    {
     "data": {
      "text/plain": [
       "<matplotlib.axes._subplots.AxesSubplot at 0x2b289d4e7828>"
      ]
     },
     "execution_count": 296,
     "metadata": {},
     "output_type": "execute_result"
    },
    {
     "data": {
      "image/png": "[encoded data removed]",
      "text/plain": [
       "<Figure size 432x288 with 2 Axes>"
      ]
     },
     "metadata": {
      "needs_background": "light"
     },
     "output_type": "display_data"
    }
   ],
   "source": [
    "plot_confusion_matrix(y_train, preds_val_train,np.array(['Non-Eat','Eat']))"
   ]
  },
  {
   "cell_type": "markdown",
   "metadata": {},
   "source": [
    "## LightGBM"
   ]
  },
  {
   "cell_type": "code",
   "execution_count": 77,
   "metadata": {},
   "outputs": [],
   "source": [
    "from lightgbm import LGBMClassifier\n",
    "\n",
    "model1 = LGBMClassifier(boosting_type='gbdt', num_leaves=31, max_depth=-1, learning_rate=0.1, n_estimators=100, subsample_for_bin=200000, objective=None, class_weight=None, min_split_gain=0.0, min_child_weight=0.001, min_child_samples=20, subsample=1.0, subsample_freq=0, colsample_bytree=1.0, reg_alpha=0.0, reg_lambda=0.0, random_state=42, n_jobs=-1, silent=True, importance_type='split',)"
   ]
  },
  {
   "cell_type": "code",
   "execution_count": 78,
   "metadata": {},
   "outputs": [],
   "source": [
    "from sklearn.model_selection import GridSearchCV\n",
    "parameters = {'n_estimators':(100,100,1000), \n",
    "              'max_depth': range(1, 20, 5),\n",
    "             }\n",
    "    "
   ]
  },
  {
   "cell_type": "code",
   "execution_count": 79,
   "metadata": {},
   "outputs": [
    {
     "data": {
      "text/plain": [
       "dict_keys(['boosting_type', 'class_weight', 'colsample_bytree', 'importance_type', 'learning_rate', 'max_depth', 'min_child_samples', 'min_child_weight', 'min_split_gain', 'n_estimators', 'n_jobs', 'num_leaves', 'objective', 'random_state', 'reg_alpha', 'reg_lambda', 'silent', 'subsample', 'subsample_for_bin', 'subsample_freq'])"
      ]
     },
     "execution_count": 79,
     "metadata": {},
     "output_type": "execute_result"
    }
   ],
   "source": [
    "model1.get_params().keys()"
   ]
  },
  {
   "cell_type": "code",
   "execution_count": 80,
   "metadata": {},
   "outputs": [],
   "source": [
    "gs_clf = GridSearchCV(model1,parameters, cv=5, n_jobs=-1,verbose=2)"
   ]
  },
  {
   "cell_type": "code",
   "execution_count": 81,
   "metadata": {},
   "outputs": [
    {
     "name": "stdout",
     "output_type": "stream",
     "text": [
      "(4453, 133) (4453,)\n",
      "Fitting 5 folds for each of 12 candidates, totalling 60 fits\n"
     ]
    },
    {
     "name": "stderr",
     "output_type": "stream",
     "text": [
      "[Parallel(n_jobs=-1)]: Using backend LokyBackend with 20 concurrent workers.\n",
      "[Parallel(n_jobs=-1)]: Done   1 tasks      | elapsed:    0.4s\n",
      "[Parallel(n_jobs=-1)]: Done  52 out of  60 | elapsed:    3.5s remaining:    0.5s\n",
      "[Parallel(n_jobs=-1)]: Done  60 out of  60 | elapsed:    4.3s finished\n"
     ]
    }
   ],
   "source": [
    "print (X_train.shape, y_train.shape)\n",
    "model = gs_clf.fit(X_train, y_train)"
   ]
  },
  {
   "cell_type": "code",
   "execution_count": 82,
   "metadata": {},
   "outputs": [
    {
     "name": "stdout",
     "output_type": "stream",
     "text": [
      "{'max_depth': 1, 'n_estimators': 100}\n",
      "max_depth: 1\n",
      "n_estimators: 100\n"
     ]
    }
   ],
   "source": [
    "print(model.best_params_)\n",
    "for param_name in sorted(parameters.keys()):\n",
    "    print(\"%s: %r\" % (param_name, model.best_params_[param_name]))"
   ]
  },
  {
   "cell_type": "code",
   "execution_count": 85,
   "metadata": {},
   "outputs": [
    {
     "name": "stdout",
     "output_type": "stream",
     "text": [
      "Accuracy: 64.80%\n"
     ]
    }
   ],
   "source": [
    "from sklearn.metrics import accuracy_score\n",
    "preds_val = model.predict(X_test)\n",
    "accuracy = accuracy_score(y_test, preds_val)\n",
    "print(\"Accuracy: %.2f%%\" % (accuracy * 100.0))"
   ]
  },
  {
   "cell_type": "code",
   "execution_count": 86,
   "metadata": {},
   "outputs": [
    {
     "name": "stdout",
     "output_type": "stream",
     "text": [
      "Confusion matrix, without normalization\n",
      "[[778 184]\n",
      " [488 459]]\n"
     ]
    },
    {
     "data": {
      "text/plain": [
       "<matplotlib.axes._subplots.AxesSubplot at 0x2b28bfd02a90>"
      ]
     },
     "execution_count": 86,
     "metadata": {},
     "output_type": "execute_result"
    },
    {
     "data": {
      "image/png": "[encoded data removed]",
      "text/plain": [
       "<Figure size 432x288 with 2 Axes>"
      ]
     },
     "metadata": {
      "needs_background": "light"
     },
     "output_type": "display_data"
    }
   ],
   "source": [
    "plot_confusion_matrix(y_test, preds_val,np.array(['Non-Eat','Eat']))"
   ]
  },
  {
   "cell_type": "markdown",
   "metadata": {},
   "source": [
    "#### Training Accuracy"
   ]
  },
  {
   "cell_type": "code",
   "execution_count": 87,
   "metadata": {},
   "outputs": [
    {
     "name": "stdout",
     "output_type": "stream",
     "text": [
      "Accuracy: 61.58%\n"
     ]
    }
   ],
   "source": [
    "from sklearn.metrics import accuracy_score\n",
    "preds_val_train = model.predict(X_train)\n",
    "accuracy = accuracy_score(y_train, preds_val_train)\n",
    "print(\"Accuracy: %.2f%%\" % (accuracy * 100.0))"
   ]
  },
  {
   "cell_type": "code",
   "execution_count": 88,
   "metadata": {},
   "outputs": [
    {
     "name": "stdout",
     "output_type": "stream",
     "text": [
      "Confusion matrix, without normalization\n",
      "[[1741  478]\n",
      " [1233 1001]]\n"
     ]
    },
    {
     "data": {
      "text/plain": [
       "<matplotlib.axes._subplots.AxesSubplot at 0x2b28bfdfdcc0>"
      ]
     },
     "execution_count": 88,
     "metadata": {},
     "output_type": "execute_result"
    },
    {
     "data": {
      "image/png": "[encoded data removed]",
      "text/plain": [
       "<Figure size 432x288 with 2 Axes>"
      ]
     },
     "metadata": {
      "needs_background": "light"
     },
     "output_type": "display_data"
    }
   ],
   "source": [
    "plot_confusion_matrix(y_train, preds_val_train,np.array(['Non-Eat','Eat']))"
   ]
  },
  {
   "cell_type": "markdown",
   "metadata": {},
   "source": [
    "#### Test with unbalanced data"
   ]
  },
  {
   "cell_type": "code",
   "execution_count": 89,
   "metadata": {},
   "outputs": [
    {
     "name": "stdout",
     "output_type": "stream",
     "text": [
      "Accuracy: 77.99%\n"
     ]
    }
   ],
   "source": [
    "from sklearn.metrics import accuracy_score\n",
    "preds_val = model.predict(X_unbalanced_new)\n",
    "accuracy = accuracy_score(Y_unbalancedData, preds_val)\n",
    "print(\"Accuracy: %.2f%%\" % (accuracy * 100.0))"
   ]
  },
  {
   "cell_type": "code",
   "execution_count": 90,
   "metadata": {},
   "outputs": [
    {
     "name": "stdout",
     "output_type": "stream",
     "text": [
      "Confusion matrix, without normalization\n",
      "[[59071 15358]\n",
      " [ 1721  1460]]\n"
     ]
    },
    {
     "data": {
      "text/plain": [
       "<matplotlib.axes._subplots.AxesSubplot at 0x2b28bfe6ea90>"
      ]
     },
     "execution_count": 90,
     "metadata": {},
     "output_type": "execute_result"
    },
    {
     "data": {
      "image/png": "[encoded data removed]",
      "text/plain": [
       "<Figure size 432x288 with 2 Axes>"
      ]
     },
     "metadata": {
      "needs_background": "light"
     },
     "output_type": "display_data"
    }
   ],
   "source": [
    "plot_confusion_matrix(Y_unbalancedData, preds_val,np.array(['Non-Eat','Eat']))"
   ]
  },
  {
   "cell_type": "code",
   "execution_count": null,
   "metadata": {},
   "outputs": [],
   "source": []
  },
  {
   "cell_type": "code",
   "execution_count": null,
   "metadata": {},
   "outputs": [],
   "source": []
  }
 ],
 "metadata": {
  "kernelspec": {
   "display_name": "Python 3",
   "language": "python",
   "name": "python3"
  },
  "language_info": {
   "codemirror_mode": {
    "name": "ipython",
    "version": 3
   },
   "file_extension": ".py",
   "mimetype": "text/x-python",
   "name": "python",
   "nbconvert_exporter": "python",
   "pygments_lexer": "ipython3",
   "version": "3.7.1"
  }
 },
 "nbformat": 4,
 "nbformat_minor": 2
}
