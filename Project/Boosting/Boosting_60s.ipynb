{
 "cells": [
  {
   "cell_type": "code",
   "execution_count": 1,
   "metadata": {},
   "outputs": [],
   "source": [
    "import numpy\n",
    "import os\n",
    "import json\n",
    "import csv\n",
    "import pandas as pd\n",
    "import numpy as np\n",
    "np.random.seed(42)"
   ]
  },
  {
   "cell_type": "code",
   "execution_count": 2,
   "metadata": {},
   "outputs": [],
   "source": [
    "path = \"../../data\""
   ]
  },
  {
   "cell_type": "code",
   "execution_count": 3,
   "metadata": {},
   "outputs": [],
   "source": [
    "file = \"605_output.csv\""
   ]
  },
  {
   "cell_type": "code",
   "execution_count": 4,
   "metadata": {},
   "outputs": [
    {
     "ename": "FileNotFoundError",
     "evalue": "File b'../../data/605_output.csv' does not exist",
     "output_type": "error",
     "traceback": [
      "\u001b[0;31m---------------------------------------------------------------------------\u001b[0m",
      "\u001b[0;31mFileNotFoundError\u001b[0m                         Traceback (most recent call last)",
      "\u001b[0;32m<ipython-input-4-015656a37c46>\u001b[0m in \u001b[0;36m<module>\u001b[0;34m()\u001b[0m\n\u001b[0;32m----> 1\u001b[0;31m \u001b[0mdata\u001b[0m \u001b[0;34m=\u001b[0m \u001b[0mpd\u001b[0m\u001b[0;34m.\u001b[0m\u001b[0mread_csv\u001b[0m\u001b[0;34m(\u001b[0m\u001b[0mos\u001b[0m\u001b[0;34m.\u001b[0m\u001b[0mpath\u001b[0m\u001b[0;34m.\u001b[0m\u001b[0mjoin\u001b[0m\u001b[0;34m(\u001b[0m\u001b[0mpath\u001b[0m\u001b[0;34m,\u001b[0m\u001b[0mfile\u001b[0m\u001b[0;34m)\u001b[0m\u001b[0;34m,\u001b[0m\u001b[0mheader\u001b[0m\u001b[0;34m=\u001b[0m\u001b[0;32mNone\u001b[0m\u001b[0;34m)\u001b[0m\u001b[0;34m\u001b[0m\u001b[0;34m\u001b[0m\u001b[0m\n\u001b[0m\u001b[1;32m      2\u001b[0m \u001b[0munbalancedData\u001b[0m \u001b[0;34m=\u001b[0m \u001b[0mpd\u001b[0m\u001b[0;34m.\u001b[0m\u001b[0mread_csv\u001b[0m\u001b[0;34m(\u001b[0m\u001b[0mos\u001b[0m\u001b[0;34m.\u001b[0m\u001b[0mpath\u001b[0m\u001b[0;34m.\u001b[0m\u001b[0mjoin\u001b[0m\u001b[0;34m(\u001b[0m\u001b[0mpath\u001b[0m\u001b[0;34m,\u001b[0m\u001b[0mfile\u001b[0m\u001b[0;34m)\u001b[0m\u001b[0;34m,\u001b[0m\u001b[0mheader\u001b[0m\u001b[0;34m=\u001b[0m\u001b[0;32mNone\u001b[0m\u001b[0;34m)\u001b[0m\u001b[0;34m\u001b[0m\u001b[0;34m\u001b[0m\u001b[0m\n",
      "\u001b[0;32m/packages/7x/anaconda3/5.3.0/lib/python3.7/site-packages/pandas/io/parsers.py\u001b[0m in \u001b[0;36mparser_f\u001b[0;34m(filepath_or_buffer, sep, delimiter, header, names, index_col, usecols, squeeze, prefix, mangle_dupe_cols, dtype, engine, converters, true_values, false_values, skipinitialspace, skiprows, nrows, na_values, keep_default_na, na_filter, verbose, skip_blank_lines, parse_dates, infer_datetime_format, keep_date_col, date_parser, dayfirst, iterator, chunksize, compression, thousands, decimal, lineterminator, quotechar, quoting, escapechar, comment, encoding, dialect, tupleize_cols, error_bad_lines, warn_bad_lines, skipfooter, doublequote, delim_whitespace, low_memory, memory_map, float_precision)\u001b[0m\n\u001b[1;32m    676\u001b[0m                     skip_blank_lines=skip_blank_lines)\n\u001b[1;32m    677\u001b[0m \u001b[0;34m\u001b[0m\u001b[0m\n\u001b[0;32m--> 678\u001b[0;31m         \u001b[0;32mreturn\u001b[0m \u001b[0m_read\u001b[0m\u001b[0;34m(\u001b[0m\u001b[0mfilepath_or_buffer\u001b[0m\u001b[0;34m,\u001b[0m \u001b[0mkwds\u001b[0m\u001b[0;34m)\u001b[0m\u001b[0;34m\u001b[0m\u001b[0;34m\u001b[0m\u001b[0m\n\u001b[0m\u001b[1;32m    679\u001b[0m \u001b[0;34m\u001b[0m\u001b[0m\n\u001b[1;32m    680\u001b[0m     \u001b[0mparser_f\u001b[0m\u001b[0;34m.\u001b[0m\u001b[0m__name__\u001b[0m \u001b[0;34m=\u001b[0m \u001b[0mname\u001b[0m\u001b[0;34m\u001b[0m\u001b[0;34m\u001b[0m\u001b[0m\n",
      "\u001b[0;32m/packages/7x/anaconda3/5.3.0/lib/python3.7/site-packages/pandas/io/parsers.py\u001b[0m in \u001b[0;36m_read\u001b[0;34m(filepath_or_buffer, kwds)\u001b[0m\n\u001b[1;32m    438\u001b[0m \u001b[0;34m\u001b[0m\u001b[0m\n\u001b[1;32m    439\u001b[0m     \u001b[0;31m# Create the parser.\u001b[0m\u001b[0;34m\u001b[0m\u001b[0;34m\u001b[0m\u001b[0;34m\u001b[0m\u001b[0m\n\u001b[0;32m--> 440\u001b[0;31m     \u001b[0mparser\u001b[0m \u001b[0;34m=\u001b[0m \u001b[0mTextFileReader\u001b[0m\u001b[0;34m(\u001b[0m\u001b[0mfilepath_or_buffer\u001b[0m\u001b[0;34m,\u001b[0m \u001b[0;34m**\u001b[0m\u001b[0mkwds\u001b[0m\u001b[0;34m)\u001b[0m\u001b[0;34m\u001b[0m\u001b[0;34m\u001b[0m\u001b[0m\n\u001b[0m\u001b[1;32m    441\u001b[0m \u001b[0;34m\u001b[0m\u001b[0m\n\u001b[1;32m    442\u001b[0m     \u001b[0;32mif\u001b[0m \u001b[0mchunksize\u001b[0m \u001b[0;32mor\u001b[0m \u001b[0miterator\u001b[0m\u001b[0;34m:\u001b[0m\u001b[0;34m\u001b[0m\u001b[0;34m\u001b[0m\u001b[0m\n",
      "\u001b[0;32m/packages/7x/anaconda3/5.3.0/lib/python3.7/site-packages/pandas/io/parsers.py\u001b[0m in \u001b[0;36m__init__\u001b[0;34m(self, f, engine, **kwds)\u001b[0m\n\u001b[1;32m    785\u001b[0m             \u001b[0mself\u001b[0m\u001b[0;34m.\u001b[0m\u001b[0moptions\u001b[0m\u001b[0;34m[\u001b[0m\u001b[0;34m'has_index_names'\u001b[0m\u001b[0;34m]\u001b[0m \u001b[0;34m=\u001b[0m \u001b[0mkwds\u001b[0m\u001b[0;34m[\u001b[0m\u001b[0;34m'has_index_names'\u001b[0m\u001b[0;34m]\u001b[0m\u001b[0;34m\u001b[0m\u001b[0;34m\u001b[0m\u001b[0m\n\u001b[1;32m    786\u001b[0m \u001b[0;34m\u001b[0m\u001b[0m\n\u001b[0;32m--> 787\u001b[0;31m         \u001b[0mself\u001b[0m\u001b[0;34m.\u001b[0m\u001b[0m_make_engine\u001b[0m\u001b[0;34m(\u001b[0m\u001b[0mself\u001b[0m\u001b[0;34m.\u001b[0m\u001b[0mengine\u001b[0m\u001b[0;34m)\u001b[0m\u001b[0;34m\u001b[0m\u001b[0;34m\u001b[0m\u001b[0m\n\u001b[0m\u001b[1;32m    788\u001b[0m \u001b[0;34m\u001b[0m\u001b[0m\n\u001b[1;32m    789\u001b[0m     \u001b[0;32mdef\u001b[0m \u001b[0mclose\u001b[0m\u001b[0;34m(\u001b[0m\u001b[0mself\u001b[0m\u001b[0;34m)\u001b[0m\u001b[0;34m:\u001b[0m\u001b[0;34m\u001b[0m\u001b[0;34m\u001b[0m\u001b[0m\n",
      "\u001b[0;32m/packages/7x/anaconda3/5.3.0/lib/python3.7/site-packages/pandas/io/parsers.py\u001b[0m in \u001b[0;36m_make_engine\u001b[0;34m(self, engine)\u001b[0m\n\u001b[1;32m   1012\u001b[0m     \u001b[0;32mdef\u001b[0m \u001b[0m_make_engine\u001b[0m\u001b[0;34m(\u001b[0m\u001b[0mself\u001b[0m\u001b[0;34m,\u001b[0m \u001b[0mengine\u001b[0m\u001b[0;34m=\u001b[0m\u001b[0;34m'c'\u001b[0m\u001b[0;34m)\u001b[0m\u001b[0;34m:\u001b[0m\u001b[0;34m\u001b[0m\u001b[0;34m\u001b[0m\u001b[0m\n\u001b[1;32m   1013\u001b[0m         \u001b[0;32mif\u001b[0m \u001b[0mengine\u001b[0m \u001b[0;34m==\u001b[0m \u001b[0;34m'c'\u001b[0m\u001b[0;34m:\u001b[0m\u001b[0;34m\u001b[0m\u001b[0;34m\u001b[0m\u001b[0m\n\u001b[0;32m-> 1014\u001b[0;31m             \u001b[0mself\u001b[0m\u001b[0;34m.\u001b[0m\u001b[0m_engine\u001b[0m \u001b[0;34m=\u001b[0m \u001b[0mCParserWrapper\u001b[0m\u001b[0;34m(\u001b[0m\u001b[0mself\u001b[0m\u001b[0;34m.\u001b[0m\u001b[0mf\u001b[0m\u001b[0;34m,\u001b[0m \u001b[0;34m**\u001b[0m\u001b[0mself\u001b[0m\u001b[0;34m.\u001b[0m\u001b[0moptions\u001b[0m\u001b[0;34m)\u001b[0m\u001b[0;34m\u001b[0m\u001b[0;34m\u001b[0m\u001b[0m\n\u001b[0m\u001b[1;32m   1015\u001b[0m         \u001b[0;32melse\u001b[0m\u001b[0;34m:\u001b[0m\u001b[0;34m\u001b[0m\u001b[0;34m\u001b[0m\u001b[0m\n\u001b[1;32m   1016\u001b[0m             \u001b[0;32mif\u001b[0m \u001b[0mengine\u001b[0m \u001b[0;34m==\u001b[0m \u001b[0;34m'python'\u001b[0m\u001b[0;34m:\u001b[0m\u001b[0;34m\u001b[0m\u001b[0;34m\u001b[0m\u001b[0m\n",
      "\u001b[0;32m/packages/7x/anaconda3/5.3.0/lib/python3.7/site-packages/pandas/io/parsers.py\u001b[0m in \u001b[0;36m__init__\u001b[0;34m(self, src, **kwds)\u001b[0m\n\u001b[1;32m   1706\u001b[0m         \u001b[0mkwds\u001b[0m\u001b[0;34m[\u001b[0m\u001b[0;34m'usecols'\u001b[0m\u001b[0;34m]\u001b[0m \u001b[0;34m=\u001b[0m \u001b[0mself\u001b[0m\u001b[0;34m.\u001b[0m\u001b[0musecols\u001b[0m\u001b[0;34m\u001b[0m\u001b[0;34m\u001b[0m\u001b[0m\n\u001b[1;32m   1707\u001b[0m \u001b[0;34m\u001b[0m\u001b[0m\n\u001b[0;32m-> 1708\u001b[0;31m         \u001b[0mself\u001b[0m\u001b[0;34m.\u001b[0m\u001b[0m_reader\u001b[0m \u001b[0;34m=\u001b[0m \u001b[0mparsers\u001b[0m\u001b[0;34m.\u001b[0m\u001b[0mTextReader\u001b[0m\u001b[0;34m(\u001b[0m\u001b[0msrc\u001b[0m\u001b[0;34m,\u001b[0m \u001b[0;34m**\u001b[0m\u001b[0mkwds\u001b[0m\u001b[0;34m)\u001b[0m\u001b[0;34m\u001b[0m\u001b[0;34m\u001b[0m\u001b[0m\n\u001b[0m\u001b[1;32m   1709\u001b[0m \u001b[0;34m\u001b[0m\u001b[0m\n\u001b[1;32m   1710\u001b[0m         \u001b[0mpassed_names\u001b[0m \u001b[0;34m=\u001b[0m \u001b[0mself\u001b[0m\u001b[0;34m.\u001b[0m\u001b[0mnames\u001b[0m \u001b[0;32mis\u001b[0m \u001b[0;32mNone\u001b[0m\u001b[0;34m\u001b[0m\u001b[0;34m\u001b[0m\u001b[0m\n",
      "\u001b[0;32mpandas/_libs/parsers.pyx\u001b[0m in \u001b[0;36mpandas._libs.parsers.TextReader.__cinit__\u001b[0;34m()\u001b[0m\n",
      "\u001b[0;32mpandas/_libs/parsers.pyx\u001b[0m in \u001b[0;36mpandas._libs.parsers.TextReader._setup_parser_source\u001b[0;34m()\u001b[0m\n",
      "\u001b[0;31mFileNotFoundError\u001b[0m: File b'../../data/605_output.csv' does not exist"
     ]
    }
   ],
   "source": [
    "data = pd.read_csv(os.path.join(path,file),header=None)\n",
    "unbalancedData = pd.read_csv(os.path.join(path,file),header=None)"
   ]
  },
  {
   "cell_type": "code",
   "execution_count": 52,
   "metadata": {},
   "outputs": [
    {
     "data": {
      "text/html": [
       "<div>\n",
       "<style scoped>\n",
       "    .dataframe tbody tr th:only-of-type {\n",
       "        vertical-align: middle;\n",
       "    }\n",
       "\n",
       "    .dataframe tbody tr th {\n",
       "        vertical-align: top;\n",
       "    }\n",
       "\n",
       "    .dataframe thead th {\n",
       "        text-align: right;\n",
       "    }\n",
       "</style>\n",
       "<table border=\"1\" class=\"dataframe\">\n",
       "  <thead>\n",
       "    <tr style=\"text-align: right;\">\n",
       "      <th></th>\n",
       "      <th>0</th>\n",
       "      <th>1</th>\n",
       "      <th>2</th>\n",
       "      <th>3</th>\n",
       "      <th>4</th>\n",
       "      <th>5</th>\n",
       "      <th>6</th>\n",
       "      <th>7</th>\n",
       "      <th>8</th>\n",
       "      <th>9</th>\n",
       "      <th>...</th>\n",
       "      <th>247</th>\n",
       "      <th>248</th>\n",
       "      <th>249</th>\n",
       "      <th>250</th>\n",
       "      <th>251</th>\n",
       "      <th>252</th>\n",
       "      <th>253</th>\n",
       "      <th>254</th>\n",
       "      <th>255</th>\n",
       "      <th>256</th>\n",
       "    </tr>\n",
       "  </thead>\n",
       "  <tbody>\n",
       "    <tr>\n",
       "      <th>0</th>\n",
       "      <td>Kuntal-01234567891011121314</td>\n",
       "      <td>-1.647343</td>\n",
       "      <td>-1.956522</td>\n",
       "      <td>-1.562802</td>\n",
       "      <td>-1.115942</td>\n",
       "      <td>-1.084541</td>\n",
       "      <td>-1.118357</td>\n",
       "      <td>-0.971014</td>\n",
       "      <td>127.000000</td>\n",
       "      <td>-0.979311</td>\n",
       "      <td>...</td>\n",
       "      <td>-0.974107</td>\n",
       "      <td>0.135282</td>\n",
       "      <td>0.075168</td>\n",
       "      <td>-0.164765</td>\n",
       "      <td>-0.284128</td>\n",
       "      <td>0.114503</td>\n",
       "      <td>-0.953859</td>\n",
       "      <td>-2.047356</td>\n",
       "      <td>0.502973</td>\n",
       "      <td>0</td>\n",
       "    </tr>\n",
       "    <tr>\n",
       "      <th>1</th>\n",
       "      <td>Kuntal-123456789101112131415</td>\n",
       "      <td>-2.745819</td>\n",
       "      <td>-3.035117</td>\n",
       "      <td>-3.526756</td>\n",
       "      <td>-1.448161</td>\n",
       "      <td>-1.683946</td>\n",
       "      <td>-0.836120</td>\n",
       "      <td>-0.968227</td>\n",
       "      <td>-32.822742</td>\n",
       "      <td>-0.980840</td>\n",
       "      <td>...</td>\n",
       "      <td>-0.968620</td>\n",
       "      <td>0.148120</td>\n",
       "      <td>0.071493</td>\n",
       "      <td>-0.186080</td>\n",
       "      <td>-0.311107</td>\n",
       "      <td>0.090873</td>\n",
       "      <td>-0.946353</td>\n",
       "      <td>-0.615007</td>\n",
       "      <td>-0.347080</td>\n",
       "      <td>0</td>\n",
       "    </tr>\n",
       "    <tr>\n",
       "      <th>2</th>\n",
       "      <td>Kuntal-2345678910111213141516</td>\n",
       "      <td>-1.618333</td>\n",
       "      <td>-1.761667</td>\n",
       "      <td>-1.893333</td>\n",
       "      <td>-1.003333</td>\n",
       "      <td>-0.115000</td>\n",
       "      <td>-0.823333</td>\n",
       "      <td>-0.950000</td>\n",
       "      <td>-122.951667</td>\n",
       "      <td>-0.979620</td>\n",
       "      <td>...</td>\n",
       "      <td>-0.969767</td>\n",
       "      <td>0.141327</td>\n",
       "      <td>0.077840</td>\n",
       "      <td>-0.182693</td>\n",
       "      <td>-0.297033</td>\n",
       "      <td>0.109987</td>\n",
       "      <td>-0.948740</td>\n",
       "      <td>-1.412507</td>\n",
       "      <td>-0.042927</td>\n",
       "      <td>0</td>\n",
       "    </tr>\n",
       "    <tr>\n",
       "      <th>3</th>\n",
       "      <td>Kuntal-34567891011121314151617</td>\n",
       "      <td>-2.436242</td>\n",
       "      <td>-2.174497</td>\n",
       "      <td>-2.374161</td>\n",
       "      <td>-0.748322</td>\n",
       "      <td>-0.817114</td>\n",
       "      <td>-0.701342</td>\n",
       "      <td>-0.877517</td>\n",
       "      <td>-127.332215</td>\n",
       "      <td>-0.976527</td>\n",
       "      <td>...</td>\n",
       "      <td>-0.969813</td>\n",
       "      <td>0.135200</td>\n",
       "      <td>0.079667</td>\n",
       "      <td>-0.186593</td>\n",
       "      <td>-0.286800</td>\n",
       "      <td>0.115673</td>\n",
       "      <td>-0.951233</td>\n",
       "      <td>-1.129173</td>\n",
       "      <td>-1.361653</td>\n",
       "      <td>0</td>\n",
       "    </tr>\n",
       "    <tr>\n",
       "      <th>4</th>\n",
       "      <td>Kuntal-456789101112131415161718</td>\n",
       "      <td>-1.081940</td>\n",
       "      <td>-1.645485</td>\n",
       "      <td>-1.613712</td>\n",
       "      <td>-0.735786</td>\n",
       "      <td>-0.476589</td>\n",
       "      <td>-0.551839</td>\n",
       "      <td>-0.946488</td>\n",
       "      <td>-1.994983</td>\n",
       "      <td>-0.971327</td>\n",
       "      <td>...</td>\n",
       "      <td>-0.965221</td>\n",
       "      <td>0.144201</td>\n",
       "      <td>0.077866</td>\n",
       "      <td>-0.203309</td>\n",
       "      <td>-0.306201</td>\n",
       "      <td>0.102866</td>\n",
       "      <td>-0.947826</td>\n",
       "      <td>-1.374168</td>\n",
       "      <td>0.086832</td>\n",
       "      <td>0</td>\n",
       "    </tr>\n",
       "  </tbody>\n",
       "</table>\n",
       "<p>5 rows × 257 columns</p>\n",
       "</div>"
      ],
      "text/plain": [
       "                               0         1         2         3         4    \\\n",
       "0      Kuntal-01234567891011121314 -1.647343 -1.956522 -1.562802 -1.115942   \n",
       "1     Kuntal-123456789101112131415 -2.745819 -3.035117 -3.526756 -1.448161   \n",
       "2    Kuntal-2345678910111213141516 -1.618333 -1.761667 -1.893333 -1.003333   \n",
       "3   Kuntal-34567891011121314151617 -2.436242 -2.174497 -2.374161 -0.748322   \n",
       "4  Kuntal-456789101112131415161718 -1.081940 -1.645485 -1.613712 -0.735786   \n",
       "\n",
       "        5         6         7           8         9   ...        247  \\\n",
       "0 -1.084541 -1.118357 -0.971014  127.000000 -0.979311 ...  -0.974107   \n",
       "1 -1.683946 -0.836120 -0.968227  -32.822742 -0.980840 ...  -0.968620   \n",
       "2 -0.115000 -0.823333 -0.950000 -122.951667 -0.979620 ...  -0.969767   \n",
       "3 -0.817114 -0.701342 -0.877517 -127.332215 -0.976527 ...  -0.969813   \n",
       "4 -0.476589 -0.551839 -0.946488   -1.994983 -0.971327 ...  -0.965221   \n",
       "\n",
       "        248       249       250       251       252       253       254  \\\n",
       "0  0.135282  0.075168 -0.164765 -0.284128  0.114503 -0.953859 -2.047356   \n",
       "1  0.148120  0.071493 -0.186080 -0.311107  0.090873 -0.946353 -0.615007   \n",
       "2  0.141327  0.077840 -0.182693 -0.297033  0.109987 -0.948740 -1.412507   \n",
       "3  0.135200  0.079667 -0.186593 -0.286800  0.115673 -0.951233 -1.129173   \n",
       "4  0.144201  0.077866 -0.203309 -0.306201  0.102866 -0.947826 -1.374168   \n",
       "\n",
       "        255  256  \n",
       "0  0.502973    0  \n",
       "1 -0.347080    0  \n",
       "2 -0.042927    0  \n",
       "3 -1.361653    0  \n",
       "4  0.086832    0  \n",
       "\n",
       "[5 rows x 257 columns]"
      ]
     },
     "execution_count": 52,
     "metadata": {},
     "output_type": "execute_result"
    }
   ],
   "source": [
    "data.head()"
   ]
  },
  {
   "cell_type": "code",
   "execution_count": 6,
   "metadata": {},
   "outputs": [],
   "source": [
    "mins = data.min().values"
   ]
  },
  {
   "cell_type": "code",
   "execution_count": 7,
   "metadata": {},
   "outputs": [
    {
     "data": {
      "text/plain": [
       "(array([-128.0, -128.0, -128.0, -128.0, -128.0, -128.0, -128.0, -128.0,\n",
       "        -0.9962333333333336, -0.9980135135135147, -0.9990536912751669,\n",
       "        -0.9969848484848488, -1.0351006711409396, -1.0888399999999996,\n",
       "        -1.0576778523489938, -72.26845637583892, -92.37037333333332],\n",
       "       dtype=object),\n",
       " array([-128.0, -128.0, -128.0, -128.0, -128.0, -128.0, -128.0,\n",
       "        -0.9962333333333336, -0.9980135135135147, -0.9990536912751669,\n",
       "        -0.9969848484848488, -1.0351006711409396, -1.0888399999999996,\n",
       "        -1.0576778523489938, -72.26845637583892, -92.37037333333332,\n",
       "        -128.0], dtype=object),\n",
       " array([-128.0, -128.0, -128.0, -128.0, -128.0, -128.0,\n",
       "        -0.9962333333333336, -0.9980135135135147, -0.9990536912751669,\n",
       "        -0.9969848484848488, -1.0351006711409396, -1.0888399999999996,\n",
       "        -1.0576778523489938, -72.26845637583892, -92.37037333333332,\n",
       "        -128.0, -128.0], dtype=object))"
      ]
     },
     "execution_count": 7,
     "metadata": {},
     "output_type": "execute_result"
    }
   ],
   "source": [
    "mins[1:18],mins[19:36],mins[37:54]"
   ]
  },
  {
   "cell_type": "code",
   "execution_count": 8,
   "metadata": {},
   "outputs": [
    {
     "data": {
      "text/plain": [
       "(array([127.0, 104.23745819397993, 127.0, 77.01520270270271, 127.0, 127.0,\n",
       "        127.0, 127.0, 0.9982600000000004, 0.994000000000004,\n",
       "        0.9937066666666676, 0.9988333333333312, 1.0430067567567571, 1.107,\n",
       "        1.0143154362416105, 75.6648523489933, 80.64663999999998],\n",
       "       dtype=object),\n",
       " array([104.23745819397993, 127.0, 77.01520270270271, 127.0, 127.0, 127.0,\n",
       "        127.0, 0.9982600000000004, 0.994000000000004, 0.9937066666666676,\n",
       "        0.9988333333333312, 1.0430067567567571, 1.107, 1.0143154362416105,\n",
       "        75.6648523489933, 80.64663999999998, 127.0], dtype=object),\n",
       " array([127.0, 77.01520270270271, 127.0, 127.0, 127.0, 127.0,\n",
       "        0.9982600000000004, 0.994000000000004, 0.9937066666666676,\n",
       "        0.9988333333333312, 1.0430067567567571, 1.107, 1.0143154362416105,\n",
       "        75.6648523489933, 80.64663999999998, 127.0, 104.23745819397993],\n",
       "       dtype=object))"
      ]
     },
     "execution_count": 8,
     "metadata": {},
     "output_type": "execute_result"
    }
   ],
   "source": [
    "maxs = data.max().values\n",
    "maxs[1:18],maxs[19:36],maxs[37:54]"
   ]
  },
  {
   "cell_type": "code",
   "execution_count": 9,
   "metadata": {},
   "outputs": [
    {
     "name": "stdout",
     "output_type": "stream",
     "text": [
      "256 1\n",
      "256 0\n"
     ]
    }
   ],
   "source": [
    "for index,mx in enumerate(maxs):\n",
    "    if mx == 1:\n",
    "        print(index,mx)\n",
    "for index,mx in enumerate(mins):\n",
    "    if mx == 0:\n",
    "        print(index,mx)"
   ]
  },
  {
   "cell_type": "code",
   "execution_count": 235,
   "metadata": {},
   "outputs": [
    {
     "data": {
      "text/html": [
       "<div>\n",
       "<style scoped>\n",
       "    .dataframe tbody tr th:only-of-type {\n",
       "        vertical-align: middle;\n",
       "    }\n",
       "\n",
       "    .dataframe tbody tr th {\n",
       "        vertical-align: top;\n",
       "    }\n",
       "\n",
       "    .dataframe thead th {\n",
       "        text-align: right;\n",
       "    }\n",
       "</style>\n",
       "<table border=\"1\" class=\"dataframe\">\n",
       "  <thead>\n",
       "    <tr style=\"text-align: right;\">\n",
       "      <th></th>\n",
       "      <th>1</th>\n",
       "      <th>2</th>\n",
       "      <th>3</th>\n",
       "      <th>4</th>\n",
       "      <th>5</th>\n",
       "      <th>6</th>\n",
       "      <th>7</th>\n",
       "      <th>8</th>\n",
       "      <th>9</th>\n",
       "      <th>10</th>\n",
       "      <th>...</th>\n",
       "      <th>82</th>\n",
       "      <th>83</th>\n",
       "      <th>84</th>\n",
       "      <th>85</th>\n",
       "      <th>86</th>\n",
       "      <th>87</th>\n",
       "      <th>88</th>\n",
       "      <th>89</th>\n",
       "      <th>90</th>\n",
       "      <th>91</th>\n",
       "    </tr>\n",
       "  </thead>\n",
       "  <tbody>\n",
       "    <tr>\n",
       "      <th>count</th>\n",
       "      <td>77650.000000</td>\n",
       "      <td>77650.000000</td>\n",
       "      <td>77650.000000</td>\n",
       "      <td>77650.000000</td>\n",
       "      <td>77650.000000</td>\n",
       "      <td>77650.000000</td>\n",
       "      <td>77650.000000</td>\n",
       "      <td>77650.000000</td>\n",
       "      <td>77650.000000</td>\n",
       "      <td>77650.000000</td>\n",
       "      <td>...</td>\n",
       "      <td>77650.000000</td>\n",
       "      <td>77650.000000</td>\n",
       "      <td>77650.000000</td>\n",
       "      <td>77650.000000</td>\n",
       "      <td>77650.000000</td>\n",
       "      <td>77650.000000</td>\n",
       "      <td>77650.000000</td>\n",
       "      <td>77650.000000</td>\n",
       "      <td>77650.000000</td>\n",
       "      <td>77650.000000</td>\n",
       "    </tr>\n",
       "    <tr>\n",
       "      <th>mean</th>\n",
       "      <td>-0.777542</td>\n",
       "      <td>-0.873216</td>\n",
       "      <td>-0.876900</td>\n",
       "      <td>-1.009017</td>\n",
       "      <td>-1.036962</td>\n",
       "      <td>-1.163109</td>\n",
       "      <td>-0.914304</td>\n",
       "      <td>2.347298</td>\n",
       "      <td>0.009292</td>\n",
       "      <td>0.003833</td>\n",
       "      <td>...</td>\n",
       "      <td>0.003866</td>\n",
       "      <td>0.021108</td>\n",
       "      <td>0.017718</td>\n",
       "      <td>0.073233</td>\n",
       "      <td>-0.008151</td>\n",
       "      <td>-0.560661</td>\n",
       "      <td>-1.873787</td>\n",
       "      <td>-0.344746</td>\n",
       "      <td>-0.080733</td>\n",
       "      <td>0.040966</td>\n",
       "    </tr>\n",
       "    <tr>\n",
       "      <th>std</th>\n",
       "      <td>3.776072</td>\n",
       "      <td>2.452859</td>\n",
       "      <td>3.590234</td>\n",
       "      <td>2.560399</td>\n",
       "      <td>3.588994</td>\n",
       "      <td>3.651082</td>\n",
       "      <td>3.554321</td>\n",
       "      <td>18.512123</td>\n",
       "      <td>0.616889</td>\n",
       "      <td>0.310598</td>\n",
       "      <td>...</td>\n",
       "      <td>0.310630</td>\n",
       "      <td>0.343409</td>\n",
       "      <td>0.623886</td>\n",
       "      <td>0.454968</td>\n",
       "      <td>0.464927</td>\n",
       "      <td>0.505882</td>\n",
       "      <td>6.837621</td>\n",
       "      <td>6.617708</td>\n",
       "      <td>7.175411</td>\n",
       "      <td>0.198212</td>\n",
       "    </tr>\n",
       "    <tr>\n",
       "      <th>min</th>\n",
       "      <td>-128.000000</td>\n",
       "      <td>-128.000000</td>\n",
       "      <td>-128.000000</td>\n",
       "      <td>-128.000000</td>\n",
       "      <td>-128.000000</td>\n",
       "      <td>-128.000000</td>\n",
       "      <td>-128.000000</td>\n",
       "      <td>-128.000000</td>\n",
       "      <td>-0.996233</td>\n",
       "      <td>-0.998014</td>\n",
       "      <td>...</td>\n",
       "      <td>-0.998014</td>\n",
       "      <td>-0.999054</td>\n",
       "      <td>-0.996985</td>\n",
       "      <td>-1.035101</td>\n",
       "      <td>-1.088840</td>\n",
       "      <td>-1.057678</td>\n",
       "      <td>-72.268456</td>\n",
       "      <td>-92.370373</td>\n",
       "      <td>-87.275460</td>\n",
       "      <td>0.000000</td>\n",
       "    </tr>\n",
       "    <tr>\n",
       "      <th>25%</th>\n",
       "      <td>-1.164979</td>\n",
       "      <td>-1.209030</td>\n",
       "      <td>-1.332776</td>\n",
       "      <td>-1.179306</td>\n",
       "      <td>-1.294314</td>\n",
       "      <td>-1.272727</td>\n",
       "      <td>-1.205686</td>\n",
       "      <td>-1.111667</td>\n",
       "      <td>-0.578690</td>\n",
       "      <td>-0.192070</td>\n",
       "      <td>...</td>\n",
       "      <td>-0.192062</td>\n",
       "      <td>-0.184836</td>\n",
       "      <td>-0.556320</td>\n",
       "      <td>-0.254463</td>\n",
       "      <td>-0.306719</td>\n",
       "      <td>-0.917796</td>\n",
       "      <td>-3.082077</td>\n",
       "      <td>-0.974547</td>\n",
       "      <td>-0.493183</td>\n",
       "      <td>0.000000</td>\n",
       "    </tr>\n",
       "    <tr>\n",
       "      <th>50%</th>\n",
       "      <td>-0.956081</td>\n",
       "      <td>-0.979730</td>\n",
       "      <td>-1.031879</td>\n",
       "      <td>-0.972973</td>\n",
       "      <td>-1.058528</td>\n",
       "      <td>-1.010161</td>\n",
       "      <td>-0.995172</td>\n",
       "      <td>-0.595318</td>\n",
       "      <td>0.012393</td>\n",
       "      <td>0.009341</td>\n",
       "      <td>...</td>\n",
       "      <td>0.009358</td>\n",
       "      <td>0.030054</td>\n",
       "      <td>0.007658</td>\n",
       "      <td>0.088150</td>\n",
       "      <td>0.011134</td>\n",
       "      <td>-0.772983</td>\n",
       "      <td>-1.447107</td>\n",
       "      <td>-0.250872</td>\n",
       "      <td>0.179977</td>\n",
       "      <td>0.000000</td>\n",
       "    </tr>\n",
       "    <tr>\n",
       "      <th>75%</th>\n",
       "      <td>-0.695652</td>\n",
       "      <td>-0.777592</td>\n",
       "      <td>-0.744147</td>\n",
       "      <td>-0.739796</td>\n",
       "      <td>-0.801695</td>\n",
       "      <td>-0.711864</td>\n",
       "      <td>-0.747492</td>\n",
       "      <td>2.680602</td>\n",
       "      <td>0.585452</td>\n",
       "      <td>0.173000</td>\n",
       "      <td>...</td>\n",
       "      <td>0.173034</td>\n",
       "      <td>0.220161</td>\n",
       "      <td>0.619970</td>\n",
       "      <td>0.405717</td>\n",
       "      <td>0.286311</td>\n",
       "      <td>-0.363781</td>\n",
       "      <td>-1.071767</td>\n",
       "      <td>0.253300</td>\n",
       "      <td>0.570412</td>\n",
       "      <td>0.000000</td>\n",
       "    </tr>\n",
       "    <tr>\n",
       "      <th>max</th>\n",
       "      <td>127.000000</td>\n",
       "      <td>104.237458</td>\n",
       "      <td>127.000000</td>\n",
       "      <td>77.015203</td>\n",
       "      <td>127.000000</td>\n",
       "      <td>127.000000</td>\n",
       "      <td>127.000000</td>\n",
       "      <td>127.000000</td>\n",
       "      <td>0.998260</td>\n",
       "      <td>0.994000</td>\n",
       "      <td>...</td>\n",
       "      <td>0.994000</td>\n",
       "      <td>0.993707</td>\n",
       "      <td>0.998833</td>\n",
       "      <td>1.043007</td>\n",
       "      <td>1.107000</td>\n",
       "      <td>1.014315</td>\n",
       "      <td>75.664852</td>\n",
       "      <td>80.646640</td>\n",
       "      <td>77.100000</td>\n",
       "      <td>1.000000</td>\n",
       "    </tr>\n",
       "  </tbody>\n",
       "</table>\n",
       "<p>8 rows × 91 columns</p>\n",
       "</div>"
      ],
      "text/plain": [
       "                 1             2             3             4             5   \\\n",
       "count  77650.000000  77650.000000  77650.000000  77650.000000  77650.000000   \n",
       "mean      -0.777542     -0.873216     -0.876900     -1.009017     -1.036962   \n",
       "std        3.776072      2.452859      3.590234      2.560399      3.588994   \n",
       "min     -128.000000   -128.000000   -128.000000   -128.000000   -128.000000   \n",
       "25%       -1.164979     -1.209030     -1.332776     -1.179306     -1.294314   \n",
       "50%       -0.956081     -0.979730     -1.031879     -0.972973     -1.058528   \n",
       "75%       -0.695652     -0.777592     -0.744147     -0.739796     -0.801695   \n",
       "max      127.000000    104.237458    127.000000     77.015203    127.000000   \n",
       "\n",
       "                 6             7             8             9             10  \\\n",
       "count  77650.000000  77650.000000  77650.000000  77650.000000  77650.000000   \n",
       "mean      -1.163109     -0.914304      2.347298      0.009292      0.003833   \n",
       "std        3.651082      3.554321     18.512123      0.616889      0.310598   \n",
       "min     -128.000000   -128.000000   -128.000000     -0.996233     -0.998014   \n",
       "25%       -1.272727     -1.205686     -1.111667     -0.578690     -0.192070   \n",
       "50%       -1.010161     -0.995172     -0.595318      0.012393      0.009341   \n",
       "75%       -0.711864     -0.747492      2.680602      0.585452      0.173000   \n",
       "max      127.000000    127.000000    127.000000      0.998260      0.994000   \n",
       "\n",
       "           ...                 82            83            84            85  \\\n",
       "count      ...       77650.000000  77650.000000  77650.000000  77650.000000   \n",
       "mean       ...           0.003866      0.021108      0.017718      0.073233   \n",
       "std        ...           0.310630      0.343409      0.623886      0.454968   \n",
       "min        ...          -0.998014     -0.999054     -0.996985     -1.035101   \n",
       "25%        ...          -0.192062     -0.184836     -0.556320     -0.254463   \n",
       "50%        ...           0.009358      0.030054      0.007658      0.088150   \n",
       "75%        ...           0.173034      0.220161      0.619970      0.405717   \n",
       "max        ...           0.994000      0.993707      0.998833      1.043007   \n",
       "\n",
       "                 86            87            88            89            90  \\\n",
       "count  77650.000000  77650.000000  77650.000000  77650.000000  77650.000000   \n",
       "mean      -0.008151     -0.560661     -1.873787     -0.344746     -0.080733   \n",
       "std        0.464927      0.505882      6.837621      6.617708      7.175411   \n",
       "min       -1.088840     -1.057678    -72.268456    -92.370373    -87.275460   \n",
       "25%       -0.306719     -0.917796     -3.082077     -0.974547     -0.493183   \n",
       "50%        0.011134     -0.772983     -1.447107     -0.250872      0.179977   \n",
       "75%        0.286311     -0.363781     -1.071767      0.253300      0.570412   \n",
       "max        1.107000      1.014315     75.664852     80.646640     77.100000   \n",
       "\n",
       "                 91  \n",
       "count  77650.000000  \n",
       "mean       0.040966  \n",
       "std        0.198212  \n",
       "min        0.000000  \n",
       "25%        0.000000  \n",
       "50%        0.000000  \n",
       "75%        0.000000  \n",
       "max        1.000000  \n",
       "\n",
       "[8 rows x 91 columns]"
      ]
     },
     "execution_count": 235,
     "metadata": {},
     "output_type": "execute_result"
    }
   ],
   "source": [
    "data.describe()"
   ]
  },
  {
   "cell_type": "code",
   "execution_count": 56,
   "metadata": {},
   "outputs": [],
   "source": [
    "noneatData = data[data[data.columns[256]]==0]"
   ]
  },
  {
   "cell_type": "code",
   "execution_count": 57,
   "metadata": {},
   "outputs": [],
   "source": [
    "eatData = data[data[data.columns[256]]==1]"
   ]
  },
  {
   "cell_type": "code",
   "execution_count": 58,
   "metadata": {},
   "outputs": [
    {
     "name": "stdout",
     "output_type": "stream",
     "text": [
      "(74429, 257) (3181, 257)\n"
     ]
    }
   ],
   "source": [
    "print(noneatData.shape,eatData.shape)"
   ]
  },
  {
   "cell_type": "code",
   "execution_count": 59,
   "metadata": {},
   "outputs": [],
   "source": [
    "noneatData = noneatData.sample(n=3181)"
   ]
  },
  {
   "cell_type": "code",
   "execution_count": 60,
   "metadata": {},
   "outputs": [
    {
     "name": "stdout",
     "output_type": "stream",
     "text": [
      "(3181, 257) (3181, 257)\n"
     ]
    }
   ],
   "source": [
    "print(noneatData.shape,eatData.shape)"
   ]
  },
  {
   "cell_type": "markdown",
   "metadata": {},
   "source": [
    "### Data Vectorization"
   ]
  },
  {
   "cell_type": "code",
   "execution_count": 61,
   "metadata": {},
   "outputs": [],
   "source": [
    "data = pd.concat([noneatData,eatData])"
   ]
  },
  {
   "cell_type": "code",
   "execution_count": 62,
   "metadata": {},
   "outputs": [],
   "source": [
    "X_data = np.array(data[data.columns[1:256]].values.tolist())\n",
    "X_unbalancedData = np.array(unbalancedData[unbalancedData.columns[1:256]].values.tolist())"
   ]
  },
  {
   "cell_type": "code",
   "execution_count": 63,
   "metadata": {},
   "outputs": [
    {
     "data": {
      "text/plain": [
       "(255,)"
      ]
     },
     "execution_count": 63,
     "metadata": {},
     "output_type": "execute_result"
    }
   ],
   "source": [
    "#data[data.columns[134]].head()\n",
    "X_data[0].shape"
   ]
  },
  {
   "cell_type": "code",
   "execution_count": 64,
   "metadata": {},
   "outputs": [
    {
     "name": "stdout",
     "output_type": "stream",
     "text": [
      "(6362, 255) (77610, 255)\n"
     ]
    }
   ],
   "source": [
    "print (X_data.shape,X_unbalancedData.shape)"
   ]
  },
  {
   "cell_type": "code",
   "execution_count": 65,
   "metadata": {},
   "outputs": [],
   "source": [
    "Y_data = np.array(data[data.columns[256]].values.tolist())\n",
    "Y_unbalancedData = np.array(unbalancedData[unbalancedData.columns[256]].values.tolist())"
   ]
  },
  {
   "cell_type": "code",
   "execution_count": 29,
   "metadata": {},
   "outputs": [
    {
     "name": "stdout",
     "output_type": "stream",
     "text": [
      "(77610,) (77610,)\n"
     ]
    }
   ],
   "source": [
    "print(Y_data.shape,Y_unbalancedData.shape)"
   ]
  },
  {
   "cell_type": "markdown",
   "metadata": {},
   "source": [
    "### Feature Selection"
   ]
  },
  {
   "cell_type": "markdown",
   "metadata": {},
   "source": [
    "#### L1-based feature selection"
   ]
  },
  {
   "cell_type": "code",
   "execution_count": 258,
   "metadata": {},
   "outputs": [],
   "source": [
    "from sklearn.feature_selection import SelectFromModel\n",
    "from sklearn.svm import LinearSVC"
   ]
  },
  {
   "cell_type": "code",
   "execution_count": 53,
   "metadata": {},
   "outputs": [],
   "source": [
    "# lsvc = LinearSVC(C=0.01, penalty=\"l1\", dual=False).fit(X_data, Y_data)\n",
    "# model = SelectFromModel(lsvc, prefit=True)\n",
    "# X_new = model.transform(X_data)\n",
    "# X_new.shape"
   ]
  },
  {
   "cell_type": "markdown",
   "metadata": {},
   "source": [
    "#### Tree-based feature selection (Works very good)"
   ]
  },
  {
   "cell_type": "code",
   "execution_count": 54,
   "metadata": {},
   "outputs": [],
   "source": [
    "# from sklearn.ensemble import ExtraTreesClassifier\n",
    "# from sklearn.feature_selection import SelectFromModel\n",
    "\n",
    "# clfTree = ExtraTreesClassifier(n_estimators=50)\n",
    "# clfTree = clfTree.fit(X_data, Y_data)\n",
    "# print (clfTree.feature_importances_)  \n",
    "\n",
    "# model = SelectFromModel(clfTree, prefit=True)\n",
    "# X_new = model.transform(X_data)\n",
    "# print (X_new.shape)"
   ]
  },
  {
   "cell_type": "code",
   "execution_count": 55,
   "metadata": {},
   "outputs": [],
   "source": [
    "# X_unbalanced_new = model.transform(X_unbalancedData)\n",
    "# print(X_unbalanced_new.shape)"
   ]
  },
  {
   "cell_type": "code",
   "execution_count": null,
   "metadata": {},
   "outputs": [],
   "source": []
  },
  {
   "cell_type": "markdown",
   "metadata": {},
   "source": [
    "### Classification"
   ]
  },
  {
   "cell_type": "code",
   "execution_count": 23,
   "metadata": {},
   "outputs": [],
   "source": [
    "from xgboost import XGBClassifier"
   ]
  },
  {
   "cell_type": "code",
   "execution_count": 24,
   "metadata": {},
   "outputs": [],
   "source": [
    "clf = XGBClassifier(n_jobs=-1,verbosity=2)"
   ]
  },
  {
   "cell_type": "code",
   "execution_count": 69,
   "metadata": {},
   "outputs": [],
   "source": [
    "X_new = X_data\n",
    "\n",
    "from sklearn.model_selection import train_test_split\n",
    "X_train, X_test, y_train, y_test = train_test_split(X_new, Y_data, test_size=0.30, random_state=42, shuffle =True)"
   ]
  },
  {
   "cell_type": "code",
   "execution_count": 31,
   "metadata": {},
   "outputs": [
    {
     "name": "stdout",
     "output_type": "stream",
     "text": [
      "[0 1 0 ... 0 0 0]\n"
     ]
    }
   ],
   "source": [
    "print (y_train)"
   ]
  },
  {
   "cell_type": "code",
   "execution_count": 32,
   "metadata": {},
   "outputs": [
    {
     "data": {
      "text/plain": [
       "(array([-1.0016835 , -1.38552189, -1.01683502, -1.01178451, -1.08922559,\n",
       "        -1.03872054, -1.1026936 , -1.08585859, -0.66132215, -0.25524161,\n",
       "        -0.12991275,  0.69322148,  0.1674698 , -0.53836913, -0.88621477,\n",
       "        -4.2545906 ,  0.22021477, -1.01013514, -0.99324324, -1.17060811,\n",
       "        -1.12331081, -0.94425676, -1.125     , -1.05743243, -1.12331081,\n",
       "        -0.67092667, -0.25321333, -0.12504   ,  0.68549333,  0.17864   ,\n",
       "        -0.52681333, -0.89018667, -1.30502   ,  0.23998667, -0.69333333,\n",
       "        -1.10833333, -1.07166667, -0.99      , -1.04666667, -0.88666667,\n",
       "        -1.12333333, -0.67666667, -0.68608   , -0.24159333, -0.12426667,\n",
       "         0.67395333,  0.17176667, -0.50783333, -0.90249333, -4.90913333,\n",
       "        -2.47416667, -1.00841751, -1.10774411, -1.10606061, -0.95117845,\n",
       "        -0.97306397, -1.09427609, -1.08754209, -1.62457912, -0.7135473 ,\n",
       "        -0.21438514, -0.12387162,  0.65546622,  0.15288514, -0.46958784,\n",
       "        -0.92816216, -3.15672973, -1.03293243, -1.00501672, -1.05852843,\n",
       "        -0.98996656, -0.89464883, -0.97826087, -0.96488294, -0.86287625,\n",
       "        -1.05518395, -0.66774667, -0.26058667, -0.13903333,  0.68164667,\n",
       "         0.1657    , -0.55363333, -0.87282667, -1.91377333,  0.63170667,\n",
       "        -0.96790541, -1.23310811, -1.28040541, -1.24831081, -1.22466216,\n",
       "        -0.82601351, -0.82094595, -1.11993243, -0.68045638, -0.23581208,\n",
       "        -0.1404698 ,  0.67928188,  0.13875839, -0.52262416, -0.90141611,\n",
       "        -2.98408054, -0.64093289, -0.93979933, -1.13043478, -1.15050167,\n",
       "        -1.00167224, -0.87458194, -1.09197324, -1.14882943, -0.75083612,\n",
       "        -0.68093333, -0.23342667, -0.13987333,  0.67989333,  0.13796667,\n",
       "        -0.51984667, -0.90307333, -2.9533    , -0.40868667, -1.02516779,\n",
       "        -1.12583893, -1.40604027, -1.01510067, -1.04362416, -1.13422819,\n",
       "        -1.17114094, -0.87080537, -0.68462416, -0.23021477, -0.14046309,\n",
       "         0.67728188,  0.13547651, -0.51749664, -0.90473826, -2.8955906 ,\n",
       "        -0.58767114, -0.94047619, -1.18027211, -1.06632653, -1.07993197,\n",
       "        -0.96768707, -1.1207483 , -1.26870748, -1.01190476, -0.685     ,\n",
       "        -0.22894631, -0.14      ,  0.677     ,  0.13520805, -0.51494631,\n",
       "        -0.90621477, -2.896     , -0.52140268, -0.94481605, -1.03344482,\n",
       "        -1.03344482, -1.01839465, -1.18896321, -1.08361204, -1.19063545,\n",
       "        -1.34615385, -0.68564   , -0.228     , -0.13948667,  0.677     ,\n",
       "         0.13537333, -0.51312   , -0.9074    , -2.89372   , -0.4692    ,\n",
       "        -1.12837838, -1.21621622, -1.09966216, -0.94425676, -1.05574324,\n",
       "        -1.11993243, -1.14695946, -0.93412162, -0.686     , -0.22785906,\n",
       "        -0.139     ,  0.677     ,  0.13534228, -0.51214765, -0.90807383,\n",
       "        -2.87624161, -0.53189933, -1.04180602, -1.08528428, -1.13377926,\n",
       "        -0.93478261, -1.04682274, -1.04180602, -0.97157191, -0.94314381,\n",
       "        -0.686     , -0.22687333, -0.13820667,  0.677     ,  0.13473333,\n",
       "        -0.50948667, -0.91017333, -2.93704667, -0.51706   , -1.06554622,\n",
       "        -1.15294118, -1.44369748, -1.00504202, -0.97142857, -1.0302521 ,\n",
       "        -0.98655462, -1.10420168, -0.68631757, -0.22534459, -0.138     ,\n",
       "         0.67761486,  0.13195946, -0.5060473 , -0.91219595, -2.89908784,\n",
       "        -0.50549324, -0.97306397, -1.13131313, -1.02356902, -1.01851852,\n",
       "        -1.07239057, -1.01010101, -1.13468013, -0.93771044, -0.68668456,\n",
       "        -0.22420134, -0.13689262,  0.67820134,  0.1322953 , -0.5048255 ,\n",
       "        -0.91289262, -2.73077181, -0.14096644, -0.73913043, -1.48996656,\n",
       "        -0.05685619, -0.72408027, -2.11705686, -1.24916388, -0.89297659,\n",
       "        -0.80434783, -0.67544667, -0.13634   , -0.18858   ,  0.68435333,\n",
       "        -0.07604   , -0.46810667, -0.91630667, -8.90090667, -9.68998667]),\n",
       " array([-1.45333333, -1.06      , -1.20333333, -1.43333333, -1.585     ,\n",
       "        -0.94166667, -1.03833333, -1.05333333, -0.716     ,  0.06904   ,\n",
       "         0.032     ,  0.694     , -0.04529333,  0.13022   , -1.0351    ,\n",
       "        -2.94564667, -0.48550667, -1.32885906, -0.8238255 , -1.19295302,\n",
       "        -0.90268456, -1.17114094, -1.        , -1.15771812, -1.27348993,\n",
       "        -0.716     ,  0.06991946,  0.03138926,  0.694     , -0.04579866,\n",
       "         0.13012752, -1.03502013, -2.94271812, -0.48789933, -0.98327759,\n",
       "        -0.97324415, -0.91638796, -0.91304348, -0.89966555, -1.11705686,\n",
       "        -1.07190635, -1.56521739, -0.716     ,  0.07      ,  0.031     ,\n",
       "         0.694     , -0.04578   ,  0.13006667, -1.03552   , -2.94561333,\n",
       "        -0.48674667, -0.93412162, -1.55574324, -1.09966216, -1.2652027 ,\n",
       "        -1.31925676, -0.95945946, -1.01689189, -0.97972973, -0.716     ,\n",
       "         0.07      ,  0.031     ,  0.694     , -0.04585906,  0.12975168,\n",
       "        -1.03524161, -2.94697315, -0.49248993, -1.08724832, -1.31040268,\n",
       "        -0.88926174, -1.07214765, -0.87248322, -1.17114094, -1.13087248,\n",
       "        -1.57718121, -0.716     ,  0.07      ,  0.031     ,  0.694     ,\n",
       "        -0.04595302,  0.13056376, -1.03543624, -2.94520805, -0.48121477,\n",
       "        -1.02173913, -1.02006689, -1.08695652, -0.98327759, -0.9264214 ,\n",
       "        -0.90802676, -1.57859532, -1.10869565, -0.716     ,  0.07      ,\n",
       "         0.031     ,  0.694     , -0.04648667,  0.13024   , -1.03525333,\n",
       "        -2.94938   , -0.48386667, -1.27195946, -0.97972973, -0.66722973,\n",
       "        -0.31081081, -0.51013514, -1.05236486, -0.75675676, -1.26689189,\n",
       "        -0.716     ,  0.07      ,  0.031     ,  0.694     , -0.04632886,\n",
       "         0.13036242, -1.03538255, -2.94942282, -0.47742282, -1.3812709 ,\n",
       "        -0.73913043, -0.92307692, -0.99832776, -0.78428094, -0.94314381,\n",
       "        -1.17892977, -1.39799331, -0.716     ,  0.07      ,  0.031     ,\n",
       "         0.694     , -0.04638   ,  0.13      , -1.03481333, -2.94146667,\n",
       "        -0.49004   , -0.62583893, -1.38255034, -0.90939597, -0.90100671,\n",
       "        -0.7114094 , -1.19630872, -0.86912752, -0.89597315, -0.716     ,\n",
       "         0.07      ,  0.031     ,  0.694     , -0.04669128,  0.13032886,\n",
       "        -1.03522819, -2.95071141, -0.48161074, -0.73310811, -1.57601351,\n",
       "        -0.94932432, -0.80405405, -0.89695946, -1.13175676, -0.9527027 ,\n",
       "        -1.02364865, -0.716     ,  0.07      ,  0.031     ,  0.694     ,\n",
       "        -0.04686577,  0.13027517, -1.03516107, -2.9452953 , -0.48001342,\n",
       "        -1.33110368, -1.32943144, -1.17391304, -0.64214047, -0.8361204 ,\n",
       "        -0.98829431, -1.01505017, -0.91304348, -0.716     ,  0.07      ,\n",
       "         0.031     ,  0.694     , -0.04735333,  0.13038   , -1.03509333,\n",
       "        -2.94566667, -0.48343333, -0.85084746, -1.05932203, -0.69830508,\n",
       "        -1.05762712, -1.31016949, -1.42033898, -1.34745763, -1.31355932,\n",
       "        -0.716     ,  0.07      ,  0.031     ,  0.694     , -0.04744966,\n",
       "         0.13041611, -1.03505369, -2.94194631, -0.48372483, -1.04013378,\n",
       "        -1.1187291 , -1.05685619, -1.16053512, -1.01672241, -0.96153846,\n",
       "        -1.04180602, -1.25752508, -0.716     ,  0.07      ,  0.031     ,\n",
       "         0.694     , -0.04727333,  0.13032667, -1.03485333, -2.9514    ,\n",
       "        -0.47555333, -1.29898649, -1.40878378, -1.16216216, -0.83614865,\n",
       "        -0.83783784, -1.07939189, -1.04222973, -1.25675676, -0.716     ,\n",
       "         0.07      ,  0.031     ,  0.694     , -0.04771141,  0.13006711,\n",
       "        -1.03509396, -2.94566443, -0.47912081, -1.06756757, -1.33445946,\n",
       "        -1.17736486, -1.06925676, -0.96790541, -0.91216216, -1.27702703,\n",
       "        -1.07432432, -0.716     ,  0.07      ,  0.031     ,  0.694     ,\n",
       "        -0.04787919,  0.13044966, -1.03467785, -2.93810738, -0.47616779]),\n",
       " 0,\n",
       " 0)"
      ]
     },
     "execution_count": 32,
     "metadata": {},
     "output_type": "execute_result"
    }
   ],
   "source": [
    "X_train[-1],X_train[-2],y_train[-1],y_train[-2]"
   ]
  },
  {
   "cell_type": "code",
   "execution_count": 33,
   "metadata": {},
   "outputs": [
    {
     "data": {
      "text/plain": [
       "XGBClassifier(base_score=0.5, booster='gbtree', colsample_bylevel=1,\n",
       "       colsample_bytree=1, gamma=0, learning_rate=0.1, max_delta_step=0,\n",
       "       max_depth=3, min_child_weight=1, missing=None, n_estimators=100,\n",
       "       n_jobs=-1, nthread=None, objective='binary:logistic',\n",
       "       random_state=0, reg_alpha=0, reg_lambda=1, scale_pos_weight=1,\n",
       "       seed=None, silent=True, subsample=1, verbosity=2)"
      ]
     },
     "execution_count": 33,
     "metadata": {},
     "output_type": "execute_result"
    }
   ],
   "source": [
    "clf.fit(X_train,y_train)"
   ]
  },
  {
   "cell_type": "code",
   "execution_count": 34,
   "metadata": {},
   "outputs": [
    {
     "name": "stdout",
     "output_type": "stream",
     "text": [
      "Accuracy: 96.42%\n"
     ]
    }
   ],
   "source": [
    "from sklearn.metrics import accuracy_score\n",
    "preds_val = clf.predict(X_test)\n",
    "accuracy = accuracy_score(y_test, preds_val)\n",
    "print(\"Accuracy: %.2f%%\" % (accuracy * 100.0))"
   ]
  },
  {
   "cell_type": "markdown",
   "metadata": {},
   "source": [
    "#### Parameter Search by GridSearch"
   ]
  },
  {
   "cell_type": "code",
   "execution_count": 35,
   "metadata": {},
   "outputs": [],
   "source": [
    "from sklearn.model_selection import GridSearchCV\n",
    "\n",
    "def xgboost_param_selection(XData, yData, nfolds):\n",
    "    param_grid = {'n_estimators':(100,100,1000), \n",
    "              'max_depth': range(1, 20, 5)}\n",
    "    grid_search = GridSearchCV(XGBClassifier(cache_size=2000), param_grid, cv=nfolds, n_jobs=-1, verbose=2)\n",
    "    grid_search.fit(XData, yData)\n",
    "    grid_search.best_params_\n",
    "    return grid_search.best_params_"
   ]
  },
  {
   "cell_type": "code",
   "execution_count": 36,
   "metadata": {},
   "outputs": [
    {
     "name": "stdout",
     "output_type": "stream",
     "text": [
      "Fitting 5 folds for each of 12 candidates, totalling 60 fits\n"
     ]
    },
    {
     "name": "stderr",
     "output_type": "stream",
     "text": [
      "[Parallel(n_jobs=-1)]: Using backend LokyBackend with 20 concurrent workers.\n",
      "[Parallel(n_jobs=-1)]: Done   1 tasks      | elapsed:   30.9s\n",
      "[Parallel(n_jobs=-1)]: Done  52 out of  60 | elapsed: 34.9min remaining:  5.4min\n",
      "[Parallel(n_jobs=-1)]: Done  60 out of  60 | elapsed: 49.3min finished\n"
     ]
    }
   ],
   "source": [
    "best_params = xgboost_param_selection(X_train,y_train,5)"
   ]
  },
  {
   "cell_type": "code",
   "execution_count": 37,
   "metadata": {},
   "outputs": [
    {
     "data": {
      "text/plain": [
       "{'max_depth': 6, 'n_estimators': 1000}"
      ]
     },
     "execution_count": 37,
     "metadata": {},
     "output_type": "execute_result"
    }
   ],
   "source": [
    "best_params"
   ]
  },
  {
   "cell_type": "code",
   "execution_count": 41,
   "metadata": {},
   "outputs": [],
   "source": [
    "clf = XGBClassifier(max_depth=6,n_estimators=1000,verbose=2)\n",
    "#clf = SVC(gamma=0.001, C=0.1, kernel = 'linear')"
   ]
  },
  {
   "cell_type": "code",
   "execution_count": 76,
   "metadata": {},
   "outputs": [
    {
     "data": {
      "text/plain": [
       "XGBClassifier(base_score=0.5, booster='gbtree', colsample_bylevel=1,\n",
       "       colsample_bytree=1, gamma=0, learning_rate=0.1, max_delta_step=0,\n",
       "       max_depth=6, min_child_weight=1, missing=None, n_estimators=1000,\n",
       "       n_jobs=1, nthread=None, objective='binary:logistic', random_state=0,\n",
       "       reg_alpha=0, reg_lambda=1, scale_pos_weight=1, seed=None,\n",
       "       silent=True, subsample=1, verbose=2)"
      ]
     },
     "execution_count": 76,
     "metadata": {},
     "output_type": "execute_result"
    }
   ],
   "source": [
    "clf.fit(X_train,y_train)"
   ]
  },
  {
   "cell_type": "markdown",
   "metadata": {},
   "source": [
    "#### Testing Accuracy"
   ]
  },
  {
   "cell_type": "code",
   "execution_count": 77,
   "metadata": {},
   "outputs": [
    {
     "name": "stdout",
     "output_type": "stream",
     "text": [
      "Accuracy: 93.19%\n"
     ]
    }
   ],
   "source": [
    "preds_val = clf.predict(X_test)\n",
    "accuracy = accuracy_score(y_test, preds_val)\n",
    "print(\"Accuracy: %.2f%%\" % (accuracy * 100.0))"
   ]
  },
  {
   "cell_type": "code",
   "execution_count": 78,
   "metadata": {},
   "outputs": [],
   "source": [
    "from sklearn.metrics import confusion_matrix"
   ]
  },
  {
   "cell_type": "code",
   "execution_count": 79,
   "metadata": {},
   "outputs": [
    {
     "data": {
      "text/plain": [
       "array([[898,  64],\n",
       "       [ 66, 881]])"
      ]
     },
     "execution_count": 79,
     "metadata": {},
     "output_type": "execute_result"
    }
   ],
   "source": [
    "confusion_matrix(y_test, preds_val)"
   ]
  },
  {
   "cell_type": "code",
   "execution_count": 80,
   "metadata": {},
   "outputs": [
    {
     "data": {
      "text/plain": [
       "(1909,)"
      ]
     },
     "execution_count": 80,
     "metadata": {},
     "output_type": "execute_result"
    }
   ],
   "source": [
    "preds_val.shape"
   ]
  },
  {
   "cell_type": "code",
   "execution_count": 81,
   "metadata": {},
   "outputs": [],
   "source": [
    "from sklearn.utils.multiclass import unique_labels\n",
    "import matplotlib.pyplot as plt\n",
    "def plot_confusion_matrix(y_true, y_pred, classes,\n",
    "                          normalize=False,\n",
    "                          title=None,\n",
    "                          cmap=plt.cm.Blues):\n",
    "    \"\"\"\n",
    "    This function prints and plots the confusion matrix.\n",
    "    Normalization can be applied by setting `normalize=True`.\n",
    "    \"\"\"\n",
    "    if not title:\n",
    "        if normalize:\n",
    "            title = 'Normalized confusion matrix'\n",
    "        else:\n",
    "            title = 'Confusion matrix, without normalization'\n",
    "\n",
    "    # Compute confusion matrix\n",
    "    cm = confusion_matrix(y_true, y_pred)\n",
    "    # Only use the labels that appear in the data\n",
    "    classes = classes[unique_labels(y_true, y_pred)]\n",
    "    if normalize:\n",
    "        cm = cm.astype('float') / cm.sum(axis=1)[:, np.newaxis]\n",
    "        print(\"Normalized confusion matrix\")\n",
    "    else:\n",
    "        print('Confusion matrix, without normalization')\n",
    "\n",
    "    print(cm)\n",
    "\n",
    "    fig, ax = plt.subplots()\n",
    "    im = ax.imshow(cm, interpolation='nearest', cmap=cmap)\n",
    "    ax.figure.colorbar(im, ax=ax)\n",
    "    # We want to show all ticks...\n",
    "    ax.set(xticks=np.arange(cm.shape[1]),\n",
    "           yticks=np.arange(cm.shape[0]),\n",
    "           # ... and label them with the respective list entries\n",
    "           xticklabels=classes, yticklabels=classes,\n",
    "           title=title,\n",
    "           ylabel='True label',\n",
    "           xlabel='Predicted label')\n",
    "\n",
    "    # Rotate the tick labels and set their alignment.\n",
    "    plt.setp(ax.get_xticklabels(), rotation=45, ha=\"right\",\n",
    "             rotation_mode=\"anchor\")\n",
    "\n",
    "    # Loop over data dimensions and create text annotations.\n",
    "    fmt = '.2f' if normalize else 'd'\n",
    "    thresh = cm.max() / 2.\n",
    "    for i in range(cm.shape[0]):\n",
    "        for j in range(cm.shape[1]):\n",
    "            ax.text(j, i, format(cm[i, j], fmt),\n",
    "                    ha=\"center\", va=\"center\",\n",
    "                    color=\"white\" if cm[i, j] > thresh else \"black\")\n",
    "    fig.tight_layout()\n",
    "    return ax"
   ]
  },
  {
   "cell_type": "code",
   "execution_count": 82,
   "metadata": {},
   "outputs": [
    {
     "name": "stdout",
     "output_type": "stream",
     "text": [
      "Confusion matrix, without normalization\n",
      "[[898  64]\n",
      " [ 66 881]]\n"
     ]
    },
    {
     "data": {
      "text/plain": [
       "<matplotlib.axes._subplots.AxesSubplot at 0x2b13ed655908>"
      ]
     },
     "execution_count": 82,
     "metadata": {},
     "output_type": "execute_result"
    },
    {
     "data": {
      "image/png": "[encoded data removed]",
      "text/plain": [
       "<Figure size 432x288 with 2 Axes>"
      ]
     },
     "metadata": {
      "needs_background": "light"
     },
     "output_type": "display_data"
    }
   ],
   "source": [
    "plot_confusion_matrix(y_test, preds_val,np.array(['Non-Eat','Eat']))"
   ]
  },
  {
   "cell_type": "markdown",
   "metadata": {},
   "source": [
    "#### Testing with Unbalanced data (77670 samples)"
   ]
  },
  {
   "cell_type": "code",
   "execution_count": 83,
   "metadata": {},
   "outputs": [
    {
     "name": "stdout",
     "output_type": "stream",
     "text": [
      "Accuracy: 93.17%\n"
     ]
    }
   ],
   "source": [
    "#print(X_unbalanced_new.shape)\n",
    "X_unbalanced_new = X_unbalancedData\n",
    "preds_val_unbalanced = clf.predict(X_unbalanced_new)\n",
    "accuracy = accuracy_score(Y_unbalancedData, preds_val_unbalanced)\n",
    "print(\"Accuracy: %.2f%%\" % (accuracy * 100.0))"
   ]
  },
  {
   "cell_type": "code",
   "execution_count": 84,
   "metadata": {},
   "outputs": [
    {
     "name": "stdout",
     "output_type": "stream",
     "text": [
      "Confusion matrix, without normalization\n",
      "[[69193  5236]\n",
      " [   68  3113]]\n"
     ]
    },
    {
     "data": {
      "text/plain": [
       "<matplotlib.axes._subplots.AxesSubplot at 0x2b1421031588>"
      ]
     },
     "execution_count": 84,
     "metadata": {},
     "output_type": "execute_result"
    },
    {
     "data": {
      "image/png": "[encoded data removed]",
      "text/plain": [
       "<Figure size 432x288 with 2 Axes>"
      ]
     },
     "metadata": {
      "needs_background": "light"
     },
     "output_type": "display_data"
    }
   ],
   "source": [
    "plot_confusion_matrix(Y_unbalancedData, preds_val_unbalanced,np.array(['Non-Eat','Eat']))"
   ]
  },
  {
   "cell_type": "markdown",
   "metadata": {},
   "source": [
    "### Training Accuracy"
   ]
  },
  {
   "cell_type": "code",
   "execution_count": 85,
   "metadata": {},
   "outputs": [
    {
     "name": "stdout",
     "output_type": "stream",
     "text": [
      "(4453, 255)\n",
      "Accuracy: 99.69%\n"
     ]
    }
   ],
   "source": [
    "print(X_train.shape)\n",
    "preds_val_train = clf.predict(X_train)\n",
    "accuracy = accuracy_score(y_train, preds_val_train)\n",
    "print(\"Accuracy: %.2f%%\" % (accuracy * 100.0))"
   ]
  },
  {
   "cell_type": "code",
   "execution_count": 86,
   "metadata": {},
   "outputs": [
    {
     "name": "stdout",
     "output_type": "stream",
     "text": [
      "Confusion matrix, without normalization\n",
      "[[2207   12]\n",
      " [   2 2232]]\n"
     ]
    },
    {
     "data": {
      "text/plain": [
       "<matplotlib.axes._subplots.AxesSubplot at 0x2b13ee6035f8>"
      ]
     },
     "execution_count": 86,
     "metadata": {},
     "output_type": "execute_result"
    },
    {
     "data": {
      "image/png": "[encoded data removed]",
      "text/plain": [
       "<Figure size 432x288 with 2 Axes>"
      ]
     },
     "metadata": {
      "needs_background": "light"
     },
     "output_type": "display_data"
    }
   ],
   "source": [
    "plot_confusion_matrix(y_train, preds_val_train,np.array(['Non-Eat','Eat']))"
   ]
  },
  {
   "cell_type": "markdown",
   "metadata": {},
   "source": [
    "## LightGBM"
   ]
  },
  {
   "cell_type": "code",
   "execution_count": 87,
   "metadata": {},
   "outputs": [],
   "source": [
    "from lightgbm import LGBMClassifier\n",
    "\n",
    "model1 = LGBMClassifier(boosting_type='gbdt', num_leaves=31, max_depth=-1, learning_rate=0.1, n_estimators=100, subsample_for_bin=200000, objective=None, class_weight=None, min_split_gain=0.0, min_child_weight=0.001, min_child_samples=20, subsample=1.0, subsample_freq=0, colsample_bytree=1.0, reg_alpha=0.0, reg_lambda=0.0, random_state=42, n_jobs=-1, silent=True, importance_type='split',)"
   ]
  },
  {
   "cell_type": "code",
   "execution_count": 88,
   "metadata": {},
   "outputs": [],
   "source": [
    "from sklearn.model_selection import GridSearchCV\n",
    "parameters = {'n_estimators':(100,100,1000), \n",
    "              'max_depth': range(1, 20, 5),\n",
    "             }\n",
    "    "
   ]
  },
  {
   "cell_type": "code",
   "execution_count": 89,
   "metadata": {},
   "outputs": [
    {
     "data": {
      "text/plain": [
       "dict_keys(['boosting_type', 'class_weight', 'colsample_bytree', 'importance_type', 'learning_rate', 'max_depth', 'min_child_samples', 'min_child_weight', 'min_split_gain', 'n_estimators', 'n_jobs', 'num_leaves', 'objective', 'random_state', 'reg_alpha', 'reg_lambda', 'silent', 'subsample', 'subsample_for_bin', 'subsample_freq'])"
      ]
     },
     "execution_count": 89,
     "metadata": {},
     "output_type": "execute_result"
    }
   ],
   "source": [
    "model1.get_params().keys()"
   ]
  },
  {
   "cell_type": "code",
   "execution_count": 90,
   "metadata": {},
   "outputs": [],
   "source": [
    "gs_clf = GridSearchCV(model1,parameters, cv=5, n_jobs=-1,verbose=2)"
   ]
  },
  {
   "cell_type": "code",
   "execution_count": 91,
   "metadata": {},
   "outputs": [
    {
     "name": "stdout",
     "output_type": "stream",
     "text": [
      "(4453, 255) (4453,)\n",
      "Fitting 5 folds for each of 12 candidates, totalling 60 fits\n"
     ]
    },
    {
     "name": "stderr",
     "output_type": "stream",
     "text": [
      "[Parallel(n_jobs=-1)]: Using backend LokyBackend with 20 concurrent workers.\n",
      "[Parallel(n_jobs=-1)]: Done   1 tasks      | elapsed:    3.7s\n",
      "[Parallel(n_jobs=-1)]: Done  52 out of  60 | elapsed:   48.5s remaining:    7.5s\n",
      "[Parallel(n_jobs=-1)]: Done  60 out of  60 | elapsed:  1.1min finished\n"
     ]
    }
   ],
   "source": [
    "print (X_train.shape, y_train.shape)\n",
    "model = gs_clf.fit(X_train, y_train)"
   ]
  },
  {
   "cell_type": "code",
   "execution_count": 92,
   "metadata": {},
   "outputs": [
    {
     "name": "stdout",
     "output_type": "stream",
     "text": [
      "{'max_depth': 16, 'n_estimators': 1000}\n",
      "max_depth: 16\n",
      "n_estimators: 1000\n"
     ]
    }
   ],
   "source": [
    "print(model.best_params_)\n",
    "for param_name in sorted(parameters.keys()):\n",
    "    print(\"%s: %r\" % (param_name, model.best_params_[param_name]))"
   ]
  },
  {
   "cell_type": "code",
   "execution_count": 93,
   "metadata": {},
   "outputs": [
    {
     "name": "stdout",
     "output_type": "stream",
     "text": [
      "Accuracy: 93.92%\n"
     ]
    }
   ],
   "source": [
    "from sklearn.metrics import accuracy_score\n",
    "preds_val = model.predict(X_test)\n",
    "accuracy = accuracy_score(y_test, preds_val)\n",
    "print(\"Accuracy: %.2f%%\" % (accuracy * 100.0))"
   ]
  },
  {
   "cell_type": "code",
   "execution_count": 94,
   "metadata": {},
   "outputs": [
    {
     "name": "stdout",
     "output_type": "stream",
     "text": [
      "Confusion matrix, without normalization\n",
      "[[903  59]\n",
      " [ 57 890]]\n"
     ]
    },
    {
     "data": {
      "text/plain": [
       "<matplotlib.axes._subplots.AxesSubplot at 0x2b13ee2c9748>"
      ]
     },
     "execution_count": 94,
     "metadata": {},
     "output_type": "execute_result"
    },
    {
     "data": {
      "image/png": "[encoded data removed]",
      "text/plain": [
       "<Figure size 432x288 with 2 Axes>"
      ]
     },
     "metadata": {
      "needs_background": "light"
     },
     "output_type": "display_data"
    }
   ],
   "source": [
    "plot_confusion_matrix(y_test, preds_val,np.array(['Non-Eat','Eat']))"
   ]
  },
  {
   "cell_type": "markdown",
   "metadata": {},
   "source": [
    "#### Training Accuracy"
   ]
  },
  {
   "cell_type": "code",
   "execution_count": 95,
   "metadata": {},
   "outputs": [
    {
     "name": "stdout",
     "output_type": "stream",
     "text": [
      "Accuracy: 99.69%\n"
     ]
    }
   ],
   "source": [
    "from sklearn.metrics import accuracy_score\n",
    "preds_val_train = model.predict(X_train)\n",
    "accuracy = accuracy_score(y_train, preds_val_train)\n",
    "print(\"Accuracy: %.2f%%\" % (accuracy * 100.0))"
   ]
  },
  {
   "cell_type": "code",
   "execution_count": 96,
   "metadata": {},
   "outputs": [
    {
     "name": "stdout",
     "output_type": "stream",
     "text": [
      "Confusion matrix, without normalization\n",
      "[[2207   12]\n",
      " [   2 2232]]\n"
     ]
    },
    {
     "data": {
      "text/plain": [
       "<matplotlib.axes._subplots.AxesSubplot at 0x2b13edc71978>"
      ]
     },
     "execution_count": 96,
     "metadata": {},
     "output_type": "execute_result"
    },
    {
     "data": {
      "image/png": "[encoded data removed]",
      "text/plain": [
       "<Figure size 432x288 with 2 Axes>"
      ]
     },
     "metadata": {
      "needs_background": "light"
     },
     "output_type": "display_data"
    }
   ],
   "source": [
    "plot_confusion_matrix(y_train, preds_val_train,np.array(['Non-Eat','Eat']))"
   ]
  },
  {
   "cell_type": "markdown",
   "metadata": {},
   "source": [
    "#### Test with unbalanced data"
   ]
  },
  {
   "cell_type": "code",
   "execution_count": 97,
   "metadata": {},
   "outputs": [
    {
     "name": "stdout",
     "output_type": "stream",
     "text": [
      "Accuracy: 93.68%\n"
     ]
    }
   ],
   "source": [
    "from sklearn.metrics import accuracy_score\n",
    "preds_val = model.predict(X_unbalanced_new)\n",
    "accuracy = accuracy_score(Y_unbalancedData, preds_val)\n",
    "print(\"Accuracy: %.2f%%\" % (accuracy * 100.0))"
   ]
  },
  {
   "cell_type": "code",
   "execution_count": 98,
   "metadata": {},
   "outputs": [
    {
     "name": "stdout",
     "output_type": "stream",
     "text": [
      "Confusion matrix, without normalization\n",
      "[[69580  4849]\n",
      " [   59  3122]]\n"
     ]
    },
    {
     "data": {
      "text/plain": [
       "<matplotlib.axes._subplots.AxesSubplot at 0x2b13ed829550>"
      ]
     },
     "execution_count": 98,
     "metadata": {},
     "output_type": "execute_result"
    },
    {
     "data": {
      "image/png": "[encoded data removed]",
      "text/plain": [
       "<Figure size 432x288 with 2 Axes>"
      ]
     },
     "metadata": {
      "needs_background": "light"
     },
     "output_type": "display_data"
    }
   ],
   "source": [
    "plot_confusion_matrix(Y_unbalancedData, preds_val,np.array(['Non-Eat','Eat']))"
   ]
  },
  {
   "cell_type": "code",
   "execution_count": null,
   "metadata": {},
   "outputs": [],
   "source": []
  },
  {
   "cell_type": "code",
   "execution_count": null,
   "metadata": {},
   "outputs": [],
   "source": []
  }
 ],
 "metadata": {
  "kernelspec": {
   "display_name": "Python 3",
   "language": "python",
   "name": "python3"
  },
  "language_info": {
   "codemirror_mode": {
    "name": "ipython",
    "version": 3
   },
   "file_extension": ".py",
   "mimetype": "text/x-python",
   "name": "python",
   "nbconvert_exporter": "python",
   "pygments_lexer": "ipython3",
   "version": "3.7.1"
  }
 },
 "nbformat": 4,
 "nbformat_minor": 2
}
