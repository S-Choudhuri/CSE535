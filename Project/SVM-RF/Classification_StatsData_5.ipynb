{
 "cells": [
  {
   "cell_type": "code",
   "execution_count": 1,
   "metadata": {},
   "outputs": [],
   "source": [
    "import numpy\n",
    "import os\n",
    "import json\n",
    "import csv\n",
    "import pandas as pd\n",
    "import numpy as np\n",
    "np.random.seed(42)"
   ]
  },
  {
   "cell_type": "code",
   "execution_count": 2,
   "metadata": {},
   "outputs": [],
   "source": [
    "path = \"/scratch/pbanerj6/MC/\""
   ]
  },
  {
   "cell_type": "code",
   "execution_count": 3,
   "metadata": {},
   "outputs": [],
   "source": [
    "file = \"55_output.csv\""
   ]
  },
  {
   "cell_type": "code",
   "execution_count": 4,
   "metadata": {},
   "outputs": [],
   "source": [
    "data = pd.read_csv(os.path.join(path,file),header=None)\n",
    "unbalancedData = pd.read_csv(os.path.join(path,file),header=None)"
   ]
  },
  {
   "cell_type": "code",
   "execution_count": 5,
   "metadata": {},
   "outputs": [
    {
     "data": {
      "text/html": [
       "<div>\n",
       "<style scoped>\n",
       "    .dataframe tbody tr th:only-of-type {\n",
       "        vertical-align: middle;\n",
       "    }\n",
       "\n",
       "    .dataframe tbody tr th {\n",
       "        vertical-align: top;\n",
       "    }\n",
       "\n",
       "    .dataframe thead th {\n",
       "        text-align: right;\n",
       "    }\n",
       "</style>\n",
       "<table border=\"1\" class=\"dataframe\">\n",
       "  <thead>\n",
       "    <tr style=\"text-align: right;\">\n",
       "      <th></th>\n",
       "      <th>0</th>\n",
       "      <th>1</th>\n",
       "      <th>2</th>\n",
       "      <th>3</th>\n",
       "      <th>4</th>\n",
       "      <th>5</th>\n",
       "      <th>6</th>\n",
       "      <th>7</th>\n",
       "      <th>8</th>\n",
       "      <th>9</th>\n",
       "      <th>...</th>\n",
       "      <th>77</th>\n",
       "      <th>78</th>\n",
       "      <th>79</th>\n",
       "      <th>80</th>\n",
       "      <th>81</th>\n",
       "      <th>82</th>\n",
       "      <th>83</th>\n",
       "      <th>84</th>\n",
       "      <th>85</th>\n",
       "      <th>86</th>\n",
       "    </tr>\n",
       "  </thead>\n",
       "  <tbody>\n",
       "    <tr>\n",
       "      <th>0</th>\n",
       "      <td>Kuntal-01234</td>\n",
       "      <td>-1.647343</td>\n",
       "      <td>-1.956522</td>\n",
       "      <td>-1.562802</td>\n",
       "      <td>-1.115942</td>\n",
       "      <td>-1.084541</td>\n",
       "      <td>-1.118357</td>\n",
       "      <td>-0.971014</td>\n",
       "      <td>127.000000</td>\n",
       "      <td>-0.979311</td>\n",
       "      <td>...</td>\n",
       "      <td>-0.971327</td>\n",
       "      <td>0.146213</td>\n",
       "      <td>0.073120</td>\n",
       "      <td>-0.172193</td>\n",
       "      <td>-0.307040</td>\n",
       "      <td>0.102567</td>\n",
       "      <td>-0.948207</td>\n",
       "      <td>-1.330800</td>\n",
       "      <td>0.302107</td>\n",
       "      <td>0</td>\n",
       "    </tr>\n",
       "    <tr>\n",
       "      <th>1</th>\n",
       "      <td>Kuntal-12345</td>\n",
       "      <td>-2.745819</td>\n",
       "      <td>-3.035117</td>\n",
       "      <td>-3.526756</td>\n",
       "      <td>-1.448161</td>\n",
       "      <td>-1.683946</td>\n",
       "      <td>-0.836120</td>\n",
       "      <td>-0.968227</td>\n",
       "      <td>-32.822742</td>\n",
       "      <td>-0.980840</td>\n",
       "      <td>...</td>\n",
       "      <td>-0.974362</td>\n",
       "      <td>0.132430</td>\n",
       "      <td>0.076034</td>\n",
       "      <td>-0.164846</td>\n",
       "      <td>-0.277960</td>\n",
       "      <td>0.115208</td>\n",
       "      <td>-0.953792</td>\n",
       "      <td>-1.297826</td>\n",
       "      <td>-0.154349</td>\n",
       "      <td>0</td>\n",
       "    </tr>\n",
       "    <tr>\n",
       "      <th>2</th>\n",
       "      <td>Kuntal-23456</td>\n",
       "      <td>-1.618333</td>\n",
       "      <td>-1.761667</td>\n",
       "      <td>-1.893333</td>\n",
       "      <td>-1.003333</td>\n",
       "      <td>-0.115000</td>\n",
       "      <td>-0.823333</td>\n",
       "      <td>-0.950000</td>\n",
       "      <td>-122.951667</td>\n",
       "      <td>-0.979620</td>\n",
       "      <td>...</td>\n",
       "      <td>-0.976280</td>\n",
       "      <td>0.129633</td>\n",
       "      <td>0.074873</td>\n",
       "      <td>-0.155993</td>\n",
       "      <td>-0.269873</td>\n",
       "      <td>0.115940</td>\n",
       "      <td>-0.955880</td>\n",
       "      <td>-1.230447</td>\n",
       "      <td>0.621247</td>\n",
       "      <td>0</td>\n",
       "    </tr>\n",
       "    <tr>\n",
       "      <th>3</th>\n",
       "      <td>Kuntal-34567</td>\n",
       "      <td>-2.436242</td>\n",
       "      <td>-2.174497</td>\n",
       "      <td>-2.374161</td>\n",
       "      <td>-0.748322</td>\n",
       "      <td>-0.817114</td>\n",
       "      <td>-0.701342</td>\n",
       "      <td>-0.877517</td>\n",
       "      <td>-127.332215</td>\n",
       "      <td>-0.976527</td>\n",
       "      <td>...</td>\n",
       "      <td>-0.976860</td>\n",
       "      <td>0.127360</td>\n",
       "      <td>0.074920</td>\n",
       "      <td>-0.154340</td>\n",
       "      <td>-0.264933</td>\n",
       "      <td>0.117693</td>\n",
       "      <td>-0.957560</td>\n",
       "      <td>-1.216660</td>\n",
       "      <td>-0.755020</td>\n",
       "      <td>0</td>\n",
       "    </tr>\n",
       "    <tr>\n",
       "      <th>4</th>\n",
       "      <td>Kuntal-45678</td>\n",
       "      <td>-1.081940</td>\n",
       "      <td>-1.645485</td>\n",
       "      <td>-1.613712</td>\n",
       "      <td>-0.735786</td>\n",
       "      <td>-0.476589</td>\n",
       "      <td>-0.551839</td>\n",
       "      <td>-0.946488</td>\n",
       "      <td>-1.994983</td>\n",
       "      <td>-0.971327</td>\n",
       "      <td>...</td>\n",
       "      <td>-0.977773</td>\n",
       "      <td>0.121793</td>\n",
       "      <td>0.076720</td>\n",
       "      <td>-0.152513</td>\n",
       "      <td>-0.254647</td>\n",
       "      <td>0.124420</td>\n",
       "      <td>-0.958300</td>\n",
       "      <td>-1.459600</td>\n",
       "      <td>0.174980</td>\n",
       "      <td>0</td>\n",
       "    </tr>\n",
       "  </tbody>\n",
       "</table>\n",
       "<p>5 rows × 87 columns</p>\n",
       "</div>"
      ],
      "text/plain": [
       "             0         1         2         3         4         5         6   \\\n",
       "0  Kuntal-01234 -1.647343 -1.956522 -1.562802 -1.115942 -1.084541 -1.118357   \n",
       "1  Kuntal-12345 -2.745819 -3.035117 -3.526756 -1.448161 -1.683946 -0.836120   \n",
       "2  Kuntal-23456 -1.618333 -1.761667 -1.893333 -1.003333 -0.115000 -0.823333   \n",
       "3  Kuntal-34567 -2.436242 -2.174497 -2.374161 -0.748322 -0.817114 -0.701342   \n",
       "4  Kuntal-45678 -1.081940 -1.645485 -1.613712 -0.735786 -0.476589 -0.551839   \n",
       "\n",
       "         7           8         9   ...        77        78        79  \\\n",
       "0 -0.971014  127.000000 -0.979311  ... -0.971327  0.146213  0.073120   \n",
       "1 -0.968227  -32.822742 -0.980840  ... -0.974362  0.132430  0.076034   \n",
       "2 -0.950000 -122.951667 -0.979620  ... -0.976280  0.129633  0.074873   \n",
       "3 -0.877517 -127.332215 -0.976527  ... -0.976860  0.127360  0.074920   \n",
       "4 -0.946488   -1.994983 -0.971327  ... -0.977773  0.121793  0.076720   \n",
       "\n",
       "         80        81        82        83        84        85  86  \n",
       "0 -0.172193 -0.307040  0.102567 -0.948207 -1.330800  0.302107   0  \n",
       "1 -0.164846 -0.277960  0.115208 -0.953792 -1.297826 -0.154349   0  \n",
       "2 -0.155993 -0.269873  0.115940 -0.955880 -1.230447  0.621247   0  \n",
       "3 -0.154340 -0.264933  0.117693 -0.957560 -1.216660 -0.755020   0  \n",
       "4 -0.152513 -0.254647  0.124420 -0.958300 -1.459600  0.174980   0  \n",
       "\n",
       "[5 rows x 87 columns]"
      ]
     },
     "execution_count": 5,
     "metadata": {},
     "output_type": "execute_result"
    }
   ],
   "source": [
    "data.head()"
   ]
  },
  {
   "cell_type": "code",
   "execution_count": 6,
   "metadata": {},
   "outputs": [
    {
     "data": {
      "text/plain": [
       "87"
      ]
     },
     "execution_count": 6,
     "metadata": {},
     "output_type": "execute_result"
    }
   ],
   "source": [
    "len(data.columns)"
   ]
  },
  {
   "cell_type": "code",
   "execution_count": 7,
   "metadata": {},
   "outputs": [],
   "source": [
    "noneatData = data[data[data.columns[len(data.columns)-1]]==0]"
   ]
  },
  {
   "cell_type": "code",
   "execution_count": 8,
   "metadata": {},
   "outputs": [],
   "source": [
    "eatData = data[data[data.columns[len(data.columns)-1]]==1]"
   ]
  },
  {
   "cell_type": "code",
   "execution_count": 9,
   "metadata": {},
   "outputs": [
    {
     "name": "stdout",
     "output_type": "stream",
     "text": [
      "(74469, 87) (3181, 87)\n"
     ]
    }
   ],
   "source": [
    "print(noneatData.shape,eatData.shape)"
   ]
  },
  {
   "cell_type": "code",
   "execution_count": 10,
   "metadata": {},
   "outputs": [],
   "source": [
    "noneatData = noneatData.sample(n=3181)"
   ]
  },
  {
   "cell_type": "code",
   "execution_count": 11,
   "metadata": {},
   "outputs": [
    {
     "name": "stdout",
     "output_type": "stream",
     "text": [
      "(3181, 87) (3181, 87)\n"
     ]
    }
   ],
   "source": [
    "print(noneatData.shape,eatData.shape)"
   ]
  },
  {
   "cell_type": "markdown",
   "metadata": {},
   "source": [
    "### Data Vectorization"
   ]
  },
  {
   "cell_type": "code",
   "execution_count": 12,
   "metadata": {},
   "outputs": [],
   "source": [
    "data = pd.concat([noneatData,eatData])"
   ]
  },
  {
   "cell_type": "code",
   "execution_count": 13,
   "metadata": {},
   "outputs": [],
   "source": [
    "X_data = np.array(data[data.columns[1:len(data.columns)-1]].values.tolist())\n",
    "X_unbalancedData = np.array(unbalancedData[unbalancedData.columns[1:len(data.columns)-1]].values.tolist())"
   ]
  },
  {
   "cell_type": "code",
   "execution_count": 14,
   "metadata": {},
   "outputs": [
    {
     "data": {
      "text/plain": [
       "(85,)"
      ]
     },
     "execution_count": 14,
     "metadata": {},
     "output_type": "execute_result"
    }
   ],
   "source": [
    "#data[data.columns[134]].head()\n",
    "X_data[0].shape\n",
    "X_unbalancedData[0].shape"
   ]
  },
  {
   "cell_type": "code",
   "execution_count": 15,
   "metadata": {},
   "outputs": [
    {
     "name": "stdout",
     "output_type": "stream",
     "text": [
      "(6362, 85) (77650, 85)\n"
     ]
    }
   ],
   "source": [
    "print (X_data.shape,X_unbalancedData.shape)"
   ]
  },
  {
   "cell_type": "code",
   "execution_count": 18,
   "metadata": {},
   "outputs": [],
   "source": [
    "Y_data = np.array(data[data.columns[len(data.columns)-1]].values.tolist())\n",
    "Y_unbalancedData = np.array(unbalancedData[unbalancedData.columns[len(data.columns)-1]].values.tolist())"
   ]
  },
  {
   "cell_type": "code",
   "execution_count": 19,
   "metadata": {},
   "outputs": [
    {
     "name": "stdout",
     "output_type": "stream",
     "text": [
      "(6362,) (77650,)\n"
     ]
    }
   ],
   "source": [
    "print(Y_data.shape,Y_unbalancedData.shape)"
   ]
  },
  {
   "cell_type": "markdown",
   "metadata": {},
   "source": [
    "### Feature Selection"
   ]
  },
  {
   "cell_type": "markdown",
   "metadata": {},
   "source": [
    "#### L1-based feature selection"
   ]
  },
  {
   "cell_type": "code",
   "execution_count": 20,
   "metadata": {},
   "outputs": [],
   "source": [
    "from sklearn.feature_selection import SelectFromModel\n",
    "from sklearn.svm import LinearSVC"
   ]
  },
  {
   "cell_type": "code",
   "execution_count": 21,
   "metadata": {},
   "outputs": [
    {
     "data": {
      "text/plain": [
       "(6362, 55)"
      ]
     },
     "execution_count": 21,
     "metadata": {},
     "output_type": "execute_result"
    }
   ],
   "source": [
    "lsvc = LinearSVC(C=0.01, penalty=\"l1\", dual=False).fit(X_data, Y_data)\n",
    "model = SelectFromModel(lsvc, prefit=True)\n",
    "X_new = model.transform(X_data)\n",
    "X_new.shape"
   ]
  },
  {
   "cell_type": "markdown",
   "metadata": {},
   "source": [
    "#### Tree-based feature selection (Works very good)"
   ]
  },
  {
   "cell_type": "code",
   "execution_count": 22,
   "metadata": {},
   "outputs": [
    {
     "name": "stdout",
     "output_type": "stream",
     "text": [
      "[0.00469829 0.00566913 0.00801616 0.00669469 0.00670479 0.00635247\n",
      " 0.00730395 0.014461   0.04456923 0.01344456 0.01142809 0.01643703\n",
      " 0.01822414 0.014001   0.01909824 0.00612257 0.00590021 0.00498197\n",
      " 0.00584329 0.00857013 0.00592222 0.00545433 0.00644512 0.00806092\n",
      " 0.01329461 0.02668974 0.01280352 0.01408375 0.0137896  0.01570861\n",
      " 0.01491645 0.01881479 0.00634293 0.00622365 0.00484843 0.00654677\n",
      " 0.00716128 0.00579357 0.00614422 0.00670863 0.00781754 0.01328113\n",
      " 0.03719127 0.01323858 0.01363767 0.01602155 0.01555052 0.01493906\n",
      " 0.01845836 0.00659681 0.00645011 0.00527067 0.00640089 0.00794136\n",
      " 0.00570592 0.00639245 0.00741911 0.00760713 0.01548263 0.02746423\n",
      " 0.01097048 0.01255014 0.01521843 0.01718777 0.01449689 0.01945395\n",
      " 0.00681975 0.00605669 0.00426021 0.0062344  0.00819546 0.00560726\n",
      " 0.00594533 0.00703288 0.00698598 0.0158017  0.0403151  0.01219513\n",
      " 0.01310175 0.01595174 0.01829277 0.01417774 0.02330383 0.00658345\n",
      " 0.00612009]\n",
      "(6362, 38)\n"
     ]
    }
   ],
   "source": [
    "from sklearn.ensemble import ExtraTreesClassifier\n",
    "from sklearn.feature_selection import SelectFromModel\n",
    "\n",
    "clfTree = ExtraTreesClassifier(n_estimators=50)\n",
    "clfTree = clfTree.fit(X_data, Y_data)\n",
    "print (clfTree.feature_importances_)  \n",
    "\n",
    "model = SelectFromModel(clfTree, prefit=True)\n",
    "X_new = model.transform(X_data)\n",
    "print (X_new.shape)"
   ]
  },
  {
   "cell_type": "code",
   "execution_count": 23,
   "metadata": {},
   "outputs": [
    {
     "name": "stdout",
     "output_type": "stream",
     "text": [
      "(77650, 38)\n"
     ]
    }
   ],
   "source": [
    "X_unbalanced_new = model.transform(X_unbalancedData)\n",
    "print(X_unbalanced_new.shape)"
   ]
  },
  {
   "cell_type": "markdown",
   "metadata": {},
   "source": [
    "### Classification"
   ]
  },
  {
   "cell_type": "code",
   "execution_count": 24,
   "metadata": {},
   "outputs": [],
   "source": [
    "from sklearn.svm import SVC"
   ]
  },
  {
   "cell_type": "code",
   "execution_count": 25,
   "metadata": {},
   "outputs": [],
   "source": [
    "clf = SVC(gamma='auto')"
   ]
  },
  {
   "cell_type": "code",
   "execution_count": 26,
   "metadata": {},
   "outputs": [],
   "source": [
    "from sklearn.model_selection import train_test_split\n",
    "X_train, X_test, y_train, y_test = train_test_split(X_new, Y_data, test_size=0.30, random_state=42, shuffle =True)"
   ]
  },
  {
   "cell_type": "code",
   "execution_count": 27,
   "metadata": {},
   "outputs": [
    {
     "name": "stdout",
     "output_type": "stream",
     "text": [
      "[1 1 1 ... 1 1 0]\n"
     ]
    }
   ],
   "source": [
    "print (y_train)"
   ]
  },
  {
   "cell_type": "code",
   "execution_count": 28,
   "metadata": {},
   "outputs": [
    {
     "data": {
      "text/plain": [
       "SVC(C=1.0, cache_size=200, class_weight=None, coef0=0.0,\n",
       "  decision_function_shape='ovr', degree=3, gamma='auto', kernel='rbf',\n",
       "  max_iter=-1, probability=False, random_state=None, shrinking=True,\n",
       "  tol=0.001, verbose=False)"
      ]
     },
     "execution_count": 28,
     "metadata": {},
     "output_type": "execute_result"
    }
   ],
   "source": [
    "clf.fit(X_train,y_train)"
   ]
  },
  {
   "cell_type": "code",
   "execution_count": 29,
   "metadata": {},
   "outputs": [
    {
     "name": "stdout",
     "output_type": "stream",
     "text": [
      "Accuracy: 82.87%\n"
     ]
    }
   ],
   "source": [
    "from sklearn.metrics import accuracy_score\n",
    "preds_val = clf.predict(X_test)\n",
    "accuracy = accuracy_score(y_test, preds_val)\n",
    "print(\"Accuracy: %.2f%%\" % (accuracy * 100.0))"
   ]
  },
  {
   "cell_type": "markdown",
   "metadata": {},
   "source": [
    "#### Parameter Search by GridSearch"
   ]
  },
  {
   "cell_type": "code",
   "execution_count": 30,
   "metadata": {},
   "outputs": [],
   "source": [
    "from sklearn.model_selection import GridSearchCV\n",
    "\n",
    "def svc_param_selection(XData, yData, nfolds):\n",
    "    Cs = [0.001, 0.01, 0.1, 1, 10]\n",
    "    gammas = [0.001, 0.01, 0.1, 1]\n",
    "    kernels = [\"linear\", \"rbf\",\"sigmoid\"]\n",
    "    #kernels = [\"linear\"]\n",
    "    param_grid = {'C': Cs, 'gamma' : gammas, 'kernel' : kernels}\n",
    "    grid_search = GridSearchCV(SVC(cache_size=2000), param_grid, cv=nfolds, n_jobs=-1, verbose=2)\n",
    "    grid_search.fit(XData, yData)\n",
    "    print(grid_search.best_params_)\n",
    "    return grid_search"
   ]
  },
  {
   "cell_type": "code",
   "execution_count": 31,
   "metadata": {},
   "outputs": [
    {
     "name": "stdout",
     "output_type": "stream",
     "text": [
      "Fitting 5 folds for each of 60 candidates, totalling 300 fits\n"
     ]
    },
    {
     "name": "stderr",
     "output_type": "stream",
     "text": [
      "[Parallel(n_jobs=-1)]: Using backend LokyBackend with 20 concurrent workers.\n",
      "[Parallel(n_jobs=-1)]: Done   1 tasks      | elapsed:    3.9s\n",
      "[Parallel(n_jobs=-1)]: Done 122 tasks      | elapsed:   14.8s\n",
      "[Parallel(n_jobs=-1)]: Done 300 out of 300 | elapsed:  3.6min finished\n"
     ]
    },
    {
     "name": "stdout",
     "output_type": "stream",
     "text": [
      "{'C': 10, 'gamma': 0.1, 'kernel': 'rbf'}\n"
     ]
    }
   ],
   "source": [
    "clf = svc_param_selection(X_train,y_train,5)"
   ]
  },
  {
   "cell_type": "code",
   "execution_count": 33,
   "metadata": {},
   "outputs": [
    {
     "data": {
      "text/plain": [
       "GridSearchCV(cv=5, error_score='raise-deprecating',\n",
       "       estimator=SVC(C=1.0, cache_size=2000, class_weight=None, coef0=0.0,\n",
       "  decision_function_shape='ovr', degree=3, gamma='auto_deprecated',\n",
       "  kernel='rbf', max_iter=-1, probability=False, random_state=None,\n",
       "  shrinking=True, tol=0.001, verbose=False),\n",
       "       fit_params=None, iid='warn', n_jobs=-1,\n",
       "       param_grid={'C': [0.001, 0.01, 0.1, 1, 10], 'gamma': [0.001, 0.01, 0.1, 1], 'kernel': ['linear', 'rbf', 'sigmoid']},\n",
       "       pre_dispatch='2*n_jobs', refit=True, return_train_score='warn',\n",
       "       scoring=None, verbose=2)"
      ]
     },
     "execution_count": 33,
     "metadata": {},
     "output_type": "execute_result"
    }
   ],
   "source": [
    "clf"
   ]
  },
  {
   "cell_type": "code",
   "execution_count": 33,
   "metadata": {},
   "outputs": [],
   "source": [
    "#clf = SVC(gamma=best_params['gamma'], C=best_params['C'], kernel = best_params['kernel'])\n",
    "#clf = SVC(gamma=0.001, C=0.1, kernel = 'linear')"
   ]
  },
  {
   "cell_type": "code",
   "execution_count": 34,
   "metadata": {},
   "outputs": [],
   "source": [
    "#clf.fit(X_train,y_train)"
   ]
  },
  {
   "cell_type": "markdown",
   "metadata": {},
   "source": [
    "#### Testing Accuracy"
   ]
  },
  {
   "cell_type": "code",
   "execution_count": 34,
   "metadata": {},
   "outputs": [
    {
     "name": "stdout",
     "output_type": "stream",
     "text": [
      "Accuracy: 83.24%\n"
     ]
    }
   ],
   "source": [
    "preds_val = clf.predict(X_test)\n",
    "accuracy = accuracy_score(y_test, preds_val)\n",
    "print(\"Accuracy: %.2f%%\" % (accuracy * 100.0))"
   ]
  },
  {
   "cell_type": "code",
   "execution_count": 35,
   "metadata": {},
   "outputs": [],
   "source": [
    "from sklearn.metrics import confusion_matrix"
   ]
  },
  {
   "cell_type": "code",
   "execution_count": 36,
   "metadata": {},
   "outputs": [
    {
     "data": {
      "text/plain": [
       "array([[867,  95],\n",
       "       [225, 722]])"
      ]
     },
     "execution_count": 36,
     "metadata": {},
     "output_type": "execute_result"
    }
   ],
   "source": [
    "confusion_matrix(y_test, preds_val)"
   ]
  },
  {
   "cell_type": "code",
   "execution_count": 37,
   "metadata": {},
   "outputs": [
    {
     "data": {
      "text/plain": [
       "(1909,)"
      ]
     },
     "execution_count": 37,
     "metadata": {},
     "output_type": "execute_result"
    }
   ],
   "source": [
    "preds_val.shape"
   ]
  },
  {
   "cell_type": "code",
   "execution_count": 38,
   "metadata": {},
   "outputs": [],
   "source": [
    "from sklearn.utils.multiclass import unique_labels\n",
    "import matplotlib.pyplot as plt\n",
    "def plot_confusion_matrix(y_true, y_pred, classes,\n",
    "                          normalize=False,\n",
    "                          title=None,\n",
    "                          cmap=plt.cm.Blues):\n",
    "    \"\"\"\n",
    "    This function prints and plots the confusion matrix.\n",
    "    Normalization can be applied by setting `normalize=True`.\n",
    "    \"\"\"\n",
    "    if not title:\n",
    "        if normalize:\n",
    "            title = 'Normalized confusion matrix'\n",
    "        else:\n",
    "            title = 'Confusion matrix, without normalization'\n",
    "\n",
    "    # Compute confusion matrix\n",
    "    cm = confusion_matrix(y_true, y_pred)\n",
    "    # Only use the labels that appear in the data\n",
    "    classes = classes[unique_labels(y_true, y_pred)]\n",
    "    if normalize:\n",
    "        cm = cm.astype('float') / cm.sum(axis=1)[:, np.newaxis]\n",
    "        print(\"Normalized confusion matrix\")\n",
    "    else:\n",
    "        print('Confusion matrix, without normalization')\n",
    "\n",
    "    print(cm)\n",
    "\n",
    "    fig, ax = plt.subplots()\n",
    "    im = ax.imshow(cm, interpolation='nearest', cmap=cmap)\n",
    "    ax.figure.colorbar(im, ax=ax)\n",
    "    # We want to show all ticks...\n",
    "    ax.set(xticks=np.arange(cm.shape[1]),\n",
    "           yticks=np.arange(cm.shape[0]),\n",
    "           # ... and label them with the respective list entries\n",
    "           xticklabels=classes, yticklabels=classes,\n",
    "           title=title,\n",
    "           ylabel='True label',\n",
    "           xlabel='Predicted label')\n",
    "\n",
    "    # Rotate the tick labels and set their alignment.\n",
    "    plt.setp(ax.get_xticklabels(), rotation=45, ha=\"right\",\n",
    "             rotation_mode=\"anchor\")\n",
    "\n",
    "    # Loop over data dimensions and create text annotations.\n",
    "    fmt = '.2f' if normalize else 'd'\n",
    "    thresh = cm.max() / 2.\n",
    "    for i in range(cm.shape[0]):\n",
    "        for j in range(cm.shape[1]):\n",
    "            ax.text(j, i, format(cm[i, j], fmt),\n",
    "                    ha=\"center\", va=\"center\",\n",
    "                    color=\"white\" if cm[i, j] > thresh else \"black\")\n",
    "    fig.tight_layout()\n",
    "    return ax"
   ]
  },
  {
   "cell_type": "code",
   "execution_count": 39,
   "metadata": {},
   "outputs": [
    {
     "name": "stdout",
     "output_type": "stream",
     "text": [
      "Confusion matrix, without normalization\n",
      "[[867  95]\n",
      " [225 722]]\n"
     ]
    },
    {
     "data": {
      "text/plain": [
       "<matplotlib.axes._subplots.AxesSubplot at 0x2b8812182f28>"
      ]
     },
     "execution_count": 39,
     "metadata": {},
     "output_type": "execute_result"
    },
    {
     "data": {
      "image/png": "[encoded data removed]",
      "text/plain": [
       "<Figure size 432x288 with 2 Axes>"
      ]
     },
     "metadata": {
      "needs_background": "light"
     },
     "output_type": "display_data"
    }
   ],
   "source": [
    "plot_confusion_matrix(y_test, preds_val,np.array(['Non-Eat','Eat']))"
   ]
  },
  {
   "cell_type": "markdown",
   "metadata": {},
   "source": [
    "#### Testing with Unbalanced data (77670 samples)"
   ]
  },
  {
   "cell_type": "code",
   "execution_count": 40,
   "metadata": {},
   "outputs": [
    {
     "name": "stdout",
     "output_type": "stream",
     "text": [
      "Accuracy: 88.83%\n"
     ]
    }
   ],
   "source": [
    "#print(X_unbalanced_new.shape)\n",
    "preds_val_unbalanced = clf.predict(X_unbalanced_new)\n",
    "accuracy = accuracy_score(Y_unbalancedData, preds_val_unbalanced)\n",
    "print(\"Accuracy: %.2f%%\" % (accuracy * 100.0))"
   ]
  },
  {
   "cell_type": "code",
   "execution_count": 41,
   "metadata": {},
   "outputs": [
    {
     "name": "stdout",
     "output_type": "stream",
     "text": [
      "Confusion matrix, without normalization\n",
      "[[66077  8392]\n",
      " [  283  2898]]\n"
     ]
    },
    {
     "data": {
      "text/plain": [
       "<matplotlib.axes._subplots.AxesSubplot at 0x2b888278d320>"
      ]
     },
     "execution_count": 41,
     "metadata": {},
     "output_type": "execute_result"
    },
    {
     "data": {
      "image/png": "[encoded data removed]",
      "text/plain": [
       "<Figure size 432x288 with 2 Axes>"
      ]
     },
     "metadata": {
      "needs_background": "light"
     },
     "output_type": "display_data"
    }
   ],
   "source": [
    "plot_confusion_matrix(Y_unbalancedData, preds_val_unbalanced,np.array(['Non-Eat','Eat']))"
   ]
  },
  {
   "cell_type": "markdown",
   "metadata": {},
   "source": [
    "### Training Accuracy"
   ]
  },
  {
   "cell_type": "code",
   "execution_count": 42,
   "metadata": {},
   "outputs": [
    {
     "name": "stdout",
     "output_type": "stream",
     "text": [
      "(4453, 38)\n",
      "Accuracy: 96.56%\n"
     ]
    }
   ],
   "source": [
    "print(X_train.shape)\n",
    "preds_val_train = clf.predict(X_train)\n",
    "accuracy = accuracy_score(y_train, preds_val_train)\n",
    "print(\"Accuracy: %.2f%%\" % (accuracy * 100.0))"
   ]
  },
  {
   "cell_type": "code",
   "execution_count": 43,
   "metadata": {},
   "outputs": [
    {
     "name": "stdout",
     "output_type": "stream",
     "text": [
      "Confusion matrix, without normalization\n",
      "[[2124   95]\n",
      " [  58 2176]]\n"
     ]
    },
    {
     "data": {
      "text/plain": [
       "<matplotlib.axes._subplots.AxesSubplot at 0x2b88828b6e80>"
      ]
     },
     "execution_count": 43,
     "metadata": {},
     "output_type": "execute_result"
    },
    {
     "data": {
      "image/png": "[encoded data removed]",
      "text/plain": [
       "<Figure size 432x288 with 2 Axes>"
      ]
     },
     "metadata": {
      "needs_background": "light"
     },
     "output_type": "display_data"
    }
   ],
   "source": [
    "plot_confusion_matrix(y_train, preds_val_train,np.array(['Non-Eat','Eat']))"
   ]
  },
  {
   "cell_type": "markdown",
   "metadata": {},
   "source": [
    "## Random Forest"
   ]
  },
  {
   "cell_type": "code",
   "execution_count": 44,
   "metadata": {},
   "outputs": [],
   "source": [
    "from  sklearn.ensemble import RandomForestClassifier\n",
    "model1 = RandomForestClassifier(random_state=0)"
   ]
  },
  {
   "cell_type": "code",
   "execution_count": 45,
   "metadata": {},
   "outputs": [],
   "source": [
    "from sklearn.model_selection import GridSearchCV\n",
    "parameters = {'n_estimators':(5,10,20,30,50), \n",
    "              'max_depth': range(1, 10, 5),\n",
    "             }\n",
    "    "
   ]
  },
  {
   "cell_type": "code",
   "execution_count": 46,
   "metadata": {},
   "outputs": [
    {
     "data": {
      "text/plain": [
       "dict_keys(['bootstrap', 'class_weight', 'criterion', 'max_depth', 'max_features', 'max_leaf_nodes', 'min_impurity_decrease', 'min_impurity_split', 'min_samples_leaf', 'min_samples_split', 'min_weight_fraction_leaf', 'n_estimators', 'n_jobs', 'oob_score', 'random_state', 'verbose', 'warm_start'])"
      ]
     },
     "execution_count": 46,
     "metadata": {},
     "output_type": "execute_result"
    }
   ],
   "source": [
    "model1.get_params().keys()"
   ]
  },
  {
   "cell_type": "code",
   "execution_count": 47,
   "metadata": {},
   "outputs": [],
   "source": [
    "gs_clf1 = GridSearchCV(model1,parameters, cv=5, n_jobs=1,verbose=2)"
   ]
  },
  {
   "cell_type": "code",
   "execution_count": 48,
   "metadata": {},
   "outputs": [
    {
     "name": "stdout",
     "output_type": "stream",
     "text": [
      "(4453, 38) (4453,)\n",
      "Fitting 5 folds for each of 10 candidates, totalling 50 fits\n",
      "[CV] max_depth=1, n_estimators=5 .....................................\n",
      "[CV] ...................... max_depth=1, n_estimators=5, total=   0.0s\n",
      "[CV] max_depth=1, n_estimators=5 .....................................\n",
      "[CV] ...................... max_depth=1, n_estimators=5, total=   0.0s\n",
      "[CV] max_depth=1, n_estimators=5 .....................................\n",
      "[CV] ...................... max_depth=1, n_estimators=5, total=   0.0s\n",
      "[CV] max_depth=1, n_estimators=5 .....................................\n",
      "[CV] ...................... max_depth=1, n_estimators=5, total=   0.0s\n",
      "[CV] max_depth=1, n_estimators=5 .....................................\n",
      "[CV] ...................... max_depth=1, n_estimators=5, total=   0.0s\n",
      "[CV] max_depth=1, n_estimators=10 ....................................\n",
      "[CV] ..................... max_depth=1, n_estimators=10, total=   0.0s\n",
      "[CV] max_depth=1, n_estimators=10 ....................................\n"
     ]
    },
    {
     "name": "stderr",
     "output_type": "stream",
     "text": [
      "[Parallel(n_jobs=1)]: Using backend SequentialBackend with 1 concurrent workers.\n",
      "[Parallel(n_jobs=1)]: Done   1 out of   1 | elapsed:    0.0s remaining:    0.0s\n"
     ]
    },
    {
     "name": "stdout",
     "output_type": "stream",
     "text": [
      "[CV] ..................... max_depth=1, n_estimators=10, total=   0.0s\n",
      "[CV] max_depth=1, n_estimators=10 ....................................\n",
      "[CV] ..................... max_depth=1, n_estimators=10, total=   0.0s\n",
      "[CV] max_depth=1, n_estimators=10 ....................................\n",
      "[CV] ..................... max_depth=1, n_estimators=10, total=   0.0s\n",
      "[CV] max_depth=1, n_estimators=10 ....................................\n",
      "[CV] ..................... max_depth=1, n_estimators=10, total=   0.0s\n",
      "[CV] max_depth=1, n_estimators=20 ....................................\n",
      "[CV] ..................... max_depth=1, n_estimators=20, total=   0.1s\n",
      "[CV] max_depth=1, n_estimators=20 ....................................\n",
      "[CV] ..................... max_depth=1, n_estimators=20, total=   0.1s\n",
      "[CV] max_depth=1, n_estimators=20 ....................................\n",
      "[CV] ..................... max_depth=1, n_estimators=20, total=   0.1s\n",
      "[CV] max_depth=1, n_estimators=20 ....................................\n",
      "[CV] ..................... max_depth=1, n_estimators=20, total=   0.1s\n",
      "[CV] max_depth=1, n_estimators=20 ....................................\n",
      "[CV] ..................... max_depth=1, n_estimators=20, total=   0.1s\n",
      "[CV] max_depth=1, n_estimators=30 ....................................\n",
      "[CV] ..................... max_depth=1, n_estimators=30, total=   0.1s\n",
      "[CV] max_depth=1, n_estimators=30 ....................................\n",
      "[CV] ..................... max_depth=1, n_estimators=30, total=   0.1s\n",
      "[CV] max_depth=1, n_estimators=30 ....................................\n",
      "[CV] ..................... max_depth=1, n_estimators=30, total=   0.1s\n",
      "[CV] max_depth=1, n_estimators=30 ....................................\n",
      "[CV] ..................... max_depth=1, n_estimators=30, total=   0.1s\n",
      "[CV] max_depth=1, n_estimators=30 ....................................\n",
      "[CV] ..................... max_depth=1, n_estimators=30, total=   0.1s\n",
      "[CV] max_depth=1, n_estimators=50 ....................................\n",
      "[CV] ..................... max_depth=1, n_estimators=50, total=   0.1s\n",
      "[CV] max_depth=1, n_estimators=50 ....................................\n",
      "[CV] ..................... max_depth=1, n_estimators=50, total=   0.1s\n",
      "[CV] max_depth=1, n_estimators=50 ....................................\n",
      "[CV] ..................... max_depth=1, n_estimators=50, total=   0.1s\n",
      "[CV] max_depth=1, n_estimators=50 ....................................\n",
      "[CV] ..................... max_depth=1, n_estimators=50, total=   0.1s\n",
      "[CV] max_depth=1, n_estimators=50 ....................................\n",
      "[CV] ..................... max_depth=1, n_estimators=50, total=   0.1s\n",
      "[CV] max_depth=6, n_estimators=5 .....................................\n",
      "[CV] ...................... max_depth=6, n_estimators=5, total=   0.0s\n",
      "[CV] max_depth=6, n_estimators=5 .....................................\n",
      "[CV] ...................... max_depth=6, n_estimators=5, total=   0.0s\n",
      "[CV] max_depth=6, n_estimators=5 .....................................\n",
      "[CV] ...................... max_depth=6, n_estimators=5, total=   0.0s\n",
      "[CV] max_depth=6, n_estimators=5 .....................................\n",
      "[CV] ...................... max_depth=6, n_estimators=5, total=   0.0s\n",
      "[CV] max_depth=6, n_estimators=5 .....................................\n",
      "[CV] ...................... max_depth=6, n_estimators=5, total=   0.0s\n",
      "[CV] max_depth=6, n_estimators=10 ....................................\n",
      "[CV] ..................... max_depth=6, n_estimators=10, total=   0.1s\n",
      "[CV] max_depth=6, n_estimators=10 ....................................\n",
      "[CV] ..................... max_depth=6, n_estimators=10, total=   0.1s\n",
      "[CV] max_depth=6, n_estimators=10 ....................................\n",
      "[CV] ..................... max_depth=6, n_estimators=10, total=   0.1s\n",
      "[CV] max_depth=6, n_estimators=10 ....................................\n",
      "[CV] ..................... max_depth=6, n_estimators=10, total=   0.1s\n",
      "[CV] max_depth=6, n_estimators=10 ....................................\n",
      "[CV] ..................... max_depth=6, n_estimators=10, total=   0.1s\n",
      "[CV] max_depth=6, n_estimators=20 ....................................\n",
      "[CV] ..................... max_depth=6, n_estimators=20, total=   0.2s\n",
      "[CV] max_depth=6, n_estimators=20 ....................................\n",
      "[CV] ..................... max_depth=6, n_estimators=20, total=   0.2s\n",
      "[CV] max_depth=6, n_estimators=20 ....................................\n",
      "[CV] ..................... max_depth=6, n_estimators=20, total=   0.2s\n",
      "[CV] max_depth=6, n_estimators=20 ....................................\n",
      "[CV] ..................... max_depth=6, n_estimators=20, total=   0.2s\n",
      "[CV] max_depth=6, n_estimators=20 ....................................\n",
      "[CV] ..................... max_depth=6, n_estimators=20, total=   0.2s\n",
      "[CV] max_depth=6, n_estimators=30 ....................................\n",
      "[CV] ..................... max_depth=6, n_estimators=30, total=   0.2s\n",
      "[CV] max_depth=6, n_estimators=30 ....................................\n",
      "[CV] ..................... max_depth=6, n_estimators=30, total=   0.2s\n",
      "[CV] max_depth=6, n_estimators=30 ....................................\n",
      "[CV] ..................... max_depth=6, n_estimators=30, total=   0.2s\n",
      "[CV] max_depth=6, n_estimators=30 ....................................\n",
      "[CV] ..................... max_depth=6, n_estimators=30, total=   0.2s\n",
      "[CV] max_depth=6, n_estimators=30 ....................................\n",
      "[CV] ..................... max_depth=6, n_estimators=30, total=   0.3s\n",
      "[CV] max_depth=6, n_estimators=50 ....................................\n",
      "[CV] ..................... max_depth=6, n_estimators=50, total=   0.4s\n",
      "[CV] max_depth=6, n_estimators=50 ....................................\n",
      "[CV] ..................... max_depth=6, n_estimators=50, total=   0.4s\n",
      "[CV] max_depth=6, n_estimators=50 ....................................\n",
      "[CV] ..................... max_depth=6, n_estimators=50, total=   0.4s\n",
      "[CV] max_depth=6, n_estimators=50 ....................................\n",
      "[CV] ..................... max_depth=6, n_estimators=50, total=   0.4s\n",
      "[CV] max_depth=6, n_estimators=50 ....................................\n",
      "[CV] ..................... max_depth=6, n_estimators=50, total=   0.4s\n"
     ]
    },
    {
     "name": "stderr",
     "output_type": "stream",
     "text": [
      "[Parallel(n_jobs=1)]: Done  50 out of  50 | elapsed:    6.7s finished\n"
     ]
    }
   ],
   "source": [
    "print (X_train.shape, y_train.shape)\n",
    "model2 = gs_clf1.fit(X_train, y_train)"
   ]
  },
  {
   "cell_type": "code",
   "execution_count": 49,
   "metadata": {},
   "outputs": [
    {
     "name": "stdout",
     "output_type": "stream",
     "text": [
      "{'max_depth': 6, 'n_estimators': 30}\n",
      "max_depth: 6\n",
      "n_estimators: 30\n"
     ]
    }
   ],
   "source": [
    "print(model2.best_params_)\n",
    "for param_name in sorted(parameters.keys()):\n",
    "    print(\"%s: %r\" % (param_name, model2.best_params_[param_name]))"
   ]
  },
  {
   "cell_type": "code",
   "execution_count": 50,
   "metadata": {},
   "outputs": [
    {
     "name": "stdout",
     "output_type": "stream",
     "text": [
      "Accuracy: 83.97%\n"
     ]
    }
   ],
   "source": [
    "from sklearn.metrics import accuracy_score\n",
    "preds_val = model2.predict(X_test)\n",
    "accuracy = accuracy_score(y_test, preds_val)\n",
    "print(\"Accuracy: %.2f%%\" % (accuracy * 100.0))"
   ]
  },
  {
   "cell_type": "code",
   "execution_count": 51,
   "metadata": {},
   "outputs": [
    {
     "name": "stdout",
     "output_type": "stream",
     "text": [
      "Confusion matrix, without normalization\n",
      "[[834 128]\n",
      " [178 769]]\n"
     ]
    },
    {
     "data": {
      "text/plain": [
       "<matplotlib.axes._subplots.AxesSubplot at 0x2b88829fba20>"
      ]
     },
     "execution_count": 51,
     "metadata": {},
     "output_type": "execute_result"
    },
    {
     "data": {
      "image/png": "[encoded data removed]",
      "text/plain": [
       "<Figure size 432x288 with 2 Axes>"
      ]
     },
     "metadata": {
      "needs_background": "light"
     },
     "output_type": "display_data"
    }
   ],
   "source": [
    "plot_confusion_matrix(y_test, preds_val,np.array(['Non-Eat','Eat']))"
   ]
  },
  {
   "cell_type": "markdown",
   "metadata": {},
   "source": [
    "#### Training Accuracy"
   ]
  },
  {
   "cell_type": "code",
   "execution_count": 52,
   "metadata": {},
   "outputs": [
    {
     "name": "stdout",
     "output_type": "stream",
     "text": [
      "Accuracy: 86.98%\n"
     ]
    }
   ],
   "source": [
    "from sklearn.metrics import accuracy_score\n",
    "preds_val_train = model2.predict(X_train)\n",
    "accuracy = accuracy_score(y_train, preds_val_train)\n",
    "print(\"Accuracy: %.2f%%\" % (accuracy * 100.0))"
   ]
  },
  {
   "cell_type": "code",
   "execution_count": 53,
   "metadata": {},
   "outputs": [
    {
     "name": "stdout",
     "output_type": "stream",
     "text": [
      "Confusion matrix, without normalization\n",
      "[[1973  246]\n",
      " [ 334 1900]]\n"
     ]
    },
    {
     "data": {
      "text/plain": [
       "<matplotlib.axes._subplots.AxesSubplot at 0x2b8882899ac8>"
      ]
     },
     "execution_count": 53,
     "metadata": {},
     "output_type": "execute_result"
    },
    {
     "data": {
      "image/png": "[encoded data removed]",
      "text/plain": [
       "<Figure size 432x288 with 2 Axes>"
      ]
     },
     "metadata": {
      "needs_background": "light"
     },
     "output_type": "display_data"
    }
   ],
   "source": [
    "plot_confusion_matrix(y_train, preds_val_train,np.array(['Non-Eat','Eat']))"
   ]
  },
  {
   "cell_type": "markdown",
   "metadata": {},
   "source": [
    "#### Test with unbalanced data"
   ]
  },
  {
   "cell_type": "code",
   "execution_count": 54,
   "metadata": {},
   "outputs": [
    {
     "name": "stdout",
     "output_type": "stream",
     "text": [
      "Accuracy: 87.58%\n"
     ]
    }
   ],
   "source": [
    "from sklearn.metrics import accuracy_score\n",
    "preds_val = model2.predict(X_unbalanced_new)\n",
    "accuracy = accuracy_score(Y_unbalancedData, preds_val)\n",
    "print(\"Accuracy: %.2f%%\" % (accuracy * 100.0))"
   ]
  },
  {
   "cell_type": "code",
   "execution_count": 55,
   "metadata": {},
   "outputs": [
    {
     "name": "stdout",
     "output_type": "stream",
     "text": [
      "Confusion matrix, without normalization\n",
      "[[65336  9133]\n",
      " [  512  2669]]\n"
     ]
    },
    {
     "data": {
      "text/plain": [
       "<matplotlib.axes._subplots.AxesSubplot at 0x2b8882aa36a0>"
      ]
     },
     "execution_count": 55,
     "metadata": {},
     "output_type": "execute_result"
    },
    {
     "data": {
      "image/png": "[encoded data removed]",
      "text/plain": [
       "<Figure size 432x288 with 2 Axes>"
      ]
     },
     "metadata": {
      "needs_background": "light"
     },
     "output_type": "display_data"
    }
   ],
   "source": [
    "plot_confusion_matrix(Y_unbalancedData, preds_val,np.array(['Non-Eat','Eat']))"
   ]
  },
  {
   "cell_type": "code",
   "execution_count": null,
   "metadata": {},
   "outputs": [],
   "source": []
  },
  {
   "cell_type": "code",
   "execution_count": null,
   "metadata": {},
   "outputs": [],
   "source": []
  },
  {
   "cell_type": "code",
   "execution_count": null,
   "metadata": {},
   "outputs": [],
   "source": []
  }
 ],
 "metadata": {
  "kernelspec": {
   "display_name": "Python 3",
   "language": "python",
   "name": "python3"
  },
  "language_info": {
   "codemirror_mode": {
    "name": "ipython",
    "version": 3
   },
   "file_extension": ".py",
   "mimetype": "text/x-python",
   "name": "python",
   "nbconvert_exporter": "python",
   "pygments_lexer": "ipython3",
   "version": "3.6.7"
  }
 },
 "nbformat": 4,
 "nbformat_minor": 2
}
